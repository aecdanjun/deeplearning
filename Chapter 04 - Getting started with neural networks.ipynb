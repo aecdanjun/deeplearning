{
 "cells": [
  {
   "cell_type": "markdown",
   "metadata": {},
   "source": [
    "## 1. Introduction\n",
    "\n",
    "This chapter covers\n",
    "- **Core** components of **neural networks**\n",
    "- An introduction to **Keras**\n",
    "- Using neural networks to solve basic classification and regression problems\n",
    "    - Classifying movie reviews as positive or negative (**binary classification**)\n",
    "    - Classifying news wires by topic (**multiclass classification**)\n",
    "    - Estimating the price of a house, given real-estate data (**regression**)"
   ]
  },
  {
   "cell_type": "markdown",
   "metadata": {},
   "source": [
    "## 2. Anatomy of a neural network\n",
    "\n",
    "As you saw in the previous chapters, training a neural network revolves around the following objects:\n",
    " - **Layers**, which are combined into a network (or model)\n",
    " - The **input data** and corresponding **targets**\n",
    " - The **loss function**, which defines the **feedback signal used for learning**\n",
    " - The **optimizer**, which determines **how learning proceeds**\n",
    " \n",
    " <img width=\"400\" alt=\"creating a repo\" src=\"https://drive.google.com/uc?export=view&id=1CFWZALw9MnJvStvh8VkCAZFiVLs7E4lW\">"
   ]
  },
  {
   "cell_type": "markdown",
   "metadata": {},
   "source": [
    "### 2.1 Layers: the building blocks of deep learning\n",
    "\n",
    "A layer is a data-processing module that takes as input one or more tensors and that outputs one or more tensors. Different layers are appropriate for different tensor formats and different types of data processing.\n",
    "\n",
    "- **fully connected or dense layers**\n",
    "    - simple vector data, stored in 2D tensors of shape\n",
    "- **recurrent layers such as an LSTM layer**\n",
    "    - Sequence data, stored in 3D tensors of shape\n",
    "- **2D convolution layers (Conv2D)**\n",
    "    - image data, stored in 4D tensors"
   ]
  },
  {
   "cell_type": "markdown",
   "metadata": {},
   "source": [
    "### 2.2 Loss functions and optimizers: keys to configuring the learning process\n",
    "\n",
    "Once the network architecture is defined, you still have to choose two more things:\n",
    "- **Loss function** (objective function) — The quantity that will be minimized during training. It represents a measure of success for the task at hand.\n",
    "- **Optimizer** — Determines how the network will be updated based on the loss function. It implements a specific variant of stochastic gradient descent (SGD).\n",
    "\n",
    "**A neural network that has multiple outputs may have multiple loss functions (one per output)**. But the gradient-descent process must be based on a single scalar loss value; so, for multiloss networks, all losses are combined (via averaging) into a single scalar quantity.\n",
    "\n",
    "Choosing the right objective function for the right problem is extremely important.\n",
    "\n",
    "- **binary crossentropy**\n",
    "    - two-class classification\n",
    "- **categorical crossentropy**\n",
    "    - many-class classification problem\n",
    "- **mean squared error** \n",
    "    - regression problem\n",
    "- **connectionist temporal classification (CTC)**\n",
    "    - sequence-learning problem"
   ]
  },
  {
   "cell_type": "markdown",
   "metadata": {},
   "source": [
    "## 3. Introduction to Keras\n",
    "\n",
    "[Keras](https://keras.io/) is a **deep-learning framework for Python** that provides a convenient way to define and train almost any kind of deep-learning model.\n",
    "\n",
    "Keras has the following key features:\n",
    "- It allows the same code to run seamlessly on CPU or GPU.\n",
    "- It has a user-friendly API that makes it easy to quickly prototype deep-learning models.\n",
    "- It has built-in support for convolutional networks (for computer vision), recurrent\n",
    "networks (for sequence processing), and any combination of both.\n",
    "- It supports arbitrary network architectures: multi-input or multi-output models, layer sharing, model sharing, and so on. \n",
    "\n",
    "\n",
    "Keras is appropriate for building essentially any **deep-learning model**, from a **generative adversarial network**\n",
    "to a **neural Turing machine**.\n",
    "\n",
    "Keras is distributed under the permissive MIT license, which means **it can be freely used in commercial projects**. It’s compatible with any version of Python from 2.7 to 3.6 (as of april 2018).\n",
    "\n",
    "\n",
    "**Keras is a model-level library**, providing high-level building blocks for developing deep-learning models. **It doesn’t handle low-level operations** such as tensor manipulation and differentiation. Instead, **it relies on a specialized, well-optimized tensor library** to do so, serving as the backend engine of Keras.\n",
    "\n",
    "<img width=\"300\" alt=\"creating a repo\" src=\"https://drive.google.com/uc?export=view&id=1XeOgdVuT35U9ahTWwO5vfW6EiUlklrql\">"
   ]
  },
  {
   "cell_type": "markdown",
   "metadata": {},
   "source": [
    "## 4.0 Classifying movie reviews: a binary classification example\n",
    "\n",
    "**Two-class classification**, or **binary classification**, may be the most widely applied kind of machine-learning problem. In this example, you’ll learn to classify movie reviews as positive or negative, based on the text content of the reviews.\n",
    "\n",
    "### 4.1 IMDB dataset\n",
    "\n",
    "You’ll work with the IMDB dataset: a set of 50,000 highly polarized reviews from the\n",
    "Internet Movie Database. They’re split into:\n",
    "\n",
    "- 25,000 reviews for training\n",
    "- 25,000 reviews for testing\n",
    "\n",
    "each set consisting of 50% negative and 50% positive reviews."
   ]
  },
  {
   "cell_type": "code",
   "execution_count": 1,
   "metadata": {},
   "outputs": [
    {
     "name": "stderr",
     "output_type": "stream",
     "text": [
      "/Users/ivanovitch/anaconda3/lib/python3.6/site-packages/h5py/__init__.py:36: FutureWarning: Conversion of the second argument of issubdtype from `float` to `np.floating` is deprecated. In future, it will be treated as `np.float64 == np.dtype(float).type`.\n",
      "  from ._conv import register_converters as _register_converters\n",
      "Using TensorFlow backend.\n"
     ]
    },
    {
     "name": "stdout",
     "output_type": "stream",
     "text": [
      "Downloading data from https://s3.amazonaws.com/text-datasets/imdb.npz\n",
      "17465344/17464789 [==============================] - 8s 0us/step\n"
     ]
    }
   ],
   "source": [
    "# loading the IMDB dataset\n",
    "\n",
    "from keras.datasets import imdb\n",
    "\n",
    "# num_words=10000 means you’ll only keep the top 10,000 most frequently occurring words in the training data.\n",
    "(train_data, train_labels), (test_data, test_labels) = imdb.load_data(num_words=10000)"
   ]
  },
  {
   "cell_type": "code",
   "execution_count": 20,
   "metadata": {},
   "outputs": [
    {
     "name": "stdout",
     "output_type": "stream",
     "text": [
      "[1, 14, 22, 16, 43, 530, 973, 1622, 1385, 65, 458, 4468, 66, 3941, 4, 173, 36, 256, 5, 25, 100, 43, 838, 112, 50, 670, 2, 9, 35, 480, 284, 5, 150, 4, 172, 112, 167, 2, 336, 385, 39, 4, 172, 4536, 1111, 17, 546, 38, 13, 447, 4, 192, 50, 16, 6, 147, 2025, 19, 14, 22, 4, 1920, 4613, 469, 4, 22, 71, 87, 12, 16, 43, 530, 38, 76, 15, 13, 1247, 4, 22, 17, 515, 17, 12, 16, 626, 18, 2, 5, 62, 386, 12, 8, 316, 8, 106, 5, 4, 2223, 5244, 16, 480, 66, 3785, 33, 4, 130, 12, 16, 38, 619, 5, 25, 124, 51, 36, 135, 48, 25, 1415, 33, 6, 22, 12, 215, 28, 77, 52, 5, 14, 407, 16, 82, 2, 8, 4, 107, 117, 5952, 15, 256, 4, 2, 7, 3766, 5, 723, 36, 71, 43, 530, 476, 26, 400, 317, 46, 7, 4, 2, 1029, 13, 104, 88, 4, 381, 15, 297, 98, 32, 2071, 56, 26, 141, 6, 194, 7486, 18, 4, 226, 22, 21, 134, 476, 26, 480, 5, 144, 30, 5535, 18, 51, 36, 28, 224, 92, 25, 104, 4, 226, 65, 16, 38, 1334, 88, 12, 16, 283, 5, 16, 4472, 113, 103, 32, 15, 16, 5345, 19, 178, 32]\n"
     ]
    }
   ],
   "source": [
    "# The variables train_data and test_data are lists of reviews; \n",
    "# each review is a list of word indices (encoding a sequence of words)\n",
    "print(train_data[0])"
   ]
  },
  {
   "cell_type": "code",
   "execution_count": 21,
   "metadata": {},
   "outputs": [
    {
     "data": {
      "text/plain": [
       "1"
      ]
     },
     "execution_count": 21,
     "metadata": {},
     "output_type": "execute_result"
    }
   ],
   "source": [
    "# train_labels and test_labels are lists of 0s and 1s, where 0 stands for negative and 1 stands for positive\n",
    "train_labels[0]"
   ]
  },
  {
   "cell_type": "code",
   "execution_count": 22,
   "metadata": {},
   "outputs": [
    {
     "data": {
      "text/plain": [
       "9999"
      ]
     },
     "execution_count": 22,
     "metadata": {},
     "output_type": "execute_result"
    }
   ],
   "source": [
    "# Because you’re restricting yourself to the top 10,000 most frequent words, no word index will exceed 10,000\n",
    "max([max(sequence) for sequence in train_data])"
   ]
  },
  {
   "cell_type": "code",
   "execution_count": 54,
   "metadata": {},
   "outputs": [
    {
     "data": {
      "text/plain": [
       "\"? big hair big boobs bad music and a giant safety pin these are the words to best describe this terrible movie i love cheesy horror movies and i've seen hundreds but this had got to be on of the worst ever made the plot is paper thin and ridiculous the acting is an abomination the script is completely laughable the best is the end showdown with the cop and how he worked out who the killer is it's just so damn terribly written the clothes are sickening and funny in equal ? the hair is big lots of boobs ? men wear those cut ? shirts that show off their ? sickening that men actually wore them and the music is just ? trash that plays over and over again in almost every scene there is trashy music boobs and ? taking away bodies and the gym still doesn't close for ? all joking aside this is a truly bad film whose only charm is to look back on the disaster that was the 80's and have a good old laugh at how bad everything was back then\""
      ]
     },
     "execution_count": 54,
     "metadata": {},
     "output_type": "execute_result"
    }
   ],
   "source": [
    "# how to decode one sequence back to english\n",
    "\n",
    "# get all word indexes ('word': id)\n",
    "word_index = imdb.get_word_index()\n",
    "\n",
    "# get a new dict (id: 'word')\n",
    "reverse_word_index = dict([(value, key) for (key, value) in word_index.items()])\n",
    "\n",
    "# Note that the indices are offset by 3 because 0, 1, and 2 are reserved \n",
    "# indices for “padding,” “start of sequence,” and “unknown.”\n",
    "decoded_review = ' '.join([reverse_word_index.get(i - 3, '?') for i in train_data[1]])\n",
    "decoded_review"
   ]
  },
  {
   "cell_type": "markdown",
   "metadata": {},
   "source": [
    "### 4.1.1 Preparing the data\n",
    "\n",
    "**You can’t feed lists of integers into a neural network**. You have to turn your lists into tensors. There are two ways to do that:\n",
    "- Pad your lists so that they all have the same length, turn them into an integer tensor of shape (samples, word_indices)\n",
    "- One-hot encode your lists to turn them into vectors of 0s and 1s. This would mean, for instance, turning the sequence [3, 5] into a 10,000-dimensional vector that would be all 0s except for indices 3 and 5, which would be 1s. "
   ]
  },
  {
   "cell_type": "code",
   "execution_count": 44,
   "metadata": {},
   "outputs": [],
   "source": [
    "# Encoding the integer sequences into a binary matrix (25000,10000)\n",
    "import numpy as np\n",
    "\n",
    "def vectorize_sequences(sequences, dimension=10000):\n",
    "    results = np.zeros((len(sequences), dimension))\n",
    "    for i, sequence in enumerate(sequences):\n",
    "        results[i, sequence] = 1.\n",
    "    return results\n",
    "\n",
    "x_train = vectorize_sequences(train_data)\n",
    "x_test = vectorize_sequences(test_data)"
   ]
  },
  {
   "cell_type": "code",
   "execution_count": 51,
   "metadata": {},
   "outputs": [
    {
     "name": "stdout",
     "output_type": "stream",
     "text": [
      "(25000, 10000)\n",
      "[0. 1. 1. ... 0. 0. 0.]\n"
     ]
    }
   ],
   "source": [
    "print(x_train.shape)\n",
    "print(x_train[0])"
   ]
  },
  {
   "cell_type": "code",
   "execution_count": 52,
   "metadata": {},
   "outputs": [],
   "source": [
    "# You should also vectorize your labels, which is straightforward\n",
    "\n",
    "y_train = np.asarray(train_labels).astype('float32')\n",
    "y_test = np.asarray(test_labels).astype('float32')"
   ]
  },
  {
   "cell_type": "markdown",
   "metadata": {},
   "source": [
    "### 4.1.2 Building your network\n",
    "\n",
    "- The input data is vectors\n",
    "- The labels are scalars (1s and 0s)\n",
    "\n",
    "A type of network that performs well on such a problem is **a simple stack of fully connected (Dense) layers** with relu activations \n",
    "\n",
    ">```python\n",
    "Dense(16,activation='relu')\n",
    "```\n",
    "\n",
    "The argument being passed to each Dense layer (16) is the number of hidden units of the layer. **A hidden unit is a dimension in the representation space of the layer**. Remember that each such Dense layer with a relu activation implements the following chain of tensor operations:\n",
    "\n",
    ">```python\n",
    "output = relu(dot(W, input) + b)\n",
    "```\n",
    "\n",
    "Having 16 hidden units means the weight matrix W will have shape (input_dimension,16): the dot product with W will project the input data onto a 16-dimensional representation space (and then you’ll add the bias vector b and apply the relu operation). \n",
    "\n",
    "You can intuitively understand the dimensionality of your representation space as **“how much freedom you’re allowing the network to have when learning internal representations.”** \n",
    "\n",
    "- Having more hidden units (a higher-dimensional representation space) allows your network to learn more-complex representations\n",
    "- But, having more hidden units make the network more computationally expensive and may lead to **learning unwanted patterns (patterns that will improve performance on the training data but not on the test data).**\n",
    "\n",
    "\n",
    "There are two **key architecture decisions** to be made about such a stack of Dense layers:\n",
    "- How many layers to use\n",
    "- How many hidden units to choose for each layer\n",
    "\n",
    "In the next chapter, you’ll learn formal principles to guide you in making these choices. For the time being, you’ll have to trust me with the following architecture choice:\n",
    "\n",
    "- Two intermediate layers with 16 hidden units each\n",
    "- A third layer that will output the scalar prediction regarding the sentiment of the current review\n",
    "\n",
    "The **intermediate layers will use relu** as their activation function, and the **final layer will use a sigmoid** activation so as to output a probability (a score between 0 and 1).\n",
    "\n",
    "<table>\n",
    "<tr>\n",
    "    <td> <img src=\"https://drive.google.com/uc?export=view&id=1tGaZcNRpAmDaSEAOGCKGhH9QtPHlbDUi\" width=\"150\"> </td>\n",
    "    <td> <img src=\"https://drive.google.com/uc?export=view&id=1ku-YktP--VeodXH1oaUPPtkvgfSVclm7\" width=\"300\"> </td>\n",
    "    <td> <img src=\"https://drive.google.com/uc?export=view&id=1LoV52worh3m-S9uL4YvyDm2NVOcVDvaJ\" width=\"300\"> </td>\n",
    "</tr>\n",
    "</table>\n",
    "\n"
   ]
  },
  {
   "cell_type": "code",
   "execution_count": 57,
   "metadata": {},
   "outputs": [],
   "source": [
    "from keras import models\n",
    "from keras import layers\n",
    "\n",
    "# the model definition\n",
    "model = models.Sequential()\n",
    "model.add(layers.Dense(16, activation='relu', input_shape=(10000,)))\n",
    "model.add(layers.Dense(16, activation='relu'))\n",
    "model.add(layers.Dense(1, activation='sigmoid'))\n",
    "\n",
    "# compile the model\n",
    "model.compile(optimizer='rmsprop',\n",
    "              loss='binary_crossentropy',\n",
    "              metrics=['accuracy'])"
   ]
  },
  {
   "cell_type": "markdown",
   "metadata": {},
   "source": [
    "### 4.1.3 Validating your approach\n",
    "\n",
    "In order to monitor during training the accuracy of the model on data it has never seen before, you’ll create a validation set by setting apart 10,000 samples from the original training data."
   ]
  },
  {
   "cell_type": "code",
   "execution_count": 58,
   "metadata": {},
   "outputs": [],
   "source": [
    "# Setting aside a validation set\n",
    "x_val = x_train[:10000]\n",
    "partial_x_train = x_train[10000:]\n",
    "\n",
    "y_val = y_train[:10000]\n",
    "partial_y_train = y_train[10000:]"
   ]
  },
  {
   "cell_type": "code",
   "execution_count": 59,
   "metadata": {},
   "outputs": [
    {
     "name": "stdout",
     "output_type": "stream",
     "text": [
      "Train on 15000 samples, validate on 10000 samples\n",
      "Epoch 1/20\n",
      "15000/15000 [==============================] - 5s 318us/step - loss: 0.5085 - acc: 0.7815 - val_loss: 0.3797 - val_acc: 0.8690\n",
      "Epoch 2/20\n",
      "15000/15000 [==============================] - 3s 221us/step - loss: 0.3004 - acc: 0.9045 - val_loss: 0.3002 - val_acc: 0.8900\n",
      "Epoch 3/20\n",
      "15000/15000 [==============================] - 3s 185us/step - loss: 0.2179 - acc: 0.9281 - val_loss: 0.3081 - val_acc: 0.8717\n",
      "Epoch 4/20\n",
      "15000/15000 [==============================] - 3s 170us/step - loss: 0.1750 - acc: 0.9435 - val_loss: 0.2840 - val_acc: 0.8839\n",
      "Epoch 5/20\n",
      "15000/15000 [==============================] - 3s 170us/step - loss: 0.1426 - acc: 0.9543 - val_loss: 0.2848 - val_acc: 0.8866\n",
      "Epoch 6/20\n",
      "15000/15000 [==============================] - 2s 165us/step - loss: 0.1151 - acc: 0.9651 - val_loss: 0.3145 - val_acc: 0.8777\n",
      "Epoch 7/20\n",
      "15000/15000 [==============================] - 2s 166us/step - loss: 0.0978 - acc: 0.9706 - val_loss: 0.3127 - val_acc: 0.8848\n",
      "Epoch 8/20\n",
      "15000/15000 [==============================] - 2s 166us/step - loss: 0.0806 - acc: 0.9765 - val_loss: 0.3848 - val_acc: 0.8660\n",
      "Epoch 9/20\n",
      "15000/15000 [==============================] - 2s 166us/step - loss: 0.0659 - acc: 0.9821 - val_loss: 0.3631 - val_acc: 0.8779\n",
      "Epoch 10/20\n",
      "15000/15000 [==============================] - 2s 165us/step - loss: 0.0553 - acc: 0.9854 - val_loss: 0.3843 - val_acc: 0.8790\n",
      "Epoch 11/20\n",
      "15000/15000 [==============================] - 3s 208us/step - loss: 0.0452 - acc: 0.9889 - val_loss: 0.4169 - val_acc: 0.8763\n",
      "Epoch 12/20\n",
      "15000/15000 [==============================] - 3s 167us/step - loss: 0.0383 - acc: 0.9914 - val_loss: 0.4507 - val_acc: 0.8703\n",
      "Epoch 13/20\n",
      "15000/15000 [==============================] - 4s 246us/step - loss: 0.0296 - acc: 0.9933 - val_loss: 0.4703 - val_acc: 0.8727\n",
      "Epoch 14/20\n",
      "15000/15000 [==============================] - 3s 185us/step - loss: 0.0242 - acc: 0.9949 - val_loss: 0.5029 - val_acc: 0.8722\n",
      "Epoch 15/20\n",
      "15000/15000 [==============================] - 3s 171us/step - loss: 0.0177 - acc: 0.9977 - val_loss: 0.5347 - val_acc: 0.8695\n",
      "Epoch 16/20\n",
      "15000/15000 [==============================] - 3s 172us/step - loss: 0.0164 - acc: 0.9972 - val_loss: 0.5723 - val_acc: 0.8694\n",
      "Epoch 17/20\n",
      "15000/15000 [==============================] - 3s 172us/step - loss: 0.0096 - acc: 0.9993 - val_loss: 0.6513 - val_acc: 0.8599\n",
      "Epoch 18/20\n",
      "15000/15000 [==============================] - 3s 168us/step - loss: 0.0120 - acc: 0.9974 - val_loss: 0.6447 - val_acc: 0.8683\n",
      "Epoch 19/20\n",
      "15000/15000 [==============================] - 3s 174us/step - loss: 0.0053 - acc: 0.9997 - val_loss: 0.7350 - val_acc: 0.8563\n",
      "Epoch 20/20\n",
      "15000/15000 [==============================] - 3s 176us/step - loss: 0.0104 - acc: 0.9973 - val_loss: 0.7036 - val_acc: 0.8662\n"
     ]
    }
   ],
   "source": [
    "# Training your model\n",
    "history = model.fit(partial_x_train,\n",
    "                    partial_y_train,\n",
    "                    epochs=20,\n",
    "                    batch_size=512,\n",
    "                    validation_data=(x_val, y_val))"
   ]
  },
  {
   "cell_type": "code",
   "execution_count": 79,
   "metadata": {},
   "outputs": [
    {
     "data": {
      "image/png": "[encoded data removed]",
      "text/plain": [
       "<matplotlib.figure.Figure at 0x11f72f978>"
      ]
     },
     "metadata": {},
     "output_type": "display_data"
    }
   ],
   "source": [
    "# Plotting the training and validation loss\n",
    "\n",
    "import matplotlib.pyplot as plt\n",
    "%matplotlib inline\n",
    "\n",
    "history_dict = history.history\n",
    "\n",
    "# trainning loss X validation loss\n",
    "loss_values = history_dict['loss']\n",
    "val_loss_values = history_dict['val_loss']\n",
    "epochs = range(1, len(loss_values) + 1)\n",
    "\n",
    "# trainning accuracy X validation accuracy\n",
    "acc_values = history_dict['acc']\n",
    "val_acc_values = history_dict['val_acc']\n",
    "\n",
    "fig = plt.figure(figsize=(14, 6))\n",
    "ax1 = fig.add_subplot(1,2,1)\n",
    "ax2 = fig.add_subplot(1,2,2)\n",
    "\n",
    "ax1.plot(epochs, loss_values, 'bo', label='Training loss')\n",
    "ax1.plot(epochs, val_loss_values, 'b', label='Validationb loss')\n",
    "ax1.set_title('Training and validation loss')\n",
    "ax1.set_xlabel('Epochs')\n",
    "ax1.set_ylabel('Loss')\n",
    "ax1.legend()\n",
    "ax1.set_xticks(epochs)\n",
    "\n",
    "ax2.plot(epochs, acc_values, 'bo', label='Training acc')\n",
    "ax2.plot(epochs, val_acc_values, 'b', label='Validation acc')\n",
    "ax2.set_title('Training and validation accuracy')\n",
    "ax2.set_xlabel('Epochs')\n",
    "ax2.set_xticks(epochs)\n",
    "ax2.set_ylabel('Loss')\n",
    "ax2.legend()\n",
    "\n",
    "plt.show()"
   ]
  },
  {
   "cell_type": "markdown",
   "metadata": {},
   "source": [
    "- the training loss decreases with every epoch\n",
    "- the training accuracy increases with every epoch\n",
    "\n",
    "That’s what you would expect when running gradient descent optimization — the quantity you’re trying to minimize should be less with every iteration. But that isn’t the case for the validation loss and accuracy: they seem to peak at the fourth epoch. This is an example of what we warned against earlier: a model that performs better on the training data isn’t necessarily a model that will do better on data it has never seen before. In precise terms, what you’re seeing is **overfitting**: after the second epoch, you’re overoptimizing on the training data, and you end up learning representations that are specific to the training data and don’t generalize to data outside of the training set."
   ]
  },
  {
   "cell_type": "code",
   "execution_count": 84,
   "metadata": {},
   "outputs": [
    {
     "name": "stdout",
     "output_type": "stream",
     "text": [
      "25000/25000 [==============================] - 2s 90us/step\n"
     ]
    },
    {
     "data": {
      "text/plain": [
       "[0.7774300403499603, 0.85032]"
      ]
     },
     "execution_count": 84,
     "metadata": {},
     "output_type": "execute_result"
    }
   ],
   "source": [
    "# this approach achieves an accuracy of 85%. With state-of-the-art approaches, you should be able to get close to 95%\n",
    "results = model.evaluate(x_test, y_test)\n",
    "results"
   ]
  },
  {
   "cell_type": "markdown",
   "metadata": {},
   "source": [
    "### 4.1.4 Using a trained network to generate predictions on new data\n",
    "\n",
    "After having trained a network, you’ll want to use it in a practical setting. You can generate the likelihood of reviews being positive by using the predict method:"
   ]
  },
  {
   "cell_type": "code",
   "execution_count": 85,
   "metadata": {},
   "outputs": [
    {
     "data": {
      "text/plain": [
       "array([[0.00902936],\n",
       "       [0.9999999 ],\n",
       "       [0.7757505 ],\n",
       "       ...,\n",
       "       [0.00240106],\n",
       "       [0.00890265],\n",
       "       [0.8260735 ]], dtype=float32)"
      ]
     },
     "execution_count": 85,
     "metadata": {},
     "output_type": "execute_result"
    }
   ],
   "source": [
    "model.predict(x_test)"
   ]
  },
  {
   "cell_type": "markdown",
   "metadata": {},
   "source": [
    "model.predict_classes(x_test)"
   ]
  },
  {
   "cell_type": "markdown",
   "metadata": {},
   "source": [
    "## 4.2 Further experiments\n",
    "\n",
    "The following experiments will help convince you that the architecture choices you’ve made are all fairly reasonable, although there’s still room for improvement:\n",
    "1. You used two hidden layers. **Try using one or three hidden layers**, and see how doing so affects validation and test accuracy.\n",
    "2. Try using layers with more **hidden units** or fewer hidden units: **32 units, 64 units**, and so on.\n",
    "3. Try using the **mse loss** function instead of binary_crossentropy.\n",
    "4. Try using the **tanh activation** (an activation that was popular in the early days of neural networks) instead of relu."
   ]
  },
  {
   "cell_type": "markdown",
   "metadata": {},
   "source": [
    "### 4.2.1 Model 1"
   ]
  },
  {
   "cell_type": "code",
   "execution_count": 102,
   "metadata": {},
   "outputs": [],
   "source": [
    "# parameters to be evaluate\n",
    "\n",
    "hidden_units = [16,32,64]\n",
    "activations_funct = ['relu','tanh']\n",
    "loss_funct = ['binary_crossentropy', 'mean_squared_error']\n",
    "training = []\n",
    "results = []"
   ]
  },
  {
   "cell_type": "code",
   "execution_count": null,
   "metadata": {},
   "outputs": [],
   "source": [
    "# the model definition\n",
    "# layer_1,layer_2\n",
    "\n",
    "for hidden in hidden_units:\n",
    "    for activations in activations_funct:\n",
    "        for losses in loss_funct:\n",
    "            model = models.Sequential()\n",
    "            model.add(layers.Dense(hidden, activation=activations, input_shape=(10000,)))\n",
    "            model.add(layers.Dense(1, activation='sigmoid'))\n",
    "\n",
    "            # compile the model\n",
    "            model.compile(optimizer='rmsprop',loss=losses,metrics=['accuracy'])\n",
    "            \n",
    "            # Training your model\n",
    "            history = model.fit(partial_x_train,\n",
    "                                partial_y_train,\n",
    "                                epochs=20,\n",
    "                                batch_size=512,\n",
    "                                validation_data=(x_val, y_val))\n",
    "            training.append(history)\n",
    "            results.append(model.evaluate(x_test, y_test))"
   ]
  },
  {
   "cell_type": "markdown",
   "metadata": {},
   "source": [
    "| Model           | Hidden Unit | Loss Function | Evaluation (accuracy) |\n",
    "|-----------------|-------------|---------------|-----------------------|\n",
    "| **relu,sigmoid(1)** | **16**          | **binary_cross**  |       ** 0.8574  **             |\n",
    "| relu,sigmoid(1) | 16          | mse           |        0.8551             |\n",
    "| tanh,sigmoid(1) | 16          | binary_cross  |        0.8513               |\n",
    "| tanh,sigmoid(1) | 16          | mse           |        0.8515               |\n",
    "| relu,sigmoid(1) | 32          | binary_cross  |         0.8500              |\n",
    "| relu,sigmoid(1) | 32          | mse           |         0.8538              |\n",
    "| tanh,sigmoid(1) | 32          | binary_cross  |          0.8460             |\n",
    "| tanh,sigmoid(1) | 32          | mse           |          0.8469             |\n",
    "| relu,sigmoid(1) | 64          | binary_cross  |         0.8470              |\n",
    "| relu,sigmoid(1) | 64          | mse           |          0.8502             |\n",
    "| tanh,sigmoid(1) | 64          | binary_cross  |         0.8464              |\n",
    "| tanh,sigmoid(1) | 64          | mse           |         0.7906              |\n",
    "\n",
    "The best accuary was 0.8575. \n",
    "\n",
    "- For all results the activation function relu was better than tanh\n",
    "- 16 hidden units was a better choice when compared to 32 and 64"
   ]
  },
  {
   "cell_type": "markdown",
   "metadata": {},
   "source": [
    "### 4.2.2 Model 2"
   ]
  },
  {
   "cell_type": "code",
   "execution_count": 104,
   "metadata": {},
   "outputs": [],
   "source": [
    "# parameters to be evaluate\n",
    "\n",
    "hidden_units = [16,32,64]\n",
    "activations_funct = ['relu','tanh']\n",
    "loss_funct = ['binary_crossentropy', 'mean_squared_error']\n",
    "training = []\n",
    "results = []"
   ]
  },
  {
   "cell_type": "code",
   "execution_count": null,
   "metadata": {},
   "outputs": [],
   "source": [
    "# the model definition\n",
    "# layer_1,layer_2,layer_3\n",
    "\n",
    "for hidden in hidden_units:\n",
    "    for activations in activations_funct:\n",
    "        for losses in loss_funct:\n",
    "            model = models.Sequential()\n",
    "            model.add(layers.Dense(hidden, activation=activations, input_shape=(10000,)))\n",
    "            model.add(layers.Dense(hidden, activation=activations))\n",
    "            model.add(layers.Dense(1, activation='sigmoid'))\n",
    "\n",
    "            # compile the model\n",
    "            model.compile(optimizer='rmsprop',loss=losses,metrics=['accuracy'])\n",
    "            \n",
    "            # Training your model\n",
    "            history = model.fit(partial_x_train,\n",
    "                                partial_y_train,\n",
    "                                epochs=20,\n",
    "                                batch_size=512,\n",
    "                                validation_data=(x_val, y_val))\n",
    "            training.append(history)\n",
    "            results.append(model.evaluate(x_test, y_test))"
   ]
  },
  {
   "cell_type": "markdown",
   "metadata": {},
   "source": [
    "| Model           | Hidden Unit | Loss Function | Evaluation (accuracy) |\n",
    "|-----------------|-------------|---------------|-----------------------|\n",
    "| relu,relu,sigmoid(1) | 16         | binary_cross  |        0.8519               |\n",
    "| relu,relu,sigmoid(1) | 16          | mse           |        0.8510             |\n",
    "| tanh,relu,sigmoid(1) | 16          | binary_cross  |        0.8433               |\n",
    "| tanh,relu,sigmoid(1) | 16          | mse           |        0.8503               |\n",
    "| relu,relu,sigmoid(1) | 32          | binary_cross  |         0.8485              |\n",
    "| relu,relu,sigmoid(1) | 32          | mse           |         0.8534              |\n",
    "| tanh,relu,sigmoid(1) | 32          | binary_cross  |          0.8458             |\n",
    "| tanh,relu,sigmoid(1) | 32          | mse           |          0.8519             |\n",
    "| relu,relu,sigmoid(1) | 64          | binary_cross  |         0.8535              |\n",
    "| **relu,relu,sigmoid(1)** | **64**          | **mse**           |          **0.8588**             |\n",
    "| tanh,relu,sigmoid(1) | 64          | binary_cross  |         0.8432              |\n",
    "| tanh,relu,sigmoid(1) | 64          | mse           |         0.8550              |\n",
    "\n",
    "The best accuary was 0.8588. \n",
    "\n",
    "- For all results the activation function relu was better than tanh\n",
    "- 64 hidden units was a better choice when compared to 16 and 32"
   ]
  },
  {
   "cell_type": "markdown",
   "metadata": {},
   "source": [
    "### 4.2.3 Model 3"
   ]
  },
  {
   "cell_type": "code",
   "execution_count": 105,
   "metadata": {},
   "outputs": [],
   "source": [
    "# parameters to be evaluate\n",
    "\n",
    "hidden_units = [16,32,64]\n",
    "activations_funct = ['relu','tanh']\n",
    "loss_funct = ['binary_crossentropy', 'mean_squared_error']\n",
    "training = []\n",
    "results = []"
   ]
  },
  {
   "cell_type": "code",
   "execution_count": null,
   "metadata": {},
   "outputs": [],
   "source": [
    "# the model definition\n",
    "# layer_1,layer_2,layer_3, layer_4\n",
    "\n",
    "for hidden in hidden_units:\n",
    "    for activations in activations_funct:\n",
    "        for losses in loss_funct:\n",
    "            model = models.Sequential()\n",
    "            model.add(layers.Dense(hidden, activation=activations, input_shape=(10000,)))\n",
    "            model.add(layers.Dense(hidden, activation=activations))\n",
    "            model.add(layers.Dense(hidden, activation=activations))\n",
    "            model.add(layers.Dense(1, activation='sigmoid'))\n",
    "\n",
    "            # compile the model\n",
    "            model.compile(optimizer='rmsprop',loss=losses,metrics=['accuracy'])\n",
    "            \n",
    "            # Training your model\n",
    "            history = model.fit(partial_x_train,\n",
    "                                partial_y_train,\n",
    "                                epochs=20,\n",
    "                                batch_size=512,\n",
    "                                validation_data=(x_val, y_val))\n",
    "            training.append(history)\n",
    "            results.append(model.evaluate(x_test, y_test))"
   ]
  },
  {
   "cell_type": "markdown",
   "metadata": {},
   "source": [
    "| Model           | Hidden Unit | Loss Function | Evaluation (accuracy) |\n",
    "|-----------------|-------------|---------------|-----------------------|\n",
    "| relu,relu,relu,sigmoid(1) | 16         | binary_cross  |        0.8509               |\n",
    "| relu,relu,relu,sigmoid(1) | 16          | mse           |        0.8532             |\n",
    "| tanh,relu,relu,sigmoid(1) | 16          | binary_cross  |        0.8457               |\n",
    "| tanh,relu,relu,sigmoid(1) | 16          | mse           |        0.8530               |\n",
    "| relu,relu,relu,sigmoid(1) | 32          | binary_cross  |         0.8480              |\n",
    "| relu,relu,relu,sigmoid(1) | 32          | mse           |         0.8546              |\n",
    "| tanh,relu,relu,sigmoid(1) | 32          | binary_cross  |          0.8432             |\n",
    "| tanh,relu,relu,sigmoid(1) | 32          | mse           |          0.8514             |\n",
    "| relu,relu,relu,sigmoid(1) | 64          | binary_cross  |         0.8589              |\n",
    "| **relu,relu,relu,sigmoid(1)** | **64**          | **mse**           |          **0.8614**             |\n",
    "| tanh,relu,relu,sigmoid(1) | 64          | binary_cross  |         0.8452              |\n",
    "| tanh,relu,relu,sigmoid(1) | 64          | mse           |         0.8530              |\n",
    "\n",
    "The best accuary was 0.8614. \n",
    "\n",
    "- For all results the activation function relu was better than tanh\n",
    "- 64 hidden units was a better choice when compared to 16 and 32"
   ]
  },
  {
   "cell_type": "markdown",
   "metadata": {},
   "source": [
    "## 4.3 Wrapping up\n",
    "\n",
    "Here’s what you should take away from this example:\n",
    "- You usually need to do quite a bit of **preprocessing on your raw data** in order to be able to feed it—as tensors—into a neural network. \n",
    "- Stacks of Dense layers with **relu activations can solve a wide range of problems** and you’ll likely use them frequently.\n",
    "- In a **binary classification** problem (two output classes), your network should **end with a Dense layer with one unit and a sigmoid activation**: the output of your network should be a scalar between 0 and 1, encoding a probability.\n",
    "- The **rmsprop optimizer** is generally a good enough choice, whatever your problem. That’s one less thing for you to worry about.\n",
    "- As they get better on their training data, neural networks eventually start **overfitting** and end up obtaining increasingly worse results on data they’ve never seen before. Be sure to always monitor performance on data that is outside of\n",
    "the training set."
   ]
  },
  {
   "cell_type": "markdown",
   "metadata": {},
   "source": [
    "# 5. Classifying newswires:a multiclass classification example\n",
    "\n",
    "In the previous section, you saw how to classify vector inputs into two mutually exclusive classes using a densely connected neural network. **But what happens when you have more than two classes?**\n",
    "\n",
    "In this section, you’ll build a network to **classify Reuters newswires into 46 mutually exclusive topics**. Because you have many classes, this problem is an instance of multiclass classification; and because each data point should be classified into only one category, the problem is more specifically an instance of **single-label, multiclass classification**. If each data point could belong to multiple categories (in this case, topics), you’d be facing a **multilabel, multiclass classification problem**."
   ]
  },
  {
   "cell_type": "code",
   "execution_count": 106,
   "metadata": {},
   "outputs": [
    {
     "name": "stdout",
     "output_type": "stream",
     "text": [
      "Downloading data from https://s3.amazonaws.com/text-datasets/reuters.npz\n",
      "2113536/2110848 [==============================] - 12s 6us/step\n"
     ]
    }
   ],
   "source": [
    "# Loading the Reuters dataset\n",
    "\n",
    "from keras.datasets import reuters\n",
    "\n",
    "(train_data, train_labels), (test_data, test_labels) = reuters.load_data(num_words=10000)"
   ]
  },
  {
   "cell_type": "code",
   "execution_count": 109,
   "metadata": {},
   "outputs": [
    {
     "name": "stdout",
     "output_type": "stream",
     "text": [
      "8982\n",
      "2246\n"
     ]
    }
   ],
   "source": [
    "# 8982 train data samples\n",
    "print(len(train_data))\n",
    "\n",
    "# 2246 test data samples\n",
    "print(len(test_data))"
   ]
  },
  {
   "cell_type": "code",
   "execution_count": 111,
   "metadata": {},
   "outputs": [
    {
     "name": "stdout",
     "output_type": "stream",
     "text": [
      "[1, 4, 686, 867, 558, 4, 37, 38, 309, 2276, 465, 893, 3541, 114, 2902, 69, 312, 35, 15, 7, 335, 1679, 21, 25, 3675, 2, 3498, 58, 69, 68, 493, 5, 25, 465, 377, 2430, 4, 293, 1172, 739, 4379, 8, 7, 1510, 1131, 13, 899, 6, 4, 990, 309, 415, 4519, 6920, 645, 3916, 791, 5, 4379, 75, 8, 24, 10, 1311, 4677, 5, 344, 756, 7, 2, 231, 9691, 2603, 1413, 43, 509, 43, 68, 327, 5, 2, 3498, 297, 638, 73, 430, 22, 4, 580, 7, 48, 41, 30, 2, 136, 4, 344, 298, 4, 580, 40, 344, 5078, 2, 291, 1488, 10, 3148, 5, 231, 6250, 1308, 5, 8250, 7043, 21, 2, 1622, 990, 309, 415, 265, 5992, 8945, 1149, 9118, 2, 4, 344, 9691, 756, 3729, 2, 4667, 2, 3249, 28, 10, 2190, 24, 77, 41, 682, 10, 4851, 2048, 7, 4, 5540, 2926, 1598, 22, 370, 5954, 7541, 5, 54, 5232, 1685, 2916, 10, 1571, 946, 60, 51, 3249, 5249, 4, 73, 2135, 669, 4, 580, 64, 10, 4280, 6, 2, 25, 482, 35, 150, 377, 2430, 7, 10, 2, 836, 2, 4730, 6920, 5, 4379, 2, 2, 3541, 8, 4, 344, 291, 2, 298, 4228, 6, 2223, 24, 2, 41, 343, 430, 210, 6, 3498, 297, 64, 10, 2281, 455, 5, 7003, 125, 222, 17, 12]\n"
     ]
    }
   ],
   "source": [
    "# print a train data sample\n",
    "print(train_data[3])"
   ]
  },
  {
   "cell_type": "code",
   "execution_count": 112,
   "metadata": {},
   "outputs": [
    {
     "name": "stdout",
     "output_type": "stream",
     "text": [
      "Downloading data from https://s3.amazonaws.com/text-datasets/reuters_word_index.json\n",
      "557056/550378 [==============================] - 1s 3us/step\n"
     ]
    },
    {
     "data": {
      "text/plain": [
       "\"? the farmers home administration the u s agriculture department's farm lending arm could lose about seven billion dlrs in outstanding principal on its severely ? borrowers or about one fourth of its farm loan portfolio the general accounting office gao said in remarks prepared for delivery to the senate agriculture committee brian crowley senior associate director of gao also said that a preliminary analysis of proposed changes in ? financial eligibility standards indicated as many as one half of ? borrowers who received new loans from the agency in 1986 would be ? under the proposed system the agency has proposed evaluating ? credit using a variety of financial ratios instead of relying solely on ? ability senate agriculture committee chairman patrick leahy d vt ? the proposed eligibility changes telling ? administrator ? clark at a hearing that they would mark a dramatic shift in the agency's purpose away from being farmers' lender of last resort toward becoming a big city bank but clark defended the new regulations saying the agency had a responsibility to ? its 70 billion dlr loan portfolio in a ? yet ? manner crowley of gao ? ? arm said the proposed credit ? system attempted to ensure that ? would make loans only to borrowers who had a reasonable change of repaying their debt reuter 3\""
      ]
     },
     "execution_count": 112,
     "metadata": {},
     "output_type": "execute_result"
    }
   ],
   "source": [
    "# Decoding newswires back to text\n",
    "word_index = reuters.get_word_index()\n",
    "\n",
    "reverse_word_index = dict([(value, key) for (key, value) in word_index.items()])\n",
    "decoded_newswire = ' '.join([reverse_word_index.get(i - 3, '?') for i in train_data[3]])\n",
    "decoded_newswire"
   ]
  },
  {
   "cell_type": "code",
   "execution_count": 113,
   "metadata": {},
   "outputs": [],
   "source": [
    "# Encoding the data\n",
    "\n",
    "import numpy as np\n",
    "\n",
    "def vectorize_sequences(sequences, dimension=10000):\n",
    "    results = np.zeros((len(sequences), dimension))\n",
    "    for i, sequence in enumerate(sequences):\n",
    "        results[i, sequence] = 1.\n",
    "    return results\n",
    "\n",
    "x_train = vectorize_sequences(train_data)\n",
    "x_test = vectorize_sequences(test_data)"
   ]
  },
  {
   "cell_type": "code",
   "execution_count": 114,
   "metadata": {},
   "outputs": [],
   "source": [
    "from keras.utils.np_utils import to_categorical\n",
    "\n",
    "one_hot_train_labels = to_categorical(train_labels)\n",
    "one_hot_test_labels = to_categorical(test_labels)"
   ]
  },
  {
   "cell_type": "code",
   "execution_count": 115,
   "metadata": {},
   "outputs": [],
   "source": [
    "# Model definition\n",
    "\n",
    "from keras import models\n",
    "from keras import layers\n",
    "\n",
    "model = models.Sequential()\n",
    "model.add(layers.Dense(64, activation='relu', input_shape=(10000,)))\n",
    "model.add(layers.Dense(64, activation='relu'))\n",
    "model.add(layers.Dense(46, activation='softmax'))"
   ]
  },
  {
   "cell_type": "markdown",
   "metadata": {},
   "source": [
    "There are two other things you should note about this architecture:\n",
    "\n",
    "- **You end the network with a Dense layer of size 46**. This means for each input sample, the network will output a 46-dimensional vector. Each entry in this vector (each dimension) will encode a different output class.\n",
    "- The **last layer uses a softmax activation**. You saw this pattern in the MNIST example. It means the network will output a probability distribution over the 46 different output classes—for every input sample, the network will produce a 46-\n",
    "dimensional output vector, where output[i] is the probability that the sample belongs to class i. **The 46 scores will sum to 1.**"
   ]
  },
  {
   "cell_type": "code",
   "execution_count": 116,
   "metadata": {},
   "outputs": [],
   "source": [
    "# Compiling the model\n",
    "model.compile(optimizer='rmsprop',\n",
    "              loss='categorical_crossentropy',\n",
    "              metrics=['accuracy'])"
   ]
  },
  {
   "cell_type": "markdown",
   "metadata": {},
   "source": [
    "**The best loss function to use in this case is categorical_crossentropy**. It measures the distance between two probability distributions: here, between the probability distribution output by the network and the true distribution of the labels. By minimizing the distance between these two distributions, you train the network to output something as close as possible to the true labels."
   ]
  },
  {
   "cell_type": "code",
   "execution_count": 117,
   "metadata": {},
   "outputs": [],
   "source": [
    "# Setting aside a validation set\n",
    "\n",
    "x_val = x_train[:1000]\n",
    "partial_x_train = x_train[1000:]\n",
    "\n",
    "y_val = one_hot_train_labels[:1000]\n",
    "partial_y_train = one_hot_train_labels[1000:]"
   ]
  },
  {
   "cell_type": "code",
   "execution_count": 118,
   "metadata": {},
   "outputs": [
    {
     "name": "stdout",
     "output_type": "stream",
     "text": [
      "Train on 7982 samples, validate on 1000 samples\n",
      "Epoch 1/20\n",
      "7982/7982 [==============================] - 3s 353us/step - loss: 2.5322 - acc: 0.4955 - val_loss: 1.7208 - val_acc: 0.6120\n",
      "Epoch 2/20\n",
      "7982/7982 [==============================] - 2s 246us/step - loss: 1.4452 - acc: 0.6879 - val_loss: 1.3459 - val_acc: 0.7060\n",
      "Epoch 3/20\n",
      "7982/7982 [==============================] - 2s 213us/step - loss: 1.0953 - acc: 0.7651 - val_loss: 1.1708 - val_acc: 0.7430\n",
      "Epoch 4/20\n",
      "7982/7982 [==============================] - 2s 214us/step - loss: 0.8697 - acc: 0.8165 - val_loss: 1.0793 - val_acc: 0.7590\n",
      "Epoch 5/20\n",
      "7982/7982 [==============================] - 2s 213us/step - loss: 0.7034 - acc: 0.8472 - val_loss: 0.9844 - val_acc: 0.7810\n",
      "Epoch 6/20\n",
      "7982/7982 [==============================] - 2s 212us/step - loss: 0.5667 - acc: 0.8802 - val_loss: 0.9411 - val_acc: 0.8040\n",
      "Epoch 7/20\n",
      "7982/7982 [==============================] - 2s 212us/step - loss: 0.4581 - acc: 0.9048 - val_loss: 0.9083 - val_acc: 0.8020\n",
      "Epoch 8/20\n",
      "7982/7982 [==============================] - 2s 212us/step - loss: 0.3695 - acc: 0.9231 - val_loss: 0.9363 - val_acc: 0.7890\n",
      "Epoch 9/20\n",
      "7982/7982 [==============================] - 2s 212us/step - loss: 0.3032 - acc: 0.9315 - val_loss: 0.8917 - val_acc: 0.8090\n",
      "Epoch 10/20\n",
      "7982/7982 [==============================] - 2s 212us/step - loss: 0.2537 - acc: 0.9414 - val_loss: 0.9071 - val_acc: 0.8110\n",
      "Epoch 11/20\n",
      "7982/7982 [==============================] - 2s 235us/step - loss: 0.2187 - acc: 0.9471 - val_loss: 0.9177 - val_acc: 0.8130\n",
      "Epoch 12/20\n",
      "7982/7982 [==============================] - 2s 213us/step - loss: 0.1873 - acc: 0.9508 - val_loss: 0.9027 - val_acc: 0.8130\n",
      "Epoch 13/20\n",
      "7982/7982 [==============================] - 2s 216us/step - loss: 0.1703 - acc: 0.9521 - val_loss: 0.9323 - val_acc: 0.8110\n",
      "Epoch 14/20\n",
      "7982/7982 [==============================] - 2s 232us/step - loss: 0.1536 - acc: 0.9554 - val_loss: 0.9689 - val_acc: 0.8050\n",
      "Epoch 15/20\n",
      "7982/7982 [==============================] - 2s 224us/step - loss: 0.1390 - acc: 0.9560 - val_loss: 0.9686 - val_acc: 0.8150\n",
      "Epoch 16/20\n",
      "7982/7982 [==============================] - 2s 225us/step - loss: 0.1313 - acc: 0.9560 - val_loss: 1.0220 - val_acc: 0.8060\n",
      "Epoch 17/20\n",
      "7982/7982 [==============================] - 2s 216us/step - loss: 0.1217 - acc: 0.9579 - val_loss: 1.0254 - val_acc: 0.7970\n",
      "Epoch 18/20\n",
      "7982/7982 [==============================] - 2s 229us/step - loss: 0.1198 - acc: 0.9582 - val_loss: 1.0430 - val_acc: 0.8060\n",
      "Epoch 19/20\n",
      "7982/7982 [==============================] - 2s 217us/step - loss: 0.1138 - acc: 0.9597 - val_loss: 1.0955 - val_acc: 0.7970\n",
      "Epoch 20/20\n",
      "7982/7982 [==============================] - 2s 215us/step - loss: 0.1111 - acc: 0.9593 - val_loss: 1.0674 - val_acc: 0.8020\n"
     ]
    }
   ],
   "source": [
    "# Training the model\n",
    "\n",
    "history = model.fit(partial_x_train,\n",
    "                    partial_y_train,\n",
    "                    epochs=20,\n",
    "                    batch_size=512,\n",
    "                    validation_data=(x_val, y_val))"
   ]
  },
  {
   "cell_type": "code",
   "execution_count": 119,
   "metadata": {},
   "outputs": [
    {
     "data": {
      "image/png": "[encoded data removed]",
      "text/plain": [
       "<matplotlib.figure.Figure at 0x11f72f518>"
      ]
     },
     "metadata": {},
     "output_type": "display_data"
    }
   ],
   "source": [
    "# Plotting the training and validation loss\n",
    "\n",
    "import matplotlib.pyplot as plt\n",
    "%matplotlib inline\n",
    "\n",
    "history_dict = history.history\n",
    "\n",
    "# trainning loss X validation loss\n",
    "loss_values = history_dict['loss']\n",
    "val_loss_values = history_dict['val_loss']\n",
    "epochs = range(1, len(loss_values) + 1)\n",
    "\n",
    "# trainning accuracy X validation accuracy\n",
    "acc_values = history_dict['acc']\n",
    "val_acc_values = history_dict['val_acc']\n",
    "\n",
    "fig = plt.figure(figsize=(14, 6))\n",
    "ax1 = fig.add_subplot(1,2,1)\n",
    "ax2 = fig.add_subplot(1,2,2)\n",
    "\n",
    "ax1.plot(epochs, loss_values, 'bo', label='Training loss')\n",
    "ax1.plot(epochs, val_loss_values, 'b', label='Validationb loss')\n",
    "ax1.set_title('Training and validation loss')\n",
    "ax1.set_xlabel('Epochs')\n",
    "ax1.set_ylabel('Loss')\n",
    "ax1.legend()\n",
    "ax1.set_xticks(epochs)\n",
    "\n",
    "ax2.plot(epochs, acc_values, 'bo', label='Training acc')\n",
    "ax2.plot(epochs, val_acc_values, 'b', label='Validation acc')\n",
    "ax2.set_title('Training and validation accuracy')\n",
    "ax2.set_xlabel('Epochs')\n",
    "ax2.set_xticks(epochs)\n",
    "ax2.set_ylabel('Loss')\n",
    "ax2.legend()\n",
    "\n",
    "plt.show()"
   ]
  },
  {
   "cell_type": "code",
   "execution_count": 121,
   "metadata": {},
   "outputs": [
    {
     "name": "stdout",
     "output_type": "stream",
     "text": [
      "2246/2246 [==============================] - 1s 314us/step\n"
     ]
    },
    {
     "data": {
      "text/plain": [
       "[1.2092602904736731, 0.778717720444884]"
      ]
     },
     "execution_count": 121,
     "metadata": {},
     "output_type": "execute_result"
    }
   ],
   "source": [
    "# evaluating the model\n",
    "model.evaluate(x_test,one_hot_test_labels)"
   ]
  },
  {
   "cell_type": "code",
   "execution_count": 127,
   "metadata": {},
   "outputs": [
    {
     "name": "stdout",
     "output_type": "stream",
     "text": [
      "(46,)\n",
      "1.0\n",
      "3\n"
     ]
    }
   ],
   "source": [
    "# Generating predictions for new data\n",
    "predictions = model.predict(x_test)\n",
    "\n",
    "# Each entry in predictions is a vector of length 46\n",
    "print(predictions[0].shape)\n",
    "\n",
    "# The coefficients in this vector sum to 1\n",
    "print(np.sum(predictions[0]))\n",
    "\n",
    "# The largest entry is the predicted class—the class with the highest probability\n",
    "print(np.argmax(predictions[0]))"
   ]
  },
  {
   "cell_type": "markdown",
   "metadata": {},
   "source": [
    "## 5.1 A different way to handle the labels and the loss\n",
    "\n",
    "We mentioned earlier that another way to encode the labels would be to cast them as an integer tensor, like this:\n",
    "\n",
    ">```python\n",
    "y_train = np.array(train_labels)\n",
    "y_test = np.array(test_labels)\n",
    "```\n",
    "\n",
    "The only thing this approach would change is the choice of the loss function. The loss function categorical_crossentropy, expects the labels to follow a categorical encoding. With integer labels, you should use sparse_categorical_crossentropy.\n",
    "\n",
    ">```python\n",
    "model.compile(optimizer='rmsprop',\n",
    "            loss='sparse_categorical_crossentropy',\n",
    "            metrics=['acc'])\n",
    "```\n",
    "\n",
    "This new loss function is still mathematically the same as categorical_crossentropy; it just has a different interface."
   ]
  },
  {
   "cell_type": "markdown",
   "metadata": {},
   "source": [
    "## 5.2 The importance of having sufficiently large intermediate layers\n",
    "\n",
    "We mentioned earlier that because the final outputs are 46-dimensional, you should avoid intermediate layers with many fewer than 46 hidden units. Now let’s see what happens when you introduce an information bottleneck by having intermediate layers\n",
    "that are significantly less than 46-dimensional: for example, 4-dimensional."
   ]
  },
  {
   "cell_type": "code",
   "execution_count": 137,
   "metadata": {},
   "outputs": [
    {
     "name": "stdout",
     "output_type": "stream",
     "text": [
      "Train on 7982 samples, validate on 1000 samples\n",
      "Epoch 1/20\n",
      "7982/7982 [==============================] - 2s 288us/step - loss: 3.6391 - acc: 0.0253 - val_loss: 3.4292 - val_acc: 0.0370\n",
      "Epoch 2/20\n",
      "7982/7982 [==============================] - 2s 202us/step - loss: 3.2606 - acc: 0.0411 - val_loss: 3.0981 - val_acc: 0.0410\n",
      "Epoch 3/20\n",
      "7982/7982 [==============================] - 2s 200us/step - loss: 2.8813 - acc: 0.0614 - val_loss: 2.7139 - val_acc: 0.1840\n",
      "Epoch 4/20\n",
      "7982/7982 [==============================] - 2s 202us/step - loss: 2.4411 - acc: 0.3711 - val_loss: 2.3154 - val_acc: 0.5850\n",
      "Epoch 5/20\n",
      "7982/7982 [==============================] - 2s 204us/step - loss: 2.0331 - acc: 0.6210 - val_loss: 1.9915 - val_acc: 0.6110\n",
      "Epoch 6/20\n",
      "7982/7982 [==============================] - 2s 202us/step - loss: 1.7275 - acc: 0.6339 - val_loss: 1.7804 - val_acc: 0.6200\n",
      "Epoch 7/20\n",
      "7982/7982 [==============================] - 2s 203us/step - loss: 1.5299 - acc: 0.6423 - val_loss: 1.6590 - val_acc: 0.6210\n",
      "Epoch 8/20\n",
      "7982/7982 [==============================] - 2s 214us/step - loss: 1.3937 - acc: 0.6473 - val_loss: 1.5799 - val_acc: 0.6200\n",
      "Epoch 9/20\n",
      "7982/7982 [==============================] - 2s 227us/step - loss: 1.2920 - acc: 0.6555 - val_loss: 1.5309 - val_acc: 0.6290\n",
      "Epoch 10/20\n",
      "7982/7982 [==============================] - 2s 220us/step - loss: 1.2040 - acc: 0.6768 - val_loss: 1.4899 - val_acc: 0.6480\n",
      "Epoch 11/20\n",
      "7982/7982 [==============================] - 2s 206us/step - loss: 1.1268 - acc: 0.6978 - val_loss: 1.4690 - val_acc: 0.6570\n",
      "Epoch 12/20\n",
      "7982/7982 [==============================] - 2s 205us/step - loss: 1.0618 - acc: 0.7107 - val_loss: 1.4378 - val_acc: 0.6610\n",
      "Epoch 13/20\n",
      "7982/7982 [==============================] - 2s 206us/step - loss: 1.0038 - acc: 0.7182 - val_loss: 1.4324 - val_acc: 0.6630\n",
      "Epoch 14/20\n",
      "7982/7982 [==============================] - 2s 229us/step - loss: 0.9499 - acc: 0.7289 - val_loss: 1.4230 - val_acc: 0.6650\n",
      "Epoch 15/20\n",
      "7982/7982 [==============================] - 2s 218us/step - loss: 0.9031 - acc: 0.7393 - val_loss: 1.4257 - val_acc: 0.6660\n",
      "Epoch 16/20\n",
      "7982/7982 [==============================] - 2s 210us/step - loss: 0.8570 - acc: 0.7517 - val_loss: 1.4173 - val_acc: 0.6690\n",
      "Epoch 17/20\n",
      "7982/7982 [==============================] - 2s 206us/step - loss: 0.8149 - acc: 0.7651 - val_loss: 1.4438 - val_acc: 0.6760\n",
      "Epoch 18/20\n",
      "7982/7982 [==============================] - 2s 209us/step - loss: 0.7757 - acc: 0.7853 - val_loss: 1.4429 - val_acc: 0.6800\n",
      "Epoch 19/20\n",
      "7982/7982 [==============================] - 2s 209us/step - loss: 0.7432 - acc: 0.8051 - val_loss: 1.4448 - val_acc: 0.6910\n",
      "Epoch 20/20\n",
      "7982/7982 [==============================] - 2s 207us/step - loss: 0.7106 - acc: 0.8163 - val_loss: 1.4403 - val_acc: 0.6990\n"
     ]
    },
    {
     "data": {
      "text/plain": [
       "<keras.callbacks.History at 0x12d0b6470>"
      ]
     },
     "execution_count": 137,
     "metadata": {},
     "output_type": "execute_result"
    }
   ],
   "source": [
    "model = models.Sequential()\n",
    "model.add(layers.Dense(64, activation='relu', input_shape=(10000,)))\n",
    "model.add(layers.Dense(4, activation='relu'))\n",
    "model.add(layers.Dense(46, activation='softmax'))\n",
    "\n",
    "model.compile(optimizer='rmsprop',\n",
    "              loss='categorical_crossentropy',\n",
    "              metrics=['accuracy'])\n",
    "\n",
    "model.fit(partial_x_train,\n",
    "          partial_y_train,\n",
    "          epochs=20,\n",
    "          batch_size=512,\n",
    "          validation_data=(x_val, y_val))"
   ]
  },
  {
   "cell_type": "code",
   "execution_count": 130,
   "metadata": {},
   "outputs": [
    {
     "name": "stdout",
     "output_type": "stream",
     "text": [
      "2246/2246 [==============================] - 1s 340us/step\n"
     ]
    },
    {
     "data": {
      "text/plain": [
       "[1.8839720140475835, 0.685218165680859]"
      ]
     },
     "execution_count": 130,
     "metadata": {},
     "output_type": "execute_result"
    }
   ],
   "source": [
    "# evaluating the model\n",
    "model.evaluate(x_test,one_hot_test_labels)"
   ]
  },
  {
   "cell_type": "markdown",
   "metadata": {},
   "source": [
    "**The network now peaks at ~70% validation accuracy, an 8% absolute drop**. This drop is mostly due to the fact that you’re trying to compress a lot of information (enough information to recover the separation hyperplanes of 46 classes) into an intermediate space that is too low-dimensional."
   ]
  },
  {
   "cell_type": "markdown",
   "metadata": {},
   "source": [
    "## 5.3 Further experiments\n",
    "\n",
    "- Try using larger or smaller layers: 32 units, 128 units, 256, and so on.\n",
    "- You used two hidden layers. Now try using a single hidden layer, three hidden layers or four hidden layers."
   ]
  },
  {
   "cell_type": "code",
   "execution_count": 138,
   "metadata": {},
   "outputs": [],
   "source": [
    "# parameters to be evaluate\n",
    "\n",
    "hidden_units = [32,64,128,256]\n",
    "activations_funct = ['relu']\n",
    "loss_funct = ['categorical_crossentropy']\n",
    "training = []\n",
    "results = []"
   ]
  },
  {
   "cell_type": "markdown",
   "metadata": {},
   "source": [
    "### 5.3.1 Model 1"
   ]
  },
  {
   "cell_type": "code",
   "execution_count": 139,
   "metadata": {},
   "outputs": [
    {
     "name": "stdout",
     "output_type": "stream",
     "text": [
      "Train on 7982 samples, validate on 1000 samples\n",
      "Epoch 1/20\n",
      "7982/7982 [==============================] - 2s 230us/step - loss: 3.0657 - acc: 0.4982 - val_loss: 2.3332 - val_acc: 0.6180\n",
      "Epoch 2/20\n",
      "7982/7982 [==============================] - 1s 165us/step - loss: 1.8983 - acc: 0.6625 - val_loss: 1.6828 - val_acc: 0.6620\n",
      "Epoch 3/20\n",
      "7982/7982 [==============================] - 1s 156us/step - loss: 1.4131 - acc: 0.7111 - val_loss: 1.4089 - val_acc: 0.6970\n",
      "Epoch 4/20\n",
      "7982/7982 [==============================] - 1s 158us/step - loss: 1.1606 - acc: 0.7506 - val_loss: 1.2709 - val_acc: 0.7190\n",
      "Epoch 5/20\n",
      "7982/7982 [==============================] - 1s 162us/step - loss: 0.9895 - acc: 0.7858 - val_loss: 1.1869 - val_acc: 0.7380\n",
      "Epoch 6/20\n",
      "7982/7982 [==============================] - 1s 164us/step - loss: 0.8551 - acc: 0.8181 - val_loss: 1.1276 - val_acc: 0.7480\n",
      "Epoch 7/20\n",
      "7982/7982 [==============================] - 1s 162us/step - loss: 0.7450 - acc: 0.8409 - val_loss: 1.0611 - val_acc: 0.7770\n",
      "Epoch 8/20\n",
      "7982/7982 [==============================] - 1s 163us/step - loss: 0.6490 - acc: 0.8593 - val_loss: 1.0245 - val_acc: 0.7900\n",
      "Epoch 9/20\n",
      "7982/7982 [==============================] - 1s 158us/step - loss: 0.5665 - acc: 0.8797 - val_loss: 1.0169 - val_acc: 0.7810\n",
      "Epoch 10/20\n",
      "7982/7982 [==============================] - 1s 161us/step - loss: 0.4934 - acc: 0.8969 - val_loss: 0.9872 - val_acc: 0.7960\n",
      "Epoch 11/20\n",
      "7982/7982 [==============================] - 1s 179us/step - loss: 0.4314 - acc: 0.9109 - val_loss: 0.9724 - val_acc: 0.8040\n",
      "Epoch 12/20\n",
      "7982/7982 [==============================] - 1s 166us/step - loss: 0.3781 - acc: 0.9209 - val_loss: 0.9747 - val_acc: 0.7960\n",
      "Epoch 13/20\n",
      "7982/7982 [==============================] - 1s 163us/step - loss: 0.3344 - acc: 0.9293 - val_loss: 0.9635 - val_acc: 0.8080\n",
      "Epoch 14/20\n",
      "7982/7982 [==============================] - 1s 187us/step - loss: 0.2965 - acc: 0.9372 - val_loss: 0.9782 - val_acc: 0.8020\n",
      "Epoch 15/20\n",
      "7982/7982 [==============================] - 1s 171us/step - loss: 0.2655 - acc: 0.9435 - val_loss: 0.9893 - val_acc: 0.7950\n",
      "Epoch 16/20\n",
      "7982/7982 [==============================] - 1s 166us/step - loss: 0.2386 - acc: 0.9465 - val_loss: 0.9943 - val_acc: 0.8030\n",
      "Epoch 17/20\n",
      "7982/7982 [==============================] - 1s 167us/step - loss: 0.2156 - acc: 0.9495 - val_loss: 1.0102 - val_acc: 0.7960\n",
      "Epoch 18/20\n",
      "7982/7982 [==============================] - 1s 166us/step - loss: 0.1987 - acc: 0.9513 - val_loss: 1.0333 - val_acc: 0.7920\n",
      "Epoch 19/20\n",
      "7982/7982 [==============================] - 1s 166us/step - loss: 0.1822 - acc: 0.9496 - val_loss: 1.0431 - val_acc: 0.7930\n",
      "Epoch 20/20\n",
      "7982/7982 [==============================] - 1s 163us/step - loss: 0.1667 - acc: 0.9535 - val_loss: 1.0735 - val_acc: 0.7800\n",
      "2246/2246 [==============================] - 0s 162us/step\n",
      "Train on 7982 samples, validate on 1000 samples\n",
      "Epoch 1/20\n",
      "7982/7982 [==============================] - 2s 290us/step - loss: 2.4812 - acc: 0.5306 - val_loss: 1.6604 - val_acc: 0.6530\n",
      "Epoch 2/20\n",
      "7982/7982 [==============================] - 2s 234us/step - loss: 1.3836 - acc: 0.7066 - val_loss: 1.3036 - val_acc: 0.7120\n",
      "Epoch 3/20\n",
      "7982/7982 [==============================] - 2s 221us/step - loss: 1.0502 - acc: 0.7704 - val_loss: 1.1359 - val_acc: 0.7470\n",
      "Epoch 4/20\n",
      "7982/7982 [==============================] - 2s 245us/step - loss: 0.8424 - acc: 0.8177 - val_loss: 1.0424 - val_acc: 0.7770\n",
      "Epoch 5/20\n",
      "7982/7982 [==============================] - 2s 195us/step - loss: 0.6776 - acc: 0.8549 - val_loss: 0.9784 - val_acc: 0.8050\n",
      "Epoch 6/20\n",
      "7982/7982 [==============================] - 2s 256us/step - loss: 0.5440 - acc: 0.8852 - val_loss: 0.9385 - val_acc: 0.8100\n",
      "Epoch 7/20\n",
      "7982/7982 [==============================] - 2s 272us/step - loss: 0.4369 - acc: 0.9072 - val_loss: 0.9095 - val_acc: 0.8120\n",
      "Epoch 8/20\n",
      "7982/7982 [==============================] - 2s 269us/step - loss: 0.3567 - acc: 0.9233 - val_loss: 0.9403 - val_acc: 0.8040\n",
      "Epoch 9/20\n",
      "7982/7982 [==============================] - 2s 275us/step - loss: 0.2902 - acc: 0.9381 - val_loss: 0.9155 - val_acc: 0.8050\n",
      "Epoch 10/20\n",
      "7982/7982 [==============================] - 2s 251us/step - loss: 0.2493 - acc: 0.9432 - val_loss: 0.9113 - val_acc: 0.8200\n",
      "Epoch 11/20\n",
      "7982/7982 [==============================] - 2s 277us/step - loss: 0.2141 - acc: 0.9469 - val_loss: 0.9511 - val_acc: 0.8090\n",
      "Epoch 12/20\n",
      "7982/7982 [==============================] - 2s 265us/step - loss: 0.1866 - acc: 0.9510 - val_loss: 0.9373 - val_acc: 0.8220\n",
      "Epoch 13/20\n",
      "7982/7982 [==============================] - 2s 244us/step - loss: 0.1654 - acc: 0.9539 - val_loss: 0.9264 - val_acc: 0.8170\n",
      "Epoch 14/20\n",
      "7982/7982 [==============================] - 2s 263us/step - loss: 0.1528 - acc: 0.9545 - val_loss: 0.9556 - val_acc: 0.8170\n",
      "Epoch 15/20\n",
      "7982/7982 [==============================] - 2s 235us/step - loss: 0.1360 - acc: 0.9577 - val_loss: 1.0049 - val_acc: 0.8040\n",
      "Epoch 16/20\n",
      "7982/7982 [==============================] - 2s 215us/step - loss: 0.1324 - acc: 0.9555 - val_loss: 0.9978 - val_acc: 0.8070\n",
      "Epoch 17/20\n",
      "7982/7982 [==============================] - 2s 247us/step - loss: 0.1216 - acc: 0.9573 - val_loss: 1.0145 - val_acc: 0.8090\n",
      "Epoch 18/20\n",
      "7982/7982 [==============================] - 2s 232us/step - loss: 0.1161 - acc: 0.9587 - val_loss: 1.0549 - val_acc: 0.8070\n",
      "Epoch 19/20\n",
      "7982/7982 [==============================] - 2s 261us/step - loss: 0.1191 - acc: 0.9570 - val_loss: 1.0601 - val_acc: 0.8050\n",
      "Epoch 20/20\n",
      "7982/7982 [==============================] - 2s 282us/step - loss: 0.1122 - acc: 0.9580 - val_loss: 1.0492 - val_acc: 0.7970\n",
      "2246/2246 [==============================] - 1s 258us/step\n",
      "Train on 7982 samples, validate on 1000 samples\n",
      "Epoch 1/20\n",
      "7982/7982 [==============================] - 3s 394us/step - loss: 2.1783 - acc: 0.5663 - val_loss: 1.3733 - val_acc: 0.6900\n",
      "Epoch 2/20\n",
      "7982/7982 [==============================] - 3s 321us/step - loss: 1.1082 - acc: 0.7560 - val_loss: 1.0784 - val_acc: 0.7730\n",
      "Epoch 3/20\n",
      "7982/7982 [==============================] - 3s 323us/step - loss: 0.7727 - acc: 0.8359 - val_loss: 0.9806 - val_acc: 0.7990\n",
      "Epoch 4/20\n",
      "7982/7982 [==============================] - 3s 347us/step - loss: 0.5527 - acc: 0.8862 - val_loss: 0.8992 - val_acc: 0.8120\n",
      "Epoch 5/20\n",
      "7982/7982 [==============================] - 3s 319us/step - loss: 0.4153 - acc: 0.9095 - val_loss: 0.8651 - val_acc: 0.8220\n",
      "Epoch 6/20\n",
      "7982/7982 [==============================] - 2s 313us/step - loss: 0.3029 - acc: 0.9344 - val_loss: 0.9050 - val_acc: 0.8110\n",
      "Epoch 7/20\n",
      "7982/7982 [==============================] - 2s 312us/step - loss: 0.2480 - acc: 0.9429 - val_loss: 0.9029 - val_acc: 0.8150\n",
      "Epoch 8/20\n",
      "7982/7982 [==============================] - 3s 316us/step - loss: 0.2066 - acc: 0.9475 - val_loss: 0.9099 - val_acc: 0.8090\n",
      "Epoch 9/20\n",
      "7982/7982 [==============================] - 3s 316us/step - loss: 0.1796 - acc: 0.9534 - val_loss: 0.8713 - val_acc: 0.8290\n",
      "Epoch 10/20\n",
      "7982/7982 [==============================] - 2s 310us/step - loss: 0.1608 - acc: 0.9530 - val_loss: 1.0315 - val_acc: 0.7830\n",
      "Epoch 11/20\n",
      "7982/7982 [==============================] - 3s 335us/step - loss: 0.1525 - acc: 0.9544 - val_loss: 0.9405 - val_acc: 0.8160\n",
      "Epoch 12/20\n",
      "7982/7982 [==============================] - 3s 329us/step - loss: 0.1389 - acc: 0.9554 - val_loss: 1.0260 - val_acc: 0.7950\n",
      "Epoch 13/20\n",
      "7982/7982 [==============================] - 3s 328us/step - loss: 0.1326 - acc: 0.9555 - val_loss: 1.0267 - val_acc: 0.7970\n",
      "Epoch 14/20\n",
      "7982/7982 [==============================] - 3s 352us/step - loss: 0.1267 - acc: 0.9588 - val_loss: 1.1040 - val_acc: 0.7910\n",
      "Epoch 15/20\n",
      "7982/7982 [==============================] - 3s 360us/step - loss: 0.1218 - acc: 0.9583 - val_loss: 1.0430 - val_acc: 0.7910\n",
      "Epoch 16/20\n",
      "7982/7982 [==============================] - 3s 370us/step - loss: 0.1157 - acc: 0.9578 - val_loss: 1.0941 - val_acc: 0.7910\n",
      "Epoch 17/20\n",
      "7982/7982 [==============================] - 3s 319us/step - loss: 0.1127 - acc: 0.9585 - val_loss: 1.1191 - val_acc: 0.7870\n",
      "Epoch 18/20\n",
      "7982/7982 [==============================] - 3s 406us/step - loss: 0.1099 - acc: 0.9582 - val_loss: 1.2110 - val_acc: 0.7840\n",
      "Epoch 19/20\n",
      "7982/7982 [==============================] - 3s 340us/step - loss: 0.1125 - acc: 0.9578 - val_loss: 1.0649 - val_acc: 0.8030\n",
      "Epoch 20/20\n",
      "7982/7982 [==============================] - 2s 311us/step - loss: 0.1058 - acc: 0.9572 - val_loss: 1.0260 - val_acc: 0.8030\n",
      "2246/2246 [==============================] - 0s 182us/step\n",
      "Train on 7982 samples, validate on 1000 samples\n",
      "Epoch 1/20\n",
      "7982/7982 [==============================] - 5s 587us/step - loss: 1.9605 - acc: 0.5861 - val_loss: 1.2023 - val_acc: 0.7180\n",
      "Epoch 2/20\n",
      "7982/7982 [==============================] - 4s 514us/step - loss: 0.9485 - acc: 0.7934 - val_loss: 0.9836 - val_acc: 0.7830\n",
      "Epoch 3/20\n",
      "7982/7982 [==============================] - 4s 509us/step - loss: 0.6086 - acc: 0.8658 - val_loss: 0.9419 - val_acc: 0.7920\n",
      "Epoch 4/20\n",
      "7982/7982 [==============================] - 4s 531us/step - loss: 0.3990 - acc: 0.9114 - val_loss: 0.9455 - val_acc: 0.7940\n",
      "Epoch 5/20\n",
      "7982/7982 [==============================] - 4s 550us/step - loss: 0.2863 - acc: 0.9344 - val_loss: 0.8972 - val_acc: 0.8090\n",
      "Epoch 6/20\n",
      "7982/7982 [==============================] - 4s 501us/step - loss: 0.2332 - acc: 0.9414 - val_loss: 0.8720 - val_acc: 0.8190\n",
      "Epoch 7/20\n",
      "7982/7982 [==============================] - 4s 543us/step - loss: 0.1762 - acc: 0.9511 - val_loss: 0.9415 - val_acc: 0.7900\n",
      "Epoch 8/20\n",
      "7982/7982 [==============================] - 4s 525us/step - loss: 0.1639 - acc: 0.9545 - val_loss: 0.9024 - val_acc: 0.8120\n",
      "Epoch 9/20\n",
      "7982/7982 [==============================] - 4s 510us/step - loss: 0.1498 - acc: 0.9538 - val_loss: 0.9507 - val_acc: 0.8070\n",
      "Epoch 10/20\n",
      "7982/7982 [==============================] - 4s 510us/step - loss: 0.1363 - acc: 0.9541 - val_loss: 0.9570 - val_acc: 0.8190\n",
      "Epoch 11/20\n",
      "7982/7982 [==============================] - 4s 512us/step - loss: 0.1269 - acc: 0.9558 - val_loss: 1.0052 - val_acc: 0.7990\n",
      "Epoch 12/20\n",
      "7982/7982 [==============================] - 4s 503us/step - loss: 0.1215 - acc: 0.9554 - val_loss: 0.9813 - val_acc: 0.8040\n",
      "Epoch 13/20\n",
      "7982/7982 [==============================] - 4s 503us/step - loss: 0.1164 - acc: 0.9563 - val_loss: 1.0252 - val_acc: 0.7890\n",
      "Epoch 14/20\n",
      "7982/7982 [==============================] - 4s 506us/step - loss: 0.1118 - acc: 0.9569 - val_loss: 1.0588 - val_acc: 0.7930\n",
      "Epoch 15/20\n",
      "7982/7982 [==============================] - 4s 505us/step - loss: 0.1063 - acc: 0.9572 - val_loss: 1.0036 - val_acc: 0.7990\n",
      "Epoch 16/20\n",
      "7982/7982 [==============================] - 4s 501us/step - loss: 0.1035 - acc: 0.9570 - val_loss: 0.9914 - val_acc: 0.8070\n",
      "Epoch 17/20\n",
      "7982/7982 [==============================] - 4s 502us/step - loss: 0.1008 - acc: 0.9583 - val_loss: 1.1498 - val_acc: 0.7940\n",
      "Epoch 18/20\n",
      "7982/7982 [==============================] - 4s 507us/step - loss: 0.0956 - acc: 0.9570 - val_loss: 1.0843 - val_acc: 0.7960\n",
      "Epoch 19/20\n",
      "7982/7982 [==============================] - 4s 537us/step - loss: 0.0940 - acc: 0.9575 - val_loss: 1.0991 - val_acc: 0.8030\n",
      "Epoch 20/20\n",
      "7982/7982 [==============================] - 4s 519us/step - loss: 0.0932 - acc: 0.9548 - val_loss: 1.1121 - val_acc: 0.7940\n",
      "2246/2246 [==============================] - 1s 293us/step\n"
     ]
    }
   ],
   "source": [
    "# the model definition\n",
    "# layer_1,layer_2,layer_3\n",
    "\n",
    "for hidden in hidden_units:\n",
    "    for activations in activations_funct:\n",
    "        for losses in loss_funct:\n",
    "            model = models.Sequential()\n",
    "            model.add(layers.Dense(hidden, activation=activations, input_shape=(10000,)))\n",
    "            model.add(layers.Dense(hidden, activation=activations))\n",
    "            model.add(layers.Dense(46, activation='softmax'))\n",
    "\n",
    "            # compile the model\n",
    "            model.compile(optimizer='rmsprop',loss=losses,metrics=['accuracy'])\n",
    "            \n",
    "            # Training your model\n",
    "            history = model.fit(partial_x_train,\n",
    "                                partial_y_train,\n",
    "                                epochs=20,\n",
    "                                batch_size=512,\n",
    "                                validation_data=(x_val, y_val))\n",
    "            training.append(history)\n",
    "            results.append(model.evaluate(x_test, one_hot_test_labels))"
   ]
  },
  {
   "cell_type": "code",
   "execution_count": 140,
   "metadata": {},
   "outputs": [
    {
     "data": {
      "text/plain": [
       "[[1.1569367890260311, 0.7822796082454182],\n",
       " [1.162199652630202, 0.7943009795191451],\n",
       " [1.2036228073779112, 0.7938557435971546],\n",
       " [1.2687694323667966, 0.7951914515223549]]"
      ]
     },
     "execution_count": 140,
     "metadata": {},
     "output_type": "execute_result"
    }
   ],
   "source": [
    "results"
   ]
  },
  {
   "cell_type": "markdown",
   "metadata": {},
   "source": [
    "### 5.3.2 Model 2"
   ]
  },
  {
   "cell_type": "code",
   "execution_count": 141,
   "metadata": {},
   "outputs": [
    {
     "name": "stdout",
     "output_type": "stream",
     "text": [
      "Train on 7982 samples, validate on 1000 samples\n",
      "Epoch 1/20\n",
      "7982/7982 [==============================] - 2s 245us/step - loss: 3.1824 - acc: 0.3825 - val_loss: 2.4689 - val_acc: 0.5030\n",
      "Epoch 2/20\n",
      "7982/7982 [==============================] - 1s 160us/step - loss: 2.0757 - acc: 0.5942 - val_loss: 1.7824 - val_acc: 0.6080\n",
      "Epoch 3/20\n",
      "7982/7982 [==============================] - 1s 158us/step - loss: 1.5601 - acc: 0.6753 - val_loss: 1.4904 - val_acc: 0.6810\n",
      "Epoch 4/20\n",
      "7982/7982 [==============================] - 1s 157us/step - loss: 1.2956 - acc: 0.7184 - val_loss: 1.3285 - val_acc: 0.7030\n",
      "Epoch 5/20\n",
      "7982/7982 [==============================] - 1s 157us/step - loss: 1.1153 - acc: 0.7471 - val_loss: 1.2305 - val_acc: 0.7160\n",
      "Epoch 6/20\n",
      "7982/7982 [==============================] - 2s 193us/step - loss: 0.9719 - acc: 0.7761 - val_loss: 1.1935 - val_acc: 0.7270\n",
      "Epoch 7/20\n",
      "7982/7982 [==============================] - 1s 187us/step - loss: 0.8581 - acc: 0.8039 - val_loss: 1.1256 - val_acc: 0.7480\n",
      "Epoch 8/20\n",
      "7982/7982 [==============================] - 2s 193us/step - loss: 0.7493 - acc: 0.8315 - val_loss: 1.1011 - val_acc: 0.7600\n",
      "Epoch 9/20\n",
      "7982/7982 [==============================] - 1s 185us/step - loss: 0.6578 - acc: 0.8540 - val_loss: 1.0899 - val_acc: 0.7620\n",
      "Epoch 10/20\n",
      "7982/7982 [==============================] - 1s 175us/step - loss: 0.5788 - acc: 0.8755 - val_loss: 1.0803 - val_acc: 0.7600\n",
      "Epoch 11/20\n",
      "7982/7982 [==============================] - 1s 161us/step - loss: 0.5058 - acc: 0.8911 - val_loss: 1.0447 - val_acc: 0.7810\n",
      "Epoch 12/20\n",
      "7982/7982 [==============================] - 1s 153us/step - loss: 0.4470 - acc: 0.9084 - val_loss: 1.0634 - val_acc: 0.7650\n",
      "Epoch 13/20\n",
      "7982/7982 [==============================] - 1s 158us/step - loss: 0.3893 - acc: 0.9201 - val_loss: 1.0524 - val_acc: 0.7830\n",
      "Epoch 14/20\n",
      "7982/7982 [==============================] - 1s 154us/step - loss: 0.3503 - acc: 0.9277 - val_loss: 1.0892 - val_acc: 0.7750\n",
      "Epoch 15/20\n",
      "7982/7982 [==============================] - 1s 175us/step - loss: 0.3119 - acc: 0.9327 - val_loss: 1.0663 - val_acc: 0.7760\n",
      "Epoch 16/20\n",
      "7982/7982 [==============================] - 2s 193us/step - loss: 0.2750 - acc: 0.9395 - val_loss: 1.1057 - val_acc: 0.7720\n",
      "Epoch 17/20\n",
      "7982/7982 [==============================] - 1s 181us/step - loss: 0.2537 - acc: 0.9412 - val_loss: 1.1014 - val_acc: 0.7760\n",
      "Epoch 18/20\n",
      "7982/7982 [==============================] - 1s 167us/step - loss: 0.2305 - acc: 0.9453 - val_loss: 1.1024 - val_acc: 0.7810\n",
      "Epoch 19/20\n",
      "7982/7982 [==============================] - 1s 164us/step - loss: 0.2103 - acc: 0.9480 - val_loss: 1.1527 - val_acc: 0.7840\n",
      "Epoch 20/20\n",
      "7982/7982 [==============================] - 1s 167us/step - loss: 0.1918 - acc: 0.9519 - val_loss: 1.1565 - val_acc: 0.7750\n",
      "2246/2246 [==============================] - 0s 162us/step\n",
      "Train on 7982 samples, validate on 1000 samples\n",
      "Epoch 1/20\n",
      "7982/7982 [==============================] - 2s 309us/step - loss: 2.8055 - acc: 0.5010 - val_loss: 1.7705 - val_acc: 0.6380\n",
      "Epoch 2/20\n",
      "7982/7982 [==============================] - 2s 235us/step - loss: 1.4740 - acc: 0.6931 - val_loss: 1.3816 - val_acc: 0.6880\n",
      "Epoch 3/20\n",
      "7982/7982 [==============================] - 2s 241us/step - loss: 1.1270 - acc: 0.7477 - val_loss: 1.1751 - val_acc: 0.7580\n",
      "Epoch 4/20\n",
      "7982/7982 [==============================] - 2s 239us/step - loss: 0.8892 - acc: 0.8039 - val_loss: 1.1023 - val_acc: 0.7460\n",
      "Epoch 5/20\n",
      "7982/7982 [==============================] - 2s 242us/step - loss: 0.7136 - acc: 0.8440 - val_loss: 1.0066 - val_acc: 0.7940\n",
      "Epoch 6/20\n",
      "7982/7982 [==============================] - 2s 233us/step - loss: 0.5802 - acc: 0.8705 - val_loss: 0.9715 - val_acc: 0.7980\n",
      "Epoch 7/20\n",
      "7982/7982 [==============================] - 2s 231us/step - loss: 0.4640 - acc: 0.8980 - val_loss: 0.9693 - val_acc: 0.8060\n",
      "Epoch 8/20\n",
      "7982/7982 [==============================] - 2s 232us/step - loss: 0.3918 - acc: 0.9164 - val_loss: 0.9534 - val_acc: 0.8140\n",
      "Epoch 9/20\n",
      "7982/7982 [==============================] - 2s 235us/step - loss: 0.3049 - acc: 0.9351 - val_loss: 0.9847 - val_acc: 0.8030\n",
      "Epoch 10/20\n",
      "7982/7982 [==============================] - 2s 235us/step - loss: 0.2585 - acc: 0.9414 - val_loss: 1.0065 - val_acc: 0.8150\n",
      "Epoch 11/20\n",
      "7982/7982 [==============================] - 2s 242us/step - loss: 0.2277 - acc: 0.9454 - val_loss: 1.0046 - val_acc: 0.8000\n",
      "Epoch 12/20\n",
      "7982/7982 [==============================] - 2s 234us/step - loss: 0.2000 - acc: 0.9485 - val_loss: 1.0785 - val_acc: 0.7960\n",
      "Epoch 13/20\n",
      "7982/7982 [==============================] - 2s 235us/step - loss: 0.1877 - acc: 0.9475 - val_loss: 1.0298 - val_acc: 0.8130\n",
      "Epoch 14/20\n",
      "7982/7982 [==============================] - 2s 244us/step - loss: 0.1668 - acc: 0.9531 - val_loss: 1.0799 - val_acc: 0.8030\n",
      "Epoch 15/20\n",
      "7982/7982 [==============================] - 2s 230us/step - loss: 0.1556 - acc: 0.9553 - val_loss: 1.1140 - val_acc: 0.7990\n",
      "Epoch 16/20\n",
      "7982/7982 [==============================] - 2s 237us/step - loss: 0.1427 - acc: 0.9573 - val_loss: 1.0925 - val_acc: 0.8020\n",
      "Epoch 17/20\n",
      "7982/7982 [==============================] - 2s 243us/step - loss: 0.1358 - acc: 0.9574 - val_loss: 1.1067 - val_acc: 0.7990\n",
      "Epoch 18/20\n",
      "7982/7982 [==============================] - 2s 236us/step - loss: 0.1306 - acc: 0.9585 - val_loss: 1.1746 - val_acc: 0.7860\n",
      "Epoch 19/20\n",
      "7982/7982 [==============================] - 2s 238us/step - loss: 0.1336 - acc: 0.9569 - val_loss: 1.1477 - val_acc: 0.7950\n",
      "Epoch 20/20\n",
      "7982/7982 [==============================] - 2s 237us/step - loss: 0.1184 - acc: 0.9599 - val_loss: 1.1618 - val_acc: 0.7910\n",
      "2246/2246 [==============================] - 1s 250us/step\n",
      "Train on 7982 samples, validate on 1000 samples\n",
      "Epoch 1/20\n",
      "7982/7982 [==============================] - 3s 425us/step - loss: 2.2064 - acc: 0.4940 - val_loss: 1.4788 - val_acc: 0.6410\n",
      "Epoch 2/20\n",
      "7982/7982 [==============================] - 3s 335us/step - loss: 1.1545 - acc: 0.7384 - val_loss: 1.2315 - val_acc: 0.7060\n",
      "Epoch 3/20\n",
      "7982/7982 [==============================] - 3s 400us/step - loss: 0.8442 - acc: 0.8028 - val_loss: 0.9992 - val_acc: 0.7730\n",
      "Epoch 4/20\n",
      "7982/7982 [==============================] - 3s 418us/step - loss: 0.5974 - acc: 0.8632 - val_loss: 0.9284 - val_acc: 0.8120\n",
      "Epoch 5/20\n",
      "7982/7982 [==============================] - 3s 346us/step - loss: 0.4470 - acc: 0.9007 - val_loss: 0.9695 - val_acc: 0.8010\n",
      "Epoch 6/20\n",
      "7982/7982 [==============================] - 3s 345us/step - loss: 0.3308 - acc: 0.9263 - val_loss: 0.9100 - val_acc: 0.8160\n",
      "Epoch 7/20\n",
      "7982/7982 [==============================] - 3s 340us/step - loss: 0.2484 - acc: 0.9425 - val_loss: 0.9741 - val_acc: 0.8070\n",
      "Epoch 8/20\n",
      "7982/7982 [==============================] - 3s 336us/step - loss: 0.2139 - acc: 0.9480 - val_loss: 1.0916 - val_acc: 0.7870\n",
      "Epoch 9/20\n",
      "7982/7982 [==============================] - 3s 334us/step - loss: 0.1859 - acc: 0.9480 - val_loss: 1.0157 - val_acc: 0.8010\n",
      "Epoch 10/20\n",
      "7982/7982 [==============================] - 3s 338us/step - loss: 0.1600 - acc: 0.9538 - val_loss: 1.1697 - val_acc: 0.7770\n",
      "Epoch 11/20\n",
      "7982/7982 [==============================] - 3s 335us/step - loss: 0.1546 - acc: 0.9563 - val_loss: 1.0757 - val_acc: 0.7950\n",
      "Epoch 12/20\n",
      "7982/7982 [==============================] - 3s 366us/step - loss: 0.1421 - acc: 0.9555 - val_loss: 1.0705 - val_acc: 0.8140\n",
      "Epoch 13/20\n",
      "7982/7982 [==============================] - 3s 336us/step - loss: 0.1293 - acc: 0.9557 - val_loss: 1.0259 - val_acc: 0.8080\n",
      "Epoch 14/20\n",
      "7982/7982 [==============================] - 3s 422us/step - loss: 0.1238 - acc: 0.9560 - val_loss: 1.0501 - val_acc: 0.8060\n",
      "Epoch 15/20\n",
      "7982/7982 [==============================] - 3s 359us/step - loss: 0.1244 - acc: 0.9554 - val_loss: 1.0260 - val_acc: 0.8100\n",
      "Epoch 16/20\n",
      "7982/7982 [==============================] - 3s 331us/step - loss: 0.1208 - acc: 0.9553 - val_loss: 1.0719 - val_acc: 0.8050\n",
      "Epoch 17/20\n",
      "7982/7982 [==============================] - 3s 342us/step - loss: 0.1043 - acc: 0.9579 - val_loss: 1.1641 - val_acc: 0.8010\n",
      "Epoch 18/20\n",
      "7982/7982 [==============================] - 3s 327us/step - loss: 0.1062 - acc: 0.9590 - val_loss: 1.1008 - val_acc: 0.8020\n",
      "Epoch 19/20\n",
      "7982/7982 [==============================] - 3s 331us/step - loss: 0.1021 - acc: 0.9587 - val_loss: 1.1747 - val_acc: 0.7980\n",
      "Epoch 20/20\n",
      "7982/7982 [==============================] - 3s 370us/step - loss: 0.1014 - acc: 0.9575 - val_loss: 1.1143 - val_acc: 0.8020\n",
      "2246/2246 [==============================] - 0s 204us/step\n",
      "Train on 7982 samples, validate on 1000 samples\n",
      "Epoch 1/20\n",
      "7982/7982 [==============================] - 5s 610us/step - loss: 2.0252 - acc: 0.5497 - val_loss: 1.2711 - val_acc: 0.7020\n",
      "Epoch 2/20\n",
      "7982/7982 [==============================] - 4s 516us/step - loss: 1.0283 - acc: 0.7663 - val_loss: 1.0195 - val_acc: 0.7760\n",
      "Epoch 3/20\n",
      "7982/7982 [==============================] - 4s 531us/step - loss: 0.7036 - acc: 0.8369 - val_loss: 0.9398 - val_acc: 0.8000\n",
      "Epoch 4/20\n",
      "7982/7982 [==============================] - 4s 561us/step - loss: 0.4764 - acc: 0.8920 - val_loss: 1.2845 - val_acc: 0.7620\n",
      "Epoch 5/20\n",
      "7982/7982 [==============================] - 4s 515us/step - loss: 0.3245 - acc: 0.9295 - val_loss: 0.9401 - val_acc: 0.8080\n",
      "Epoch 6/20\n",
      "7982/7982 [==============================] - 4s 518us/step - loss: 0.2334 - acc: 0.9440 - val_loss: 0.9515 - val_acc: 0.8160\n",
      "Epoch 7/20\n",
      "7982/7982 [==============================] - 4s 519us/step - loss: 0.1994 - acc: 0.9499 - val_loss: 1.4808 - val_acc: 0.6800\n",
      "Epoch 8/20\n",
      "7982/7982 [==============================] - 4s 528us/step - loss: 0.2079 - acc: 0.9410 - val_loss: 0.9310 - val_acc: 0.8230\n",
      "Epoch 9/20\n",
      "7982/7982 [==============================] - 4s 513us/step - loss: 0.1420 - acc: 0.9551 - val_loss: 0.9901 - val_acc: 0.8060\n",
      "Epoch 10/20\n",
      "7982/7982 [==============================] - 4s 513us/step - loss: 0.1430 - acc: 0.9545 - val_loss: 0.9904 - val_acc: 0.8040\n",
      "Epoch 11/20\n",
      "7982/7982 [==============================] - 4s 514us/step - loss: 0.1400 - acc: 0.9560 - val_loss: 0.9539 - val_acc: 0.8140\n",
      "Epoch 12/20\n",
      "7982/7982 [==============================] - 4s 511us/step - loss: 0.1232 - acc: 0.9554 - val_loss: 0.9481 - val_acc: 0.8110\n",
      "Epoch 13/20\n",
      "7982/7982 [==============================] - 4s 544us/step - loss: 0.1114 - acc: 0.9570 - val_loss: 1.1780 - val_acc: 0.7730\n",
      "Epoch 14/20\n",
      "7982/7982 [==============================] - 4s 515us/step - loss: 0.1095 - acc: 0.9563 - val_loss: 1.0995 - val_acc: 0.8030\n",
      "Epoch 15/20\n",
      "7982/7982 [==============================] - 4s 518us/step - loss: 0.1062 - acc: 0.9575 - val_loss: 1.1026 - val_acc: 0.8050\n",
      "Epoch 16/20\n",
      "7982/7982 [==============================] - 4s 513us/step - loss: 0.0983 - acc: 0.9573 - val_loss: 1.1206 - val_acc: 0.8000\n",
      "Epoch 17/20\n",
      "7982/7982 [==============================] - 4s 511us/step - loss: 0.0950 - acc: 0.9563 - val_loss: 1.1922 - val_acc: 0.7940\n",
      "Epoch 18/20\n",
      "7982/7982 [==============================] - 4s 533us/step - loss: 0.0900 - acc: 0.9593 - val_loss: 1.2530 - val_acc: 0.8000\n",
      "Epoch 19/20\n",
      "7982/7982 [==============================] - 4s 513us/step - loss: 0.0872 - acc: 0.9583 - val_loss: 1.1901 - val_acc: 0.8100\n",
      "Epoch 20/20\n",
      "7982/7982 [==============================] - 4s 509us/step - loss: 0.0843 - acc: 0.9573 - val_loss: 1.3280 - val_acc: 0.7850\n",
      "2246/2246 [==============================] - 1s 312us/step\n"
     ]
    }
   ],
   "source": [
    "# the model definition\n",
    "# layer_1,layer_2,layer_3, layer4\n",
    "\n",
    "for hidden in hidden_units:\n",
    "    for activations in activations_funct:\n",
    "        for losses in loss_funct:\n",
    "            model = models.Sequential()\n",
    "            model.add(layers.Dense(hidden, activation=activations, input_shape=(10000,)))\n",
    "            model.add(layers.Dense(hidden, activation=activations))\n",
    "            model.add(layers.Dense(hidden, activation=activations))\n",
    "            model.add(layers.Dense(46, activation='softmax'))\n",
    "\n",
    "            # compile the model\n",
    "            model.compile(optimizer='rmsprop',loss=losses,metrics=['accuracy'])\n",
    "            \n",
    "            # Training your model\n",
    "            history = model.fit(partial_x_train,\n",
    "                                partial_y_train,\n",
    "                                epochs=20,\n",
    "                                batch_size=512,\n",
    "                                validation_data=(x_val, y_val))\n",
    "            training.append(history)\n",
    "            results.append(model.evaluate(x_test, one_hot_test_labels))"
   ]
  },
  {
   "cell_type": "code",
   "execution_count": 143,
   "metadata": {},
   "outputs": [
    {
     "data": {
      "text/plain": [
       "[[1.3508902889007133, 0.7560106857164779],\n",
       " [1.2909313868117567, 0.7756010685928783],\n",
       " [1.2592158557470632, 0.7885129118963532],\n",
       " [1.5368605307564605, 0.7626892253424796]]"
      ]
     },
     "execution_count": 143,
     "metadata": {},
     "output_type": "execute_result"
    }
   ],
   "source": [
    "results[4:]"
   ]
  },
  {
   "cell_type": "markdown",
   "metadata": {},
   "source": [
    "## 5.4 Wrapping up\n",
    "\n",
    "Here’s what you should take away from this example:\n",
    "\n",
    "1. If you’re trying to **classify data points among N classes**, your network should **end with a Dense layer of size N**.\n",
    "2. In a **single-label, multiclass classification** problem, your network should **end with a softmax** activation so that it will output a probability distribution over the N output classes.\n",
    "3. **Categorical crossentropy is almost always the loss function you should use for such problems**. It minimizes the distance between the probability distributions output by the network and the true distribution of the targets.\n",
    "4. There are two ways to handle labels in multiclass classification:\n",
    "    - Encoding the labels via **categorical encoding** (also known as one-hot encoding) and using **categorical_crossentropy** as a loss function\n",
    "    - **Encoding the labels as integers** and using the **sparse_categorical_crossentropy** loss function\n",
    "5. If you need to classify data into a large number of categories, you should avoid creating information bottlenecks in your network due to intermediate layers that are too small (**less than 46 in this example**)"
   ]
  },
  {
   "cell_type": "markdown",
   "metadata": {},
   "source": [
    "# 6. Predicting house prices: a regression example\n",
    "\n",
    "The two previous examples were considered classification problems, where the goal was to predict a single discrete label of an input data point. Another common type of machine-learning problem is regression, which consists of predicting a continuous\n",
    "value instead of a discrete label: for instance, predicting the temperature tomorrow, given meteorological data; or predicting the time that a software project will take to complete, given its specifications.\n",
    "\n",
    "> Don’t confuse regression and the algorithm logistic regression. Confusingly, **logistic regression isn’t a regression algorithm—it’s a classification algorithm**.\n",
    "\n",
    "## 6.1 The Boston Housing Price dataset\n",
    "\n",
    "- You’ll attempt to predict the median price of homes in a given **Boston suburb in the mid-1970s** given data points about the suburb at the time, such as the **crime rate, the local property tax rate**, and so on. \n",
    "- The dataset has relatively **few data points**: only 506, split between 404 training samples and 102 test samples. \n",
    "- Each **feature** in the input data (for example, the crime rate) has a **different scale**. \n",
    "- For instance, some values are proportions, which take values between 0 and 1; others take values between 1 and 12, others between 0 and 100, and so on."
   ]
  },
  {
   "cell_type": "code",
   "execution_count": 176,
   "metadata": {},
   "outputs": [
    {
     "name": "stdout",
     "output_type": "stream",
     "text": [
      "(404, 13)\n",
      "(102, 13)\n"
     ]
    }
   ],
   "source": [
    "# Loading the Boston housing dataset\n",
    "\n",
    "from keras.datasets import boston_housing\n",
    "\n",
    "(train_data, train_targets), (test_data, test_targets) = boston_housing.load_data()\n",
    "\n",
    "# Training sample size\n",
    "print(train_data.shape)\n",
    "\n",
    "# Test sample size\n",
    "print(test_data.shape)"
   ]
  },
  {
   "cell_type": "code",
   "execution_count": 177,
   "metadata": {},
   "outputs": [
    {
     "name": "stdout",
     "output_type": "stream",
     "text": [
      "5.0\n",
      "50.0\n"
     ]
    }
   ],
   "source": [
    "# Train targets x  U$ 1,000 - value are between 5.0 and 50.0\n",
    "print(np.min(train_targets))\n",
    "print(np.max(train_targets))"
   ]
  },
  {
   "cell_type": "markdown",
   "metadata": {},
   "source": [
    "### 6.1.1 Preparing the data\n",
    "\n",
    "**It would be problematic to feed into a neural network** values that all take wildly different ranges. The network might be able to automatically adapt to such heterogeneous data, but it would definitely make learning more difficult. A widespread best practice to deal with such data is to do **feature-wise normalization**: for each feature in the input data (a column in the input data matrix), you subtract the mean of the feature and divide by the standard deviation, so that the feature is centered around 0 and has a unit standard deviation. This is easily done in [Scikit-learn](http://scikit-learn.org/stable/modules/preprocessing.html).\n",
    "\n",
    "\n",
    "The [**preprocessing module**](http://scikit-learn.org/stable/modules/preprocessing.html) further provides a utility **class StandardScaler** that implements the Transformer API to compute the **mean** and **standard deviation** on a **training set** so as to be able to **later reapply the same transformation on the testing set**. "
   ]
  },
  {
   "cell_type": "code",
   "execution_count": 178,
   "metadata": {},
   "outputs": [
    {
     "name": "stdout",
     "output_type": "stream",
     "text": [
      "[-1.01541438e-16  1.09923072e-17  1.74337992e-15 -1.26686340e-16\n",
      " -5.25377321e-15  6.41414864e-15  2.98441140e-16  4.94653823e-16\n",
      "  1.12671149e-17 -1.98136337e-16  2.36686358e-14  5.95679996e-15\n",
      "  6.13920356e-16]\n",
      "[1. 1. 1. 1. 1. 1. 1. 1. 1. 1. 1. 1. 1.]\n"
     ]
    }
   ],
   "source": [
    "# Normalizing the data\n",
    "\n",
    "from sklearn import preprocessing\n",
    "\n",
    "# create a scaler to fit train_data\n",
    "scaler = preprocessing.StandardScaler().fit(train_data)\n",
    "\n",
    "# feature-wise normalization over train_data\n",
    "train_data_scaled = scaler.transform(train_data)\n",
    "\n",
    "# Scaled train data has zero mean and unit variance\n",
    "print(train_data_scaled.mean(axis=0))\n",
    "print(train_data_scaled.std(axis=0))\n",
    "\n",
    "# Note that the quantities used for normalizing the test data are computed using the training data. \n",
    "# You should never use in your workflow any quantity computed on the test data, \n",
    "# even for something as simple as data normalization.\n",
    "test_data_scaled = scaler.transform(test_data)"
   ]
  },
  {
   "cell_type": "markdown",
   "metadata": {},
   "source": [
    "### 6.1.2 Building your network\n",
    "\n",
    "Because so few samples are available, you’ll use a very small network with two hidden layers, each with 64 units. **In general, the less training data you have, the worse overfitting will be**, and using a small network is one way to mitigate overfitting."
   ]
  },
  {
   "cell_type": "code",
   "execution_count": 179,
   "metadata": {},
   "outputs": [],
   "source": [
    "# Model definition\n",
    "\n",
    "from keras import models\n",
    "from keras import layers\n",
    "\n",
    "def build_model():\n",
    "    model = models.Sequential()\n",
    "    model.add(layers.Dense(64, activation='relu',\n",
    "                           input_shape=(train_data_scaled.shape[1],)))\n",
    "    model.add(layers.Dense(64, activation='relu'))\n",
    "    \n",
    "    # The network ends with a single unit and no activation (it will be a linear layer). \n",
    "    # This is a typical setup for scalar regression (a regression where you’re trying \n",
    "    # to predict a single continuous value).\n",
    "    model.add(layers.Dense(1))\n",
    "    \n",
    "    # compile the network with the mse loss function—mean squared error,\n",
    "    # the square of the difference between the predictions and the targets. \n",
    "    # This is a widely used loss function for regression problems.\n",
    "    model.compile(optimizer='rmsprop', loss='mse', metrics=['mae'])\n",
    "    \n",
    "    # You’re also monitoring a new metric during training: mean absolute error (MAE). \n",
    "    # It’s the absolute value of the difference between the predictions and the targets.\n",
    "    return model"
   ]
  },
  {
   "cell_type": "markdown",
   "metadata": {},
   "source": [
    "### 6.1.3 Validating your approach using K-fold validation\n",
    "\n",
    "- To evaluate your network while you keep adjusting its parameters (such as the number of epochs used for training), you could **split the data into a training set and a validation set**\n",
    "- Because you have so **few data points**, the validation set would end up being very small.\n",
    "- The best practice in such situations is to use **K-fold cross-validation**.\n",
    "    - It consists of splitting the available data into K partitions (typically K = 4 or 5)\n",
    "    - Instantiating K identical models, and training each one on K – 1 partitions while evaluating on the remaining partition. \n",
    "    - The **validation score** for the model used is then the **average of the K validation scores obtained**. \n",
    "    "
   ]
  },
  {
   "cell_type": "code",
   "execution_count": 188,
   "metadata": {},
   "outputs": [
    {
     "name": "stdout",
     "output_type": "stream",
     "text": [
      "Train on 303 samples, validate on 101 samples\n",
      "Epoch 1/100\n",
      "303/303 [==============================] - 2s 7ms/step - loss: 205.3034 - mean_absolute_error: 10.9715 - val_loss: 30.4058 - val_mean_absolute_error: 3.6577\n",
      "Epoch 2/100\n",
      "303/303 [==============================] - 1s 3ms/step - loss: 26.9031 - mean_absolute_error: 3.5319 - val_loss: 20.6360 - val_mean_absolute_error: 3.0265\n",
      "Epoch 3/100\n",
      "303/303 [==============================] - 1s 3ms/step - loss: 20.2009 - mean_absolute_error: 3.0268 - val_loss: 16.3316 - val_mean_absolute_error: 2.8215\n",
      "Epoch 4/100\n",
      "303/303 [==============================] - 1s 3ms/step - loss: 17.9474 - mean_absolute_error: 2.7880 - val_loss: 14.2374 - val_mean_absolute_error: 2.2671\n",
      "Epoch 5/100\n",
      "303/303 [==============================] - 1s 3ms/step - loss: 16.1364 - mean_absolute_error: 2.6858 - val_loss: 14.0621 - val_mean_absolute_error: 2.1950\n",
      "Epoch 6/100\n",
      "303/303 [==============================] - 1s 3ms/step - loss: 14.8039 - mean_absolute_error: 2.5254 - val_loss: 12.3838 - val_mean_absolute_error: 2.1377\n",
      "Epoch 7/100\n",
      "303/303 [==============================] - 1s 3ms/step - loss: 13.8643 - mean_absolute_error: 2.4954 - val_loss: 11.0682 - val_mean_absolute_error: 1.9294\n",
      "Epoch 8/100\n",
      "303/303 [==============================] - 1s 3ms/step - loss: 13.6188 - mean_absolute_error: 2.4004 - val_loss: 11.6391 - val_mean_absolute_error: 2.0415\n",
      "Epoch 9/100\n",
      "303/303 [==============================] - 1s 3ms/step - loss: 13.2330 - mean_absolute_error: 2.4158 - val_loss: 10.3135 - val_mean_absolute_error: 2.1958\n",
      "Epoch 10/100\n",
      "303/303 [==============================] - 1s 4ms/step - loss: 12.6382 - mean_absolute_error: 2.3069 - val_loss: 11.5434 - val_mean_absolute_error: 2.0339\n",
      "Epoch 11/100\n",
      "303/303 [==============================] - 1s 4ms/step - loss: 12.7168 - mean_absolute_error: 2.2895 - val_loss: 9.7917 - val_mean_absolute_error: 2.3154\n",
      "Epoch 12/100\n",
      "303/303 [==============================] - 1s 3ms/step - loss: 11.9917 - mean_absolute_error: 2.2046 - val_loss: 9.4844 - val_mean_absolute_error: 2.3075\n",
      "Epoch 13/100\n",
      "303/303 [==============================] - 1s 3ms/step - loss: 11.3445 - mean_absolute_error: 2.2094 - val_loss: 8.6345 - val_mean_absolute_error: 1.9634\n",
      "Epoch 14/100\n",
      "303/303 [==============================] - 1s 3ms/step - loss: 11.4159 - mean_absolute_error: 2.2063 - val_loss: 8.9582 - val_mean_absolute_error: 1.8389\n",
      "Epoch 15/100\n",
      "303/303 [==============================] - 1s 3ms/step - loss: 11.4375 - mean_absolute_error: 2.1495 - val_loss: 8.5824 - val_mean_absolute_error: 1.8054\n",
      "Epoch 16/100\n",
      "303/303 [==============================] - 1s 3ms/step - loss: 11.3020 - mean_absolute_error: 2.1870 - val_loss: 8.3126 - val_mean_absolute_error: 1.8060\n",
      "Epoch 17/100\n",
      "303/303 [==============================] - 1s 3ms/step - loss: 10.4202 - mean_absolute_error: 2.1431 - val_loss: 8.2794 - val_mean_absolute_error: 2.1383\n",
      "Epoch 18/100\n",
      "303/303 [==============================] - 1s 3ms/step - loss: 10.5674 - mean_absolute_error: 2.1579 - val_loss: 9.8821 - val_mean_absolute_error: 1.9420\n",
      "Epoch 19/100\n",
      "303/303 [==============================] - 1s 3ms/step - loss: 10.2861 - mean_absolute_error: 2.1098 - val_loss: 8.6810 - val_mean_absolute_error: 1.8416\n",
      "Epoch 20/100\n",
      "303/303 [==============================] - 1s 3ms/step - loss: 10.1278 - mean_absolute_error: 2.0257 - val_loss: 9.1700 - val_mean_absolute_error: 2.2359\n",
      "Epoch 21/100\n",
      "303/303 [==============================] - 1s 3ms/step - loss: 10.3154 - mean_absolute_error: 2.0442 - val_loss: 7.5041 - val_mean_absolute_error: 1.9366\n",
      "Epoch 22/100\n",
      "303/303 [==============================] - 1s 3ms/step - loss: 10.0301 - mean_absolute_error: 2.0706 - val_loss: 7.7630 - val_mean_absolute_error: 2.0090\n",
      "Epoch 23/100\n",
      "303/303 [==============================] - 1s 3ms/step - loss: 9.5741 - mean_absolute_error: 1.9897 - val_loss: 7.2711 - val_mean_absolute_error: 1.7455\n",
      "Epoch 24/100\n",
      "303/303 [==============================] - 1s 3ms/step - loss: 9.4488 - mean_absolute_error: 1.9898 - val_loss: 7.5307 - val_mean_absolute_error: 1.8089\n",
      "Epoch 25/100\n",
      "303/303 [==============================] - 1s 3ms/step - loss: 9.4944 - mean_absolute_error: 1.9968 - val_loss: 8.0658 - val_mean_absolute_error: 1.8802\n",
      "Epoch 26/100\n",
      "303/303 [==============================] - 1s 3ms/step - loss: 9.3027 - mean_absolute_error: 1.9887 - val_loss: 7.6331 - val_mean_absolute_error: 1.9009\n",
      "Epoch 27/100\n",
      "303/303 [==============================] - 1s 4ms/step - loss: 8.7160 - mean_absolute_error: 1.9288 - val_loss: 6.8500 - val_mean_absolute_error: 1.8819\n",
      "Epoch 28/100\n",
      "303/303 [==============================] - 1s 3ms/step - loss: 8.8621 - mean_absolute_error: 1.9533 - val_loss: 8.7255 - val_mean_absolute_error: 1.8368\n",
      "Epoch 29/100\n",
      "303/303 [==============================] - 1s 3ms/step - loss: 9.0566 - mean_absolute_error: 1.9509 - val_loss: 7.2149 - val_mean_absolute_error: 1.8997\n",
      "Epoch 30/100\n",
      "303/303 [==============================] - 1s 3ms/step - loss: 8.5796 - mean_absolute_error: 1.9657 - val_loss: 8.9580 - val_mean_absolute_error: 2.3323\n",
      "Epoch 31/100\n",
      "303/303 [==============================] - 1s 3ms/step - loss: 8.6656 - mean_absolute_error: 1.8857 - val_loss: 7.7347 - val_mean_absolute_error: 2.0365\n",
      "Epoch 32/100\n",
      "303/303 [==============================] - 1s 3ms/step - loss: 8.9700 - mean_absolute_error: 1.9435 - val_loss: 7.1988 - val_mean_absolute_error: 1.9690\n",
      "Epoch 33/100\n",
      "303/303 [==============================] - 1s 3ms/step - loss: 8.2088 - mean_absolute_error: 1.8461 - val_loss: 7.5269 - val_mean_absolute_error: 1.8123\n",
      "Epoch 34/100\n",
      "303/303 [==============================] - 1s 3ms/step - loss: 8.1419 - mean_absolute_error: 1.8108 - val_loss: 8.1887 - val_mean_absolute_error: 2.2207\n",
      "Epoch 35/100\n",
      "303/303 [==============================] - 1s 3ms/step - loss: 8.2485 - mean_absolute_error: 1.9057 - val_loss: 7.4418 - val_mean_absolute_error: 1.9233\n",
      "Epoch 36/100\n",
      "303/303 [==============================] - 1s 3ms/step - loss: 8.2168 - mean_absolute_error: 1.8782 - val_loss: 7.9760 - val_mean_absolute_error: 1.9945\n",
      "Epoch 37/100\n",
      "303/303 [==============================] - 1s 3ms/step - loss: 7.6810 - mean_absolute_error: 1.8075 - val_loss: 10.3950 - val_mean_absolute_error: 2.3291\n",
      "Epoch 38/100\n",
      "303/303 [==============================] - 1s 3ms/step - loss: 8.1793 - mean_absolute_error: 1.8142 - val_loss: 6.7144 - val_mean_absolute_error: 1.8486\n",
      "Epoch 39/100\n",
      "303/303 [==============================] - 1s 3ms/step - loss: 7.8647 - mean_absolute_error: 1.8199 - val_loss: 12.6848 - val_mean_absolute_error: 2.8388\n",
      "Epoch 40/100\n",
      "303/303 [==============================] - 1s 3ms/step - loss: 8.2623 - mean_absolute_error: 1.8103 - val_loss: 7.6335 - val_mean_absolute_error: 1.9524\n",
      "Epoch 41/100\n",
      "303/303 [==============================] - 1s 3ms/step - loss: 8.1108 - mean_absolute_error: 1.8170 - val_loss: 8.9983 - val_mean_absolute_error: 2.2777\n",
      "Epoch 42/100\n",
      "303/303 [==============================] - 1s 3ms/step - loss: 7.6021 - mean_absolute_error: 1.8814 - val_loss: 7.0724 - val_mean_absolute_error: 1.8463\n",
      "Epoch 43/100\n",
      "303/303 [==============================] - 1s 3ms/step - loss: 7.7090 - mean_absolute_error: 1.7986 - val_loss: 7.3174 - val_mean_absolute_error: 1.7969\n",
      "Epoch 44/100\n",
      "303/303 [==============================] - 1s 3ms/step - loss: 7.4400 - mean_absolute_error: 1.7361 - val_loss: 7.5207 - val_mean_absolute_error: 1.8038\n",
      "Epoch 45/100\n",
      "303/303 [==============================] - 1s 3ms/step - loss: 7.3531 - mean_absolute_error: 1.8047 - val_loss: 7.8430 - val_mean_absolute_error: 2.0334\n",
      "Epoch 46/100\n",
      "303/303 [==============================] - 1s 3ms/step - loss: 7.0333 - mean_absolute_error: 1.7565 - val_loss: 7.5094 - val_mean_absolute_error: 1.9303\n",
      "Epoch 47/100\n",
      "303/303 [==============================] - 1s 3ms/step - loss: 7.3999 - mean_absolute_error: 1.7673 - val_loss: 7.9015 - val_mean_absolute_error: 1.8663\n",
      "Epoch 48/100\n",
      "303/303 [==============================] - 1s 3ms/step - loss: 7.2563 - mean_absolute_error: 1.7113 - val_loss: 6.5673 - val_mean_absolute_error: 1.8101\n",
      "Epoch 49/100\n",
      "303/303 [==============================] - 1s 3ms/step - loss: 7.1863 - mean_absolute_error: 1.7205 - val_loss: 7.3799 - val_mean_absolute_error: 1.9881\n",
      "Epoch 50/100\n",
      "303/303 [==============================] - 1s 3ms/step - loss: 7.1705 - mean_absolute_error: 1.6774 - val_loss: 7.9701 - val_mean_absolute_error: 1.8696\n",
      "Epoch 51/100\n",
      "303/303 [==============================] - 1s 3ms/step - loss: 7.0563 - mean_absolute_error: 1.7003 - val_loss: 6.7705 - val_mean_absolute_error: 1.7475\n",
      "Epoch 52/100\n",
      "303/303 [==============================] - 1s 3ms/step - loss: 7.0619 - mean_absolute_error: 1.7405 - val_loss: 8.5012 - val_mean_absolute_error: 2.1350\n",
      "Epoch 53/100\n",
      "303/303 [==============================] - 1s 3ms/step - loss: 6.4851 - mean_absolute_error: 1.7230 - val_loss: 8.2862 - val_mean_absolute_error: 2.1327\n",
      "Epoch 54/100\n",
      "303/303 [==============================] - 1s 3ms/step - loss: 6.7760 - mean_absolute_error: 1.7045 - val_loss: 7.5807 - val_mean_absolute_error: 1.9687\n",
      "Epoch 55/100\n",
      "303/303 [==============================] - 1s 3ms/step - loss: 6.2020 - mean_absolute_error: 1.6329 - val_loss: 11.2125 - val_mean_absolute_error: 2.6348\n",
      "Epoch 56/100\n",
      "303/303 [==============================] - 1s 3ms/step - loss: 6.7943 - mean_absolute_error: 1.7488 - val_loss: 7.5355 - val_mean_absolute_error: 1.9848\n",
      "Epoch 57/100\n",
      "303/303 [==============================] - 1s 3ms/step - loss: 6.9756 - mean_absolute_error: 1.6768 - val_loss: 6.5118 - val_mean_absolute_error: 1.6985\n",
      "Epoch 58/100\n",
      "303/303 [==============================] - 1s 3ms/step - loss: 6.6312 - mean_absolute_error: 1.6505 - val_loss: 8.1461 - val_mean_absolute_error: 2.0360\n",
      "Epoch 59/100\n",
      "303/303 [==============================] - 1s 3ms/step - loss: 6.6545 - mean_absolute_error: 1.6315 - val_loss: 7.5160 - val_mean_absolute_error: 1.9664\n",
      "Epoch 60/100\n",
      "303/303 [==============================] - 1s 3ms/step - loss: 6.8734 - mean_absolute_error: 1.6784 - val_loss: 7.4922 - val_mean_absolute_error: 1.9658\n",
      "Epoch 61/100\n",
      "303/303 [==============================] - 1s 3ms/step - loss: 6.6659 - mean_absolute_error: 1.6478 - val_loss: 7.3378 - val_mean_absolute_error: 1.8587\n",
      "Epoch 62/100\n",
      "303/303 [==============================] - 1s 3ms/step - loss: 6.2385 - mean_absolute_error: 1.6393 - val_loss: 7.1055 - val_mean_absolute_error: 1.8519\n",
      "Epoch 63/100\n",
      "303/303 [==============================] - 1s 3ms/step - loss: 6.1056 - mean_absolute_error: 1.5878 - val_loss: 6.5586 - val_mean_absolute_error: 1.8186\n",
      "Epoch 64/100\n",
      "303/303 [==============================] - 1s 3ms/step - loss: 6.0976 - mean_absolute_error: 1.6205 - val_loss: 7.3778 - val_mean_absolute_error: 1.9282\n",
      "Epoch 65/100\n",
      "303/303 [==============================] - 1s 3ms/step - loss: 6.3840 - mean_absolute_error: 1.6826 - val_loss: 7.8888 - val_mean_absolute_error: 2.0935\n",
      "Epoch 66/100\n",
      "303/303 [==============================] - 1s 3ms/step - loss: 6.6793 - mean_absolute_error: 1.5870 - val_loss: 8.2349 - val_mean_absolute_error: 2.0771\n",
      "Epoch 67/100\n",
      "303/303 [==============================] - 1s 3ms/step - loss: 5.9384 - mean_absolute_error: 1.5606 - val_loss: 9.4582 - val_mean_absolute_error: 2.2415\n",
      "Epoch 68/100\n",
      "303/303 [==============================] - 1s 3ms/step - loss: 6.2789 - mean_absolute_error: 1.5972 - val_loss: 7.6366 - val_mean_absolute_error: 1.8140\n",
      "Epoch 69/100\n",
      "303/303 [==============================] - 1s 3ms/step - loss: 6.1042 - mean_absolute_error: 1.6365 - val_loss: 7.8064 - val_mean_absolute_error: 2.0690\n",
      "Epoch 70/100\n",
      "303/303 [==============================] - 1s 3ms/step - loss: 5.8177 - mean_absolute_error: 1.5684 - val_loss: 6.8281 - val_mean_absolute_error: 1.7824\n",
      "Epoch 71/100\n",
      "303/303 [==============================] - 1s 3ms/step - loss: 6.0622 - mean_absolute_error: 1.5727 - val_loss: 7.3964 - val_mean_absolute_error: 2.0261\n",
      "Epoch 72/100\n",
      "303/303 [==============================] - 1s 3ms/step - loss: 5.9040 - mean_absolute_error: 1.5274 - val_loss: 7.5202 - val_mean_absolute_error: 2.0083\n",
      "Epoch 73/100\n",
      "303/303 [==============================] - 1s 3ms/step - loss: 5.5566 - mean_absolute_error: 1.5155 - val_loss: 7.0681 - val_mean_absolute_error: 1.9075\n",
      "Epoch 74/100\n",
      "303/303 [==============================] - 1s 3ms/step - loss: 5.6106 - mean_absolute_error: 1.4663 - val_loss: 10.2978 - val_mean_absolute_error: 2.5521\n",
      "Epoch 75/100\n",
      "303/303 [==============================] - 1s 3ms/step - loss: 4.8082 - mean_absolute_error: 1.4713 - val_loss: 7.8295 - val_mean_absolute_error: 1.8494\n",
      "Epoch 76/100\n",
      "303/303 [==============================] - 1s 3ms/step - loss: 5.6912 - mean_absolute_error: 1.5940 - val_loss: 8.0088 - val_mean_absolute_error: 2.0493\n",
      "Epoch 77/100\n",
      "303/303 [==============================] - 1s 3ms/step - loss: 5.9523 - mean_absolute_error: 1.5118 - val_loss: 8.1552 - val_mean_absolute_error: 2.1332\n",
      "Epoch 78/100\n",
      "303/303 [==============================] - 1s 3ms/step - loss: 5.7782 - mean_absolute_error: 1.5060 - val_loss: 7.5061 - val_mean_absolute_error: 1.9119\n",
      "Epoch 79/100\n",
      "303/303 [==============================] - 1s 3ms/step - loss: 5.5380 - mean_absolute_error: 1.4674 - val_loss: 7.8684 - val_mean_absolute_error: 2.0167\n",
      "Epoch 80/100\n",
      "303/303 [==============================] - 1s 3ms/step - loss: 5.3850 - mean_absolute_error: 1.4868 - val_loss: 7.9819 - val_mean_absolute_error: 2.0893\n",
      "Epoch 81/100\n",
      "303/303 [==============================] - 1s 3ms/step - loss: 5.5247 - mean_absolute_error: 1.4436 - val_loss: 7.8678 - val_mean_absolute_error: 2.1137\n",
      "Epoch 82/100\n",
      "303/303 [==============================] - 1s 3ms/step - loss: 5.4474 - mean_absolute_error: 1.5047 - val_loss: 7.9272 - val_mean_absolute_error: 2.2310\n",
      "Epoch 83/100\n",
      "303/303 [==============================] - 1s 3ms/step - loss: 5.0291 - mean_absolute_error: 1.4398 - val_loss: 8.6494 - val_mean_absolute_error: 2.1034\n",
      "Epoch 84/100\n",
      "303/303 [==============================] - 1s 3ms/step - loss: 5.1002 - mean_absolute_error: 1.4269 - val_loss: 8.7385 - val_mean_absolute_error: 2.1034\n",
      "Epoch 85/100\n",
      "303/303 [==============================] - 1s 3ms/step - loss: 5.1221 - mean_absolute_error: 1.4612 - val_loss: 10.6902 - val_mean_absolute_error: 2.5179\n",
      "Epoch 86/100\n",
      "303/303 [==============================] - 1s 3ms/step - loss: 5.4426 - mean_absolute_error: 1.4813 - val_loss: 8.1329 - val_mean_absolute_error: 2.1266\n",
      "Epoch 87/100\n",
      "303/303 [==============================] - 1s 3ms/step - loss: 5.1117 - mean_absolute_error: 1.4304 - val_loss: 8.4776 - val_mean_absolute_error: 2.1409\n",
      "Epoch 88/100\n",
      "303/303 [==============================] - 1s 3ms/step - loss: 5.1398 - mean_absolute_error: 1.4591 - val_loss: 7.0558 - val_mean_absolute_error: 1.8617\n",
      "Epoch 89/100\n",
      "303/303 [==============================] - 1s 3ms/step - loss: 5.3213 - mean_absolute_error: 1.4955 - val_loss: 6.8416 - val_mean_absolute_error: 1.8012\n",
      "Epoch 90/100\n",
      "303/303 [==============================] - 1s 3ms/step - loss: 4.9494 - mean_absolute_error: 1.4027 - val_loss: 8.6074 - val_mean_absolute_error: 2.2025\n",
      "Epoch 91/100\n",
      "303/303 [==============================] - 1s 3ms/step - loss: 4.6377 - mean_absolute_error: 1.3847 - val_loss: 8.3668 - val_mean_absolute_error: 1.9260\n",
      "Epoch 92/100\n",
      "303/303 [==============================] - 1s 3ms/step - loss: 5.2606 - mean_absolute_error: 1.3951 - val_loss: 8.0419 - val_mean_absolute_error: 1.8981\n",
      "Epoch 93/100\n",
      "303/303 [==============================] - 1s 3ms/step - loss: 4.9999 - mean_absolute_error: 1.4432 - val_loss: 7.2544 - val_mean_absolute_error: 1.9748\n",
      "Epoch 94/100\n",
      "303/303 [==============================] - 1s 3ms/step - loss: 4.7062 - mean_absolute_error: 1.4139 - val_loss: 8.8574 - val_mean_absolute_error: 2.1193\n",
      "Epoch 95/100\n",
      "303/303 [==============================] - 1s 3ms/step - loss: 5.1025 - mean_absolute_error: 1.3852 - val_loss: 7.8948 - val_mean_absolute_error: 2.0746\n",
      "Epoch 96/100\n",
      "303/303 [==============================] - 1s 3ms/step - loss: 4.5566 - mean_absolute_error: 1.4032 - val_loss: 10.5611 - val_mean_absolute_error: 2.4378\n",
      "Epoch 97/100\n",
      "303/303 [==============================] - 1s 3ms/step - loss: 4.9218 - mean_absolute_error: 1.4009 - val_loss: 10.0741 - val_mean_absolute_error: 2.2866\n",
      "Epoch 98/100\n",
      "303/303 [==============================] - 1s 3ms/step - loss: 5.2103 - mean_absolute_error: 1.4202 - val_loss: 8.4349 - val_mean_absolute_error: 2.2043\n",
      "Epoch 99/100\n",
      "303/303 [==============================] - 1s 3ms/step - loss: 4.3255 - mean_absolute_error: 1.4041 - val_loss: 11.0119 - val_mean_absolute_error: 2.3566\n",
      "Epoch 100/100\n",
      "303/303 [==============================] - 1s 3ms/step - loss: 4.6502 - mean_absolute_error: 1.3784 - val_loss: 8.5548 - val_mean_absolute_error: 2.1640\n",
      "Train on 303 samples, validate on 101 samples\n",
      "Epoch 1/100\n",
      "303/303 [==============================] - 2s 6ms/step - loss: 223.1781 - mean_absolute_error: 11.3318 - val_loss: 38.4835 - val_mean_absolute_error: 4.6771\n",
      "Epoch 2/100\n",
      "303/303 [==============================] - 1s 3ms/step - loss: 32.7659 - mean_absolute_error: 3.7669 - val_loss: 16.8632 - val_mean_absolute_error: 3.0893\n",
      "Epoch 3/100\n",
      "303/303 [==============================] - 1s 3ms/step - loss: 20.2922 - mean_absolute_error: 2.9220 - val_loss: 15.4126 - val_mean_absolute_error: 2.9661\n",
      "Epoch 4/100\n",
      "303/303 [==============================] - 1s 3ms/step - loss: 17.5476 - mean_absolute_error: 2.6958 - val_loss: 14.5978 - val_mean_absolute_error: 3.0556\n",
      "Epoch 5/100\n",
      "303/303 [==============================] - 1s 3ms/step - loss: 15.3614 - mean_absolute_error: 2.5691 - val_loss: 13.5174 - val_mean_absolute_error: 2.7913\n",
      "Epoch 6/100\n",
      "303/303 [==============================] - 1s 3ms/step - loss: 14.0345 - mean_absolute_error: 2.4954 - val_loss: 12.8212 - val_mean_absolute_error: 2.7274\n",
      "Epoch 7/100\n",
      "303/303 [==============================] - 1s 3ms/step - loss: 13.4162 - mean_absolute_error: 2.3847 - val_loss: 11.8164 - val_mean_absolute_error: 2.5912\n",
      "Epoch 8/100\n",
      "303/303 [==============================] - 1s 3ms/step - loss: 12.6551 - mean_absolute_error: 2.2976 - val_loss: 11.1247 - val_mean_absolute_error: 2.5536\n",
      "Epoch 9/100\n",
      "303/303 [==============================] - 1s 3ms/step - loss: 11.6980 - mean_absolute_error: 2.2000 - val_loss: 13.7347 - val_mean_absolute_error: 2.9610\n",
      "Epoch 10/100\n",
      "303/303 [==============================] - 1s 3ms/step - loss: 11.4878 - mean_absolute_error: 2.2139 - val_loss: 12.3648 - val_mean_absolute_error: 2.7839\n",
      "Epoch 11/100\n",
      "303/303 [==============================] - 1s 3ms/step - loss: 11.0060 - mean_absolute_error: 2.1766 - val_loss: 11.8335 - val_mean_absolute_error: 2.7093\n",
      "Epoch 12/100\n",
      "303/303 [==============================] - 1s 3ms/step - loss: 10.3613 - mean_absolute_error: 2.1323 - val_loss: 11.8312 - val_mean_absolute_error: 2.7259\n",
      "Epoch 13/100\n",
      "303/303 [==============================] - 1s 3ms/step - loss: 10.4087 - mean_absolute_error: 2.1211 - val_loss: 10.8963 - val_mean_absolute_error: 2.4996\n",
      "Epoch 14/100\n",
      "303/303 [==============================] - 1s 3ms/step - loss: 10.5138 - mean_absolute_error: 2.0546 - val_loss: 10.0819 - val_mean_absolute_error: 2.4416\n",
      "Epoch 15/100\n",
      "303/303 [==============================] - 1s 3ms/step - loss: 9.7006 - mean_absolute_error: 2.0655 - val_loss: 12.1060 - val_mean_absolute_error: 2.6394\n",
      "Epoch 16/100\n",
      "303/303 [==============================] - 1s 3ms/step - loss: 10.1820 - mean_absolute_error: 2.0457 - val_loss: 11.1716 - val_mean_absolute_error: 2.6485\n",
      "Epoch 17/100\n",
      "303/303 [==============================] - 1s 3ms/step - loss: 9.5144 - mean_absolute_error: 2.0911 - val_loss: 11.4346 - val_mean_absolute_error: 2.6973\n",
      "Epoch 18/100\n",
      "303/303 [==============================] - 1s 3ms/step - loss: 9.9572 - mean_absolute_error: 2.0431 - val_loss: 10.3093 - val_mean_absolute_error: 2.5492\n",
      "Epoch 19/100\n",
      "303/303 [==============================] - 1s 3ms/step - loss: 9.1633 - mean_absolute_error: 2.0119 - val_loss: 11.3563 - val_mean_absolute_error: 2.6576\n",
      "Epoch 20/100\n",
      "303/303 [==============================] - 1s 3ms/step - loss: 9.3321 - mean_absolute_error: 2.0288 - val_loss: 9.6431 - val_mean_absolute_error: 2.4185\n",
      "Epoch 21/100\n",
      "303/303 [==============================] - 1s 3ms/step - loss: 8.6637 - mean_absolute_error: 1.9226 - val_loss: 12.1243 - val_mean_absolute_error: 2.7524\n",
      "Epoch 22/100\n",
      "303/303 [==============================] - 1s 3ms/step - loss: 9.2885 - mean_absolute_error: 1.9868 - val_loss: 12.3197 - val_mean_absolute_error: 2.7322\n",
      "Epoch 23/100\n",
      "303/303 [==============================] - 1s 3ms/step - loss: 8.5105 - mean_absolute_error: 1.9155 - val_loss: 11.0058 - val_mean_absolute_error: 2.5837\n",
      "Epoch 24/100\n",
      "303/303 [==============================] - 1s 3ms/step - loss: 9.0878 - mean_absolute_error: 1.9363 - val_loss: 10.5130 - val_mean_absolute_error: 2.5467\n",
      "Epoch 25/100\n",
      "303/303 [==============================] - 1s 3ms/step - loss: 8.7310 - mean_absolute_error: 1.9320 - val_loss: 9.2992 - val_mean_absolute_error: 2.3582\n",
      "Epoch 26/100\n",
      "303/303 [==============================] - 1s 3ms/step - loss: 8.7983 - mean_absolute_error: 1.9223 - val_loss: 10.2124 - val_mean_absolute_error: 2.5288\n",
      "Epoch 27/100\n",
      "303/303 [==============================] - 1s 3ms/step - loss: 8.3715 - mean_absolute_error: 1.9635 - val_loss: 10.1439 - val_mean_absolute_error: 2.5428\n",
      "Epoch 28/100\n",
      "303/303 [==============================] - 1s 3ms/step - loss: 7.8437 - mean_absolute_error: 1.8228 - val_loss: 10.7162 - val_mean_absolute_error: 2.6150\n",
      "Epoch 29/100\n",
      "303/303 [==============================] - 1s 3ms/step - loss: 8.5684 - mean_absolute_error: 1.8957 - val_loss: 11.0430 - val_mean_absolute_error: 2.6261\n",
      "Epoch 30/100\n",
      "303/303 [==============================] - 1s 4ms/step - loss: 7.7117 - mean_absolute_error: 1.7571 - val_loss: 9.1589 - val_mean_absolute_error: 2.3907\n",
      "Epoch 31/100\n",
      "303/303 [==============================] - 1s 3ms/step - loss: 8.2169 - mean_absolute_error: 1.8416 - val_loss: 9.1556 - val_mean_absolute_error: 2.3677\n",
      "Epoch 32/100\n",
      "303/303 [==============================] - 1s 3ms/step - loss: 7.8735 - mean_absolute_error: 1.7846 - val_loss: 11.4970 - val_mean_absolute_error: 2.7060\n",
      "Epoch 33/100\n",
      "303/303 [==============================] - 1s 3ms/step - loss: 8.0491 - mean_absolute_error: 1.8480 - val_loss: 9.5621 - val_mean_absolute_error: 2.4394\n",
      "Epoch 34/100\n",
      "303/303 [==============================] - 1s 3ms/step - loss: 7.7216 - mean_absolute_error: 1.8206 - val_loss: 10.2899 - val_mean_absolute_error: 2.5498\n",
      "Epoch 35/100\n",
      "303/303 [==============================] - 1s 3ms/step - loss: 7.4400 - mean_absolute_error: 1.8000 - val_loss: 9.3210 - val_mean_absolute_error: 2.3787\n",
      "Epoch 36/100\n",
      "303/303 [==============================] - 1s 3ms/step - loss: 7.2773 - mean_absolute_error: 1.7866 - val_loss: 9.9700 - val_mean_absolute_error: 2.5019\n",
      "Epoch 37/100\n",
      "303/303 [==============================] - 1s 3ms/step - loss: 7.3959 - mean_absolute_error: 1.7864 - val_loss: 12.1199 - val_mean_absolute_error: 2.7931\n",
      "Epoch 38/100\n",
      "303/303 [==============================] - 1s 3ms/step - loss: 7.5560 - mean_absolute_error: 1.7854 - val_loss: 9.1051 - val_mean_absolute_error: 2.3373\n",
      "Epoch 39/100\n",
      "303/303 [==============================] - 1s 3ms/step - loss: 7.0431 - mean_absolute_error: 1.7088 - val_loss: 10.5701 - val_mean_absolute_error: 2.5611\n",
      "Epoch 40/100\n",
      "303/303 [==============================] - 1s 3ms/step - loss: 6.8460 - mean_absolute_error: 1.7854 - val_loss: 10.9908 - val_mean_absolute_error: 2.6247\n",
      "Epoch 41/100\n",
      "303/303 [==============================] - 1s 3ms/step - loss: 6.7574 - mean_absolute_error: 1.7124 - val_loss: 9.0624 - val_mean_absolute_error: 2.3438\n",
      "Epoch 42/100\n",
      "303/303 [==============================] - 1s 3ms/step - loss: 7.1919 - mean_absolute_error: 1.7879 - val_loss: 10.6613 - val_mean_absolute_error: 2.6409\n",
      "Epoch 43/100\n",
      "303/303 [==============================] - 1s 3ms/step - loss: 6.9395 - mean_absolute_error: 1.7089 - val_loss: 9.3017 - val_mean_absolute_error: 2.3753\n",
      "Epoch 44/100\n",
      "303/303 [==============================] - 1s 3ms/step - loss: 6.9296 - mean_absolute_error: 1.7240 - val_loss: 10.2248 - val_mean_absolute_error: 2.4896\n",
      "Epoch 45/100\n",
      "303/303 [==============================] - 1s 3ms/step - loss: 6.4451 - mean_absolute_error: 1.6194 - val_loss: 10.6328 - val_mean_absolute_error: 2.5582\n",
      "Epoch 46/100\n",
      "303/303 [==============================] - 1s 3ms/step - loss: 6.1160 - mean_absolute_error: 1.6940 - val_loss: 11.5949 - val_mean_absolute_error: 2.6260\n",
      "Epoch 47/100\n",
      "303/303 [==============================] - 1s 3ms/step - loss: 6.5191 - mean_absolute_error: 1.6946 - val_loss: 9.5530 - val_mean_absolute_error: 2.3531\n",
      "Epoch 48/100\n",
      "303/303 [==============================] - 1s 3ms/step - loss: 6.1390 - mean_absolute_error: 1.6656 - val_loss: 8.9609 - val_mean_absolute_error: 2.3575\n",
      "Epoch 49/100\n",
      "303/303 [==============================] - 1s 3ms/step - loss: 6.2458 - mean_absolute_error: 1.6681 - val_loss: 8.8515 - val_mean_absolute_error: 2.3289\n",
      "Epoch 50/100\n",
      "303/303 [==============================] - 1s 3ms/step - loss: 5.9390 - mean_absolute_error: 1.5806 - val_loss: 11.6045 - val_mean_absolute_error: 2.6732\n",
      "Epoch 51/100\n",
      "303/303 [==============================] - 1s 3ms/step - loss: 6.1566 - mean_absolute_error: 1.6197 - val_loss: 8.7201 - val_mean_absolute_error: 2.2987\n",
      "Epoch 52/100\n",
      "303/303 [==============================] - 1s 3ms/step - loss: 6.0341 - mean_absolute_error: 1.5547 - val_loss: 12.8412 - val_mean_absolute_error: 2.7808\n",
      "Epoch 53/100\n",
      "303/303 [==============================] - 1s 3ms/step - loss: 6.0146 - mean_absolute_error: 1.6024 - val_loss: 8.2788 - val_mean_absolute_error: 2.2180\n",
      "Epoch 54/100\n",
      "303/303 [==============================] - 1s 3ms/step - loss: 5.7438 - mean_absolute_error: 1.6150 - val_loss: 8.4680 - val_mean_absolute_error: 2.2940\n",
      "Epoch 55/100\n",
      "303/303 [==============================] - 1s 3ms/step - loss: 5.6024 - mean_absolute_error: 1.5304 - val_loss: 9.4567 - val_mean_absolute_error: 2.3685\n",
      "Epoch 56/100\n",
      "303/303 [==============================] - 1s 4ms/step - loss: 6.0245 - mean_absolute_error: 1.5738 - val_loss: 8.1615 - val_mean_absolute_error: 2.1720\n",
      "Epoch 57/100\n",
      "303/303 [==============================] - 1s 4ms/step - loss: 5.6372 - mean_absolute_error: 1.5187 - val_loss: 10.4229 - val_mean_absolute_error: 2.5507\n",
      "Epoch 58/100\n",
      "303/303 [==============================] - 1s 4ms/step - loss: 5.2997 - mean_absolute_error: 1.4881 - val_loss: 10.3419 - val_mean_absolute_error: 2.4400\n",
      "Epoch 59/100\n",
      "303/303 [==============================] - 1s 4ms/step - loss: 5.4308 - mean_absolute_error: 1.4799 - val_loss: 9.0543 - val_mean_absolute_error: 2.3000\n",
      "Epoch 60/100\n",
      "303/303 [==============================] - 1s 4ms/step - loss: 5.1361 - mean_absolute_error: 1.5289 - val_loss: 8.8123 - val_mean_absolute_error: 2.2593\n",
      "Epoch 61/100\n",
      "303/303 [==============================] - 1s 3ms/step - loss: 5.0277 - mean_absolute_error: 1.4994 - val_loss: 10.6407 - val_mean_absolute_error: 2.5855\n",
      "Epoch 62/100\n",
      "303/303 [==============================] - 1s 3ms/step - loss: 5.1395 - mean_absolute_error: 1.5349 - val_loss: 9.6087 - val_mean_absolute_error: 2.3670\n",
      "Epoch 63/100\n",
      "303/303 [==============================] - 1s 3ms/step - loss: 4.6535 - mean_absolute_error: 1.4550 - val_loss: 18.9180 - val_mean_absolute_error: 3.3999\n",
      "Epoch 64/100\n",
      "303/303 [==============================] - 1s 3ms/step - loss: 5.3760 - mean_absolute_error: 1.4956 - val_loss: 9.8226 - val_mean_absolute_error: 2.3584\n",
      "Epoch 65/100\n",
      "303/303 [==============================] - 1s 3ms/step - loss: 5.1050 - mean_absolute_error: 1.4622 - val_loss: 9.1333 - val_mean_absolute_error: 2.3285\n",
      "Epoch 66/100\n",
      "303/303 [==============================] - 1s 3ms/step - loss: 5.0276 - mean_absolute_error: 1.4665 - val_loss: 9.6955 - val_mean_absolute_error: 2.3902\n",
      "Epoch 67/100\n",
      "303/303 [==============================] - 1s 3ms/step - loss: 5.0002 - mean_absolute_error: 1.4940 - val_loss: 10.9845 - val_mean_absolute_error: 2.5356\n",
      "Epoch 68/100\n",
      "303/303 [==============================] - 1s 3ms/step - loss: 4.8301 - mean_absolute_error: 1.4550 - val_loss: 10.2442 - val_mean_absolute_error: 2.4603\n",
      "Epoch 69/100\n",
      "303/303 [==============================] - 1s 3ms/step - loss: 4.7341 - mean_absolute_error: 1.4039 - val_loss: 9.1483 - val_mean_absolute_error: 2.3550\n",
      "Epoch 70/100\n",
      "303/303 [==============================] - 1s 3ms/step - loss: 4.7725 - mean_absolute_error: 1.4250 - val_loss: 9.8086 - val_mean_absolute_error: 2.3827\n",
      "Epoch 71/100\n",
      "303/303 [==============================] - 1s 3ms/step - loss: 4.4816 - mean_absolute_error: 1.3525 - val_loss: 10.5043 - val_mean_absolute_error: 2.5657\n",
      "Epoch 72/100\n",
      "303/303 [==============================] - 1s 3ms/step - loss: 4.8282 - mean_absolute_error: 1.3765 - val_loss: 8.6628 - val_mean_absolute_error: 2.2362\n",
      "Epoch 73/100\n",
      "303/303 [==============================] - 1s 3ms/step - loss: 4.1827 - mean_absolute_error: 1.3877 - val_loss: 10.1404 - val_mean_absolute_error: 2.5050\n",
      "Epoch 74/100\n",
      "303/303 [==============================] - 1s 2ms/step - loss: 4.3381 - mean_absolute_error: 1.3691 - val_loss: 8.9149 - val_mean_absolute_error: 2.2664\n",
      "Epoch 75/100\n",
      "303/303 [==============================] - 1s 3ms/step - loss: 4.1886 - mean_absolute_error: 1.3674 - val_loss: 9.8097 - val_mean_absolute_error: 2.5007\n",
      "Epoch 76/100\n",
      "303/303 [==============================] - 1s 3ms/step - loss: 4.2455 - mean_absolute_error: 1.3352 - val_loss: 8.2415 - val_mean_absolute_error: 2.1950\n",
      "Epoch 77/100\n",
      "303/303 [==============================] - 1s 3ms/step - loss: 4.4439 - mean_absolute_error: 1.3854 - val_loss: 9.9122 - val_mean_absolute_error: 2.3416\n",
      "Epoch 78/100\n",
      "303/303 [==============================] - 1s 3ms/step - loss: 4.1206 - mean_absolute_error: 1.3267 - val_loss: 8.6739 - val_mean_absolute_error: 2.1351\n",
      "Epoch 79/100\n",
      "303/303 [==============================] - 1s 3ms/step - loss: 4.0520 - mean_absolute_error: 1.3396 - val_loss: 10.0751 - val_mean_absolute_error: 2.4787\n",
      "Epoch 80/100\n",
      "303/303 [==============================] - 1s 3ms/step - loss: 4.0318 - mean_absolute_error: 1.3137 - val_loss: 9.0052 - val_mean_absolute_error: 2.2945\n",
      "Epoch 81/100\n",
      "303/303 [==============================] - 1s 3ms/step - loss: 4.2199 - mean_absolute_error: 1.3351 - val_loss: 11.5070 - val_mean_absolute_error: 2.5641\n",
      "Epoch 82/100\n",
      "303/303 [==============================] - 1s 3ms/step - loss: 3.8460 - mean_absolute_error: 1.3133 - val_loss: 9.8066 - val_mean_absolute_error: 2.4178\n",
      "Epoch 83/100\n",
      "303/303 [==============================] - 1s 3ms/step - loss: 3.6724 - mean_absolute_error: 1.2580 - val_loss: 10.8957 - val_mean_absolute_error: 2.5654\n",
      "Epoch 84/100\n",
      "303/303 [==============================] - 1s 3ms/step - loss: 3.8452 - mean_absolute_error: 1.2730 - val_loss: 13.2639 - val_mean_absolute_error: 2.7791\n",
      "Epoch 85/100\n",
      "303/303 [==============================] - 1s 3ms/step - loss: 3.5935 - mean_absolute_error: 1.2928 - val_loss: 12.7594 - val_mean_absolute_error: 2.7435\n",
      "Epoch 86/100\n",
      "303/303 [==============================] - 1s 3ms/step - loss: 3.5892 - mean_absolute_error: 1.2347 - val_loss: 11.1937 - val_mean_absolute_error: 2.5001\n",
      "Epoch 87/100\n",
      "303/303 [==============================] - 1s 3ms/step - loss: 3.3827 - mean_absolute_error: 1.2779 - val_loss: 10.5136 - val_mean_absolute_error: 2.4612\n",
      "Epoch 88/100\n",
      "303/303 [==============================] - 1s 3ms/step - loss: 3.3065 - mean_absolute_error: 1.2332 - val_loss: 9.3870 - val_mean_absolute_error: 2.2534\n",
      "Epoch 89/100\n",
      "303/303 [==============================] - 1s 3ms/step - loss: 3.5095 - mean_absolute_error: 1.2536 - val_loss: 10.9549 - val_mean_absolute_error: 2.5148\n",
      "Epoch 90/100\n",
      "303/303 [==============================] - 1s 3ms/step - loss: 3.5944 - mean_absolute_error: 1.2360 - val_loss: 10.6448 - val_mean_absolute_error: 2.5511\n",
      "Epoch 91/100\n",
      "303/303 [==============================] - 1s 2ms/step - loss: 3.3752 - mean_absolute_error: 1.2212 - val_loss: 11.0654 - val_mean_absolute_error: 2.4234\n",
      "Epoch 92/100\n",
      "303/303 [==============================] - 1s 3ms/step - loss: 3.3652 - mean_absolute_error: 1.2208 - val_loss: 11.1305 - val_mean_absolute_error: 2.4850\n",
      "Epoch 93/100\n",
      "303/303 [==============================] - 1s 3ms/step - loss: 3.3398 - mean_absolute_error: 1.2322 - val_loss: 13.3754 - val_mean_absolute_error: 2.5412\n",
      "Epoch 94/100\n",
      "303/303 [==============================] - 1s 3ms/step - loss: 3.1247 - mean_absolute_error: 1.2421 - val_loss: 8.9953 - val_mean_absolute_error: 2.1822\n",
      "Epoch 95/100\n",
      "303/303 [==============================] - 1s 3ms/step - loss: 3.4159 - mean_absolute_error: 1.2165 - val_loss: 10.6062 - val_mean_absolute_error: 2.2778\n",
      "Epoch 96/100\n",
      "303/303 [==============================] - 1s 3ms/step - loss: 3.2585 - mean_absolute_error: 1.1971 - val_loss: 9.9965 - val_mean_absolute_error: 2.2852\n",
      "Epoch 97/100\n",
      "303/303 [==============================] - 1s 3ms/step - loss: 3.0587 - mean_absolute_error: 1.1804 - val_loss: 11.8891 - val_mean_absolute_error: 2.5696\n",
      "Epoch 98/100\n",
      "303/303 [==============================] - 1s 3ms/step - loss: 3.3502 - mean_absolute_error: 1.2175 - val_loss: 11.9308 - val_mean_absolute_error: 2.5730\n",
      "Epoch 99/100\n",
      "303/303 [==============================] - 1s 3ms/step - loss: 3.1972 - mean_absolute_error: 1.1779 - val_loss: 11.5241 - val_mean_absolute_error: 2.3870\n",
      "Epoch 100/100\n",
      "303/303 [==============================] - 1s 3ms/step - loss: 3.2550 - mean_absolute_error: 1.1949 - val_loss: 15.1842 - val_mean_absolute_error: 2.7540\n",
      "Train on 303 samples, validate on 101 samples\n",
      "Epoch 1/100\n",
      "303/303 [==============================] - 2s 6ms/step - loss: 202.9349 - mean_absolute_error: 10.5777 - val_loss: 30.3046 - val_mean_absolute_error: 3.7446\n",
      "Epoch 2/100\n",
      "303/303 [==============================] - 1s 3ms/step - loss: 27.6612 - mean_absolute_error: 3.6574 - val_loss: 25.5827 - val_mean_absolute_error: 3.3375\n",
      "Epoch 3/100\n",
      "303/303 [==============================] - 1s 3ms/step - loss: 20.8227 - mean_absolute_error: 3.0910 - val_loss: 20.8294 - val_mean_absolute_error: 2.8593\n",
      "Epoch 4/100\n",
      "303/303 [==============================] - 1s 3ms/step - loss: 16.6881 - mean_absolute_error: 2.7362 - val_loss: 18.6842 - val_mean_absolute_error: 2.7320\n",
      "Epoch 5/100\n",
      "303/303 [==============================] - 1s 3ms/step - loss: 15.0229 - mean_absolute_error: 2.5995 - val_loss: 17.3212 - val_mean_absolute_error: 2.6214\n",
      "Epoch 6/100\n",
      "303/303 [==============================] - 1s 3ms/step - loss: 13.7192 - mean_absolute_error: 2.5227 - val_loss: 17.0349 - val_mean_absolute_error: 2.7028\n",
      "Epoch 7/100\n",
      "303/303 [==============================] - 1s 3ms/step - loss: 11.6827 - mean_absolute_error: 2.3116 - val_loss: 18.2922 - val_mean_absolute_error: 3.0433\n",
      "Epoch 8/100\n",
      "303/303 [==============================] - 1s 3ms/step - loss: 11.8169 - mean_absolute_error: 2.2836 - val_loss: 15.1842 - val_mean_absolute_error: 2.5471\n",
      "Epoch 9/100\n",
      "303/303 [==============================] - 1s 3ms/step - loss: 11.4209 - mean_absolute_error: 2.2404 - val_loss: 15.5039 - val_mean_absolute_error: 2.5729\n",
      "Epoch 10/100\n",
      "303/303 [==============================] - 1s 3ms/step - loss: 9.7184 - mean_absolute_error: 2.1496 - val_loss: 15.2696 - val_mean_absolute_error: 2.6687\n",
      "Epoch 11/100\n",
      "303/303 [==============================] - 1s 3ms/step - loss: 10.3555 - mean_absolute_error: 2.1562 - val_loss: 14.7181 - val_mean_absolute_error: 2.6886\n",
      "Epoch 12/100\n",
      "303/303 [==============================] - 1s 2ms/step - loss: 9.3283 - mean_absolute_error: 2.1341 - val_loss: 14.9292 - val_mean_absolute_error: 2.6553\n",
      "Epoch 13/100\n",
      "303/303 [==============================] - 1s 3ms/step - loss: 9.2649 - mean_absolute_error: 2.0711 - val_loss: 15.9235 - val_mean_absolute_error: 2.7314\n",
      "Epoch 14/100\n",
      "303/303 [==============================] - 1s 3ms/step - loss: 8.9613 - mean_absolute_error: 2.0726 - val_loss: 14.9512 - val_mean_absolute_error: 2.5640\n",
      "Epoch 15/100\n",
      "303/303 [==============================] - 1s 3ms/step - loss: 9.3390 - mean_absolute_error: 2.0482 - val_loss: 14.9871 - val_mean_absolute_error: 2.6152\n",
      "Epoch 16/100\n",
      "303/303 [==============================] - 1s 3ms/step - loss: 9.3070 - mean_absolute_error: 2.0146 - val_loss: 14.9746 - val_mean_absolute_error: 2.5845\n",
      "Epoch 17/100\n",
      "303/303 [==============================] - 1s 3ms/step - loss: 8.8756 - mean_absolute_error: 1.9837 - val_loss: 14.5105 - val_mean_absolute_error: 2.6964\n",
      "Epoch 18/100\n",
      "303/303 [==============================] - 1s 3ms/step - loss: 8.2511 - mean_absolute_error: 1.9702 - val_loss: 15.0788 - val_mean_absolute_error: 2.6527\n",
      "Epoch 19/100\n",
      "303/303 [==============================] - 1s 3ms/step - loss: 8.2977 - mean_absolute_error: 2.0340 - val_loss: 14.6540 - val_mean_absolute_error: 2.5276\n",
      "Epoch 20/100\n",
      "303/303 [==============================] - 1s 3ms/step - loss: 8.2609 - mean_absolute_error: 1.9406 - val_loss: 15.7160 - val_mean_absolute_error: 2.6791\n",
      "Epoch 21/100\n",
      "303/303 [==============================] - 1s 3ms/step - loss: 7.9194 - mean_absolute_error: 1.9033 - val_loss: 15.1665 - val_mean_absolute_error: 2.5915\n",
      "Epoch 22/100\n",
      "303/303 [==============================] - 1s 3ms/step - loss: 8.0268 - mean_absolute_error: 1.9922 - val_loss: 15.8758 - val_mean_absolute_error: 2.7011\n",
      "Epoch 23/100\n",
      "303/303 [==============================] - 1s 3ms/step - loss: 7.6278 - mean_absolute_error: 1.8772 - val_loss: 16.9787 - val_mean_absolute_error: 2.9575\n",
      "Epoch 24/100\n",
      "303/303 [==============================] - 1s 3ms/step - loss: 7.5719 - mean_absolute_error: 1.9112 - val_loss: 15.4291 - val_mean_absolute_error: 2.7241\n",
      "Epoch 25/100\n",
      "303/303 [==============================] - 1s 3ms/step - loss: 7.2097 - mean_absolute_error: 1.8273 - val_loss: 16.0168 - val_mean_absolute_error: 2.8244\n",
      "Epoch 26/100\n",
      "303/303 [==============================] - 1s 3ms/step - loss: 7.1040 - mean_absolute_error: 1.8395 - val_loss: 14.7368 - val_mean_absolute_error: 2.5291\n",
      "Epoch 27/100\n",
      "303/303 [==============================] - 1s 3ms/step - loss: 7.6451 - mean_absolute_error: 1.8957 - val_loss: 14.3630 - val_mean_absolute_error: 2.5195\n",
      "Epoch 28/100\n",
      "303/303 [==============================] - 1s 3ms/step - loss: 6.8293 - mean_absolute_error: 1.8138 - val_loss: 14.3085 - val_mean_absolute_error: 2.4835\n",
      "Epoch 29/100\n",
      "303/303 [==============================] - 1s 3ms/step - loss: 7.3149 - mean_absolute_error: 1.8144 - val_loss: 15.9302 - val_mean_absolute_error: 2.6365\n",
      "Epoch 30/100\n",
      "303/303 [==============================] - 1s 3ms/step - loss: 7.0167 - mean_absolute_error: 1.8021 - val_loss: 15.0717 - val_mean_absolute_error: 2.6686\n",
      "Epoch 31/100\n",
      "303/303 [==============================] - 1s 3ms/step - loss: 6.6738 - mean_absolute_error: 1.7814 - val_loss: 14.8551 - val_mean_absolute_error: 2.4656\n",
      "Epoch 32/100\n",
      "303/303 [==============================] - 1s 3ms/step - loss: 6.7579 - mean_absolute_error: 1.7666 - val_loss: 19.4657 - val_mean_absolute_error: 2.8786\n",
      "Epoch 33/100\n",
      "303/303 [==============================] - 1s 3ms/step - loss: 6.6947 - mean_absolute_error: 1.7374 - val_loss: 15.7407 - val_mean_absolute_error: 2.5713\n",
      "Epoch 34/100\n",
      "303/303 [==============================] - 1s 3ms/step - loss: 6.4265 - mean_absolute_error: 1.7017 - val_loss: 15.1095 - val_mean_absolute_error: 2.6363\n",
      "Epoch 35/100\n",
      "303/303 [==============================] - 1s 3ms/step - loss: 6.3774 - mean_absolute_error: 1.7341 - val_loss: 16.3066 - val_mean_absolute_error: 2.9265\n",
      "Epoch 36/100\n",
      "303/303 [==============================] - 1s 3ms/step - loss: 6.4464 - mean_absolute_error: 1.7215 - val_loss: 15.1674 - val_mean_absolute_error: 2.6065\n",
      "Epoch 37/100\n",
      "303/303 [==============================] - 1s 3ms/step - loss: 6.1594 - mean_absolute_error: 1.7052 - val_loss: 16.2328 - val_mean_absolute_error: 2.8529\n",
      "Epoch 38/100\n",
      "303/303 [==============================] - 1s 3ms/step - loss: 6.2986 - mean_absolute_error: 1.6937 - val_loss: 16.8686 - val_mean_absolute_error: 2.8794\n",
      "Epoch 39/100\n",
      "303/303 [==============================] - 1s 2ms/step - loss: 6.3418 - mean_absolute_error: 1.7252 - val_loss: 16.9593 - val_mean_absolute_error: 2.9252\n",
      "Epoch 40/100\n",
      "303/303 [==============================] - 1s 3ms/step - loss: 5.9365 - mean_absolute_error: 1.7010 - val_loss: 15.7505 - val_mean_absolute_error: 2.6769\n",
      "Epoch 41/100\n",
      "303/303 [==============================] - 1s 3ms/step - loss: 5.9610 - mean_absolute_error: 1.6871 - val_loss: 17.3573 - val_mean_absolute_error: 2.6707\n",
      "Epoch 42/100\n",
      "303/303 [==============================] - 1s 3ms/step - loss: 6.1027 - mean_absolute_error: 1.6649 - val_loss: 14.5115 - val_mean_absolute_error: 2.5028\n",
      "Epoch 43/100\n",
      "303/303 [==============================] - 1s 3ms/step - loss: 5.7391 - mean_absolute_error: 1.6449 - val_loss: 15.8302 - val_mean_absolute_error: 2.5979\n",
      "Epoch 44/100\n",
      "303/303 [==============================] - 1s 3ms/step - loss: 5.7848 - mean_absolute_error: 1.6282 - val_loss: 18.6368 - val_mean_absolute_error: 2.7907\n",
      "Epoch 45/100\n",
      "303/303 [==============================] - 1s 3ms/step - loss: 5.7450 - mean_absolute_error: 1.6693 - val_loss: 16.1741 - val_mean_absolute_error: 2.7007\n",
      "Epoch 46/100\n",
      "303/303 [==============================] - 1s 3ms/step - loss: 5.7241 - mean_absolute_error: 1.5923 - val_loss: 16.1890 - val_mean_absolute_error: 2.6327\n",
      "Epoch 47/100\n",
      "303/303 [==============================] - 1s 2ms/step - loss: 5.5534 - mean_absolute_error: 1.6097 - val_loss: 16.0153 - val_mean_absolute_error: 2.7579\n",
      "Epoch 48/100\n",
      "303/303 [==============================] - 1s 3ms/step - loss: 5.6556 - mean_absolute_error: 1.6266 - val_loss: 16.6703 - val_mean_absolute_error: 2.8209\n",
      "Epoch 49/100\n",
      "303/303 [==============================] - 1s 2ms/step - loss: 5.5176 - mean_absolute_error: 1.5731 - val_loss: 16.0444 - val_mean_absolute_error: 2.7314\n",
      "Epoch 50/100\n",
      "303/303 [==============================] - 1s 3ms/step - loss: 5.2177 - mean_absolute_error: 1.5500 - val_loss: 16.4702 - val_mean_absolute_error: 2.6850\n",
      "Epoch 51/100\n",
      "303/303 [==============================] - 1s 3ms/step - loss: 5.1401 - mean_absolute_error: 1.5623 - val_loss: 15.8217 - val_mean_absolute_error: 2.7072\n",
      "Epoch 52/100\n",
      "303/303 [==============================] - 1s 3ms/step - loss: 4.8361 - mean_absolute_error: 1.5330 - val_loss: 17.2457 - val_mean_absolute_error: 3.0017\n",
      "Epoch 53/100\n",
      "303/303 [==============================] - 1s 3ms/step - loss: 5.0843 - mean_absolute_error: 1.5624 - val_loss: 14.8336 - val_mean_absolute_error: 2.5657\n",
      "Epoch 54/100\n",
      "303/303 [==============================] - 1s 3ms/step - loss: 4.7069 - mean_absolute_error: 1.5110 - val_loss: 16.3293 - val_mean_absolute_error: 2.5814\n",
      "Epoch 55/100\n",
      "303/303 [==============================] - 1s 2ms/step - loss: 5.0636 - mean_absolute_error: 1.5750 - val_loss: 16.0460 - val_mean_absolute_error: 2.6082\n",
      "Epoch 56/100\n",
      "303/303 [==============================] - 1s 3ms/step - loss: 5.1381 - mean_absolute_error: 1.5536 - val_loss: 16.2549 - val_mean_absolute_error: 2.7543\n",
      "Epoch 57/100\n",
      "303/303 [==============================] - 1s 3ms/step - loss: 4.7327 - mean_absolute_error: 1.5206 - val_loss: 16.2365 - val_mean_absolute_error: 2.5562\n",
      "Epoch 58/100\n",
      "303/303 [==============================] - 1s 3ms/step - loss: 4.8192 - mean_absolute_error: 1.4800 - val_loss: 16.7190 - val_mean_absolute_error: 2.6942\n",
      "Epoch 59/100\n",
      "303/303 [==============================] - 1s 3ms/step - loss: 4.7005 - mean_absolute_error: 1.5178 - val_loss: 16.2159 - val_mean_absolute_error: 2.7419\n",
      "Epoch 60/100\n",
      "303/303 [==============================] - 1s 2ms/step - loss: 5.1330 - mean_absolute_error: 1.5471 - val_loss: 16.0706 - val_mean_absolute_error: 2.7892\n",
      "Epoch 61/100\n",
      "303/303 [==============================] - 1s 3ms/step - loss: 4.4803 - mean_absolute_error: 1.5061 - val_loss: 15.7112 - val_mean_absolute_error: 2.7615\n",
      "Epoch 62/100\n",
      "303/303 [==============================] - 1s 3ms/step - loss: 4.7445 - mean_absolute_error: 1.5070 - val_loss: 16.5654 - val_mean_absolute_error: 2.8649\n",
      "Epoch 63/100\n",
      "303/303 [==============================] - 1s 3ms/step - loss: 4.1078 - mean_absolute_error: 1.4542 - val_loss: 15.8070 - val_mean_absolute_error: 2.5023\n",
      "Epoch 64/100\n",
      "303/303 [==============================] - 1s 3ms/step - loss: 4.8318 - mean_absolute_error: 1.4776 - val_loss: 15.0857 - val_mean_absolute_error: 2.6999\n",
      "Epoch 65/100\n",
      "303/303 [==============================] - 1s 3ms/step - loss: 4.0935 - mean_absolute_error: 1.4546 - val_loss: 15.9863 - val_mean_absolute_error: 2.6587\n",
      "Epoch 66/100\n",
      "303/303 [==============================] - 1s 3ms/step - loss: 4.2405 - mean_absolute_error: 1.4347 - val_loss: 16.6463 - val_mean_absolute_error: 2.7001\n",
      "Epoch 67/100\n",
      "303/303 [==============================] - 1s 3ms/step - loss: 4.3456 - mean_absolute_error: 1.4546 - val_loss: 15.2668 - val_mean_absolute_error: 2.5390\n",
      "Epoch 68/100\n",
      "303/303 [==============================] - 1s 2ms/step - loss: 4.2193 - mean_absolute_error: 1.4430 - val_loss: 18.8316 - val_mean_absolute_error: 2.9550\n",
      "Epoch 69/100\n",
      "303/303 [==============================] - 1s 3ms/step - loss: 4.1975 - mean_absolute_error: 1.4620 - val_loss: 17.3010 - val_mean_absolute_error: 2.7045\n",
      "Epoch 70/100\n",
      "303/303 [==============================] - 1s 2ms/step - loss: 4.2134 - mean_absolute_error: 1.4752 - val_loss: 14.7633 - val_mean_absolute_error: 2.4489\n",
      "Epoch 71/100\n",
      "303/303 [==============================] - 1s 2ms/step - loss: 4.2437 - mean_absolute_error: 1.4734 - val_loss: 16.1963 - val_mean_absolute_error: 2.6868\n",
      "Epoch 72/100\n",
      "303/303 [==============================] - 1s 2ms/step - loss: 4.1155 - mean_absolute_error: 1.4465 - val_loss: 15.9601 - val_mean_absolute_error: 2.7265\n",
      "Epoch 73/100\n",
      "303/303 [==============================] - 1s 3ms/step - loss: 4.2414 - mean_absolute_error: 1.4167 - val_loss: 16.3590 - val_mean_absolute_error: 2.7999\n",
      "Epoch 74/100\n",
      "303/303 [==============================] - 1s 3ms/step - loss: 4.1859 - mean_absolute_error: 1.4215 - val_loss: 17.4687 - val_mean_absolute_error: 2.7808\n",
      "Epoch 75/100\n",
      "303/303 [==============================] - 1s 2ms/step - loss: 4.1436 - mean_absolute_error: 1.3893 - val_loss: 16.0722 - val_mean_absolute_error: 2.6750\n",
      "Epoch 76/100\n",
      "303/303 [==============================] - 1s 2ms/step - loss: 4.1233 - mean_absolute_error: 1.3911 - val_loss: 15.2592 - val_mean_absolute_error: 2.5214\n",
      "Epoch 77/100\n",
      "303/303 [==============================] - 1s 3ms/step - loss: 3.9757 - mean_absolute_error: 1.3823 - val_loss: 16.7758 - val_mean_absolute_error: 2.6894\n",
      "Epoch 78/100\n",
      "303/303 [==============================] - 1s 3ms/step - loss: 3.9541 - mean_absolute_error: 1.4096 - val_loss: 17.1952 - val_mean_absolute_error: 2.6514\n",
      "Epoch 79/100\n",
      "303/303 [==============================] - 1s 2ms/step - loss: 4.0130 - mean_absolute_error: 1.3907 - val_loss: 16.7686 - val_mean_absolute_error: 2.7357\n",
      "Epoch 80/100\n",
      "303/303 [==============================] - 1s 3ms/step - loss: 3.8137 - mean_absolute_error: 1.3714 - val_loss: 18.9026 - val_mean_absolute_error: 2.9734\n",
      "Epoch 81/100\n",
      "303/303 [==============================] - 1s 3ms/step - loss: 4.0004 - mean_absolute_error: 1.3948 - val_loss: 17.5096 - val_mean_absolute_error: 2.8346\n",
      "Epoch 82/100\n",
      "303/303 [==============================] - 1s 3ms/step - loss: 3.9713 - mean_absolute_error: 1.3670 - val_loss: 17.1204 - val_mean_absolute_error: 2.7230\n",
      "Epoch 83/100\n",
      "303/303 [==============================] - 1s 3ms/step - loss: 3.8778 - mean_absolute_error: 1.3797 - val_loss: 17.6465 - val_mean_absolute_error: 2.9091\n",
      "Epoch 84/100\n",
      "303/303 [==============================] - 1s 2ms/step - loss: 3.6478 - mean_absolute_error: 1.3683 - val_loss: 17.7459 - val_mean_absolute_error: 2.8648\n",
      "Epoch 85/100\n",
      "303/303 [==============================] - 1s 3ms/step - loss: 3.6971 - mean_absolute_error: 1.3566 - val_loss: 17.2198 - val_mean_absolute_error: 2.7469\n",
      "Epoch 86/100\n",
      "303/303 [==============================] - 1s 2ms/step - loss: 3.6565 - mean_absolute_error: 1.3544 - val_loss: 16.8298 - val_mean_absolute_error: 2.7634\n",
      "Epoch 87/100\n",
      "303/303 [==============================] - 1s 2ms/step - loss: 3.7292 - mean_absolute_error: 1.3653 - val_loss: 16.8486 - val_mean_absolute_error: 2.7216\n",
      "Epoch 88/100\n",
      "303/303 [==============================] - 1s 3ms/step - loss: 3.7945 - mean_absolute_error: 1.3487 - val_loss: 17.6988 - val_mean_absolute_error: 2.8723\n",
      "Epoch 89/100\n",
      "303/303 [==============================] - 1s 2ms/step - loss: 3.4032 - mean_absolute_error: 1.3066 - val_loss: 17.4532 - val_mean_absolute_error: 2.8682\n",
      "Epoch 90/100\n",
      "303/303 [==============================] - 1s 2ms/step - loss: 3.5980 - mean_absolute_error: 1.3524 - val_loss: 17.2839 - val_mean_absolute_error: 2.7215\n",
      "Epoch 91/100\n",
      "303/303 [==============================] - 1s 2ms/step - loss: 3.3701 - mean_absolute_error: 1.2686 - val_loss: 17.5936 - val_mean_absolute_error: 2.8189\n",
      "Epoch 92/100\n",
      "303/303 [==============================] - 1s 3ms/step - loss: 3.6426 - mean_absolute_error: 1.3748 - val_loss: 16.4951 - val_mean_absolute_error: 2.6719\n",
      "Epoch 93/100\n",
      "303/303 [==============================] - 1s 3ms/step - loss: 3.4359 - mean_absolute_error: 1.2683 - val_loss: 17.5952 - val_mean_absolute_error: 2.8679\n",
      "Epoch 94/100\n",
      "303/303 [==============================] - 1s 2ms/step - loss: 3.5339 - mean_absolute_error: 1.3357 - val_loss: 16.7936 - val_mean_absolute_error: 2.8005\n",
      "Epoch 95/100\n",
      "303/303 [==============================] - 1s 3ms/step - loss: 3.3767 - mean_absolute_error: 1.2905 - val_loss: 18.1073 - val_mean_absolute_error: 2.7770\n",
      "Epoch 96/100\n",
      "303/303 [==============================] - 1s 2ms/step - loss: 3.4227 - mean_absolute_error: 1.2936 - val_loss: 19.5068 - val_mean_absolute_error: 3.0885\n",
      "Epoch 97/100\n",
      "303/303 [==============================] - 1s 2ms/step - loss: 3.2751 - mean_absolute_error: 1.2641 - val_loss: 16.2410 - val_mean_absolute_error: 2.6597\n",
      "Epoch 98/100\n",
      "303/303 [==============================] - 1s 3ms/step - loss: 3.2273 - mean_absolute_error: 1.2918 - val_loss: 18.8868 - val_mean_absolute_error: 3.0104\n",
      "Epoch 99/100\n",
      "303/303 [==============================] - 1s 2ms/step - loss: 3.1621 - mean_absolute_error: 1.3120 - val_loss: 18.3113 - val_mean_absolute_error: 2.8336\n",
      "Epoch 100/100\n",
      "303/303 [==============================] - 1s 3ms/step - loss: 3.0714 - mean_absolute_error: 1.2495 - val_loss: 17.9770 - val_mean_absolute_error: 2.8730\n",
      "Train on 303 samples, validate on 101 samples\n",
      "Epoch 1/100\n",
      "303/303 [==============================] - 2s 6ms/step - loss: 161.1691 - mean_absolute_error: 9.2735 - val_loss: 59.0752 - val_mean_absolute_error: 5.5385\n",
      "Epoch 2/100\n",
      "303/303 [==============================] - 1s 3ms/step - loss: 27.2357 - mean_absolute_error: 3.6824 - val_loss: 30.3151 - val_mean_absolute_error: 3.6036\n",
      "Epoch 3/100\n",
      "303/303 [==============================] - 1s 3ms/step - loss: 19.3779 - mean_absolute_error: 2.8924 - val_loss: 29.2643 - val_mean_absolute_error: 3.7153\n",
      "Epoch 4/100\n",
      "303/303 [==============================] - 1s 3ms/step - loss: 16.6059 - mean_absolute_error: 2.6232 - val_loss: 22.3984 - val_mean_absolute_error: 3.0228\n",
      "Epoch 5/100\n",
      "303/303 [==============================] - 1s 2ms/step - loss: 14.5970 - mean_absolute_error: 2.4817 - val_loss: 21.8209 - val_mean_absolute_error: 3.0455\n",
      "Epoch 6/100\n",
      "303/303 [==============================] - 1s 3ms/step - loss: 13.4977 - mean_absolute_error: 2.3982 - val_loss: 19.0881 - val_mean_absolute_error: 2.7607\n",
      "Epoch 7/100\n",
      "303/303 [==============================] - 1s 2ms/step - loss: 12.3792 - mean_absolute_error: 2.3641 - val_loss: 17.6560 - val_mean_absolute_error: 2.6683\n",
      "Epoch 8/100\n",
      "303/303 [==============================] - 1s 3ms/step - loss: 11.8714 - mean_absolute_error: 2.3203 - val_loss: 17.0964 - val_mean_absolute_error: 2.9423\n",
      "Epoch 9/100\n",
      "303/303 [==============================] - 1s 3ms/step - loss: 11.6322 - mean_absolute_error: 2.2962 - val_loss: 15.6861 - val_mean_absolute_error: 2.6713\n",
      "Epoch 10/100\n",
      "303/303 [==============================] - 1s 3ms/step - loss: 11.3310 - mean_absolute_error: 2.1917 - val_loss: 17.5642 - val_mean_absolute_error: 2.6619\n",
      "Epoch 11/100\n",
      "303/303 [==============================] - 1s 3ms/step - loss: 10.8493 - mean_absolute_error: 2.1653 - val_loss: 15.1006 - val_mean_absolute_error: 2.5189\n",
      "Epoch 12/100\n",
      "303/303 [==============================] - 1s 3ms/step - loss: 10.5985 - mean_absolute_error: 2.1551 - val_loss: 16.8399 - val_mean_absolute_error: 2.7091\n",
      "Epoch 13/100\n",
      "303/303 [==============================] - 1s 3ms/step - loss: 10.8075 - mean_absolute_error: 2.1418 - val_loss: 15.2267 - val_mean_absolute_error: 2.7226\n",
      "Epoch 14/100\n",
      "303/303 [==============================] - 1s 2ms/step - loss: 10.0941 - mean_absolute_error: 2.0755 - val_loss: 17.3294 - val_mean_absolute_error: 2.8500\n",
      "Epoch 15/100\n",
      "303/303 [==============================] - 1s 3ms/step - loss: 10.2347 - mean_absolute_error: 2.1309 - val_loss: 14.5832 - val_mean_absolute_error: 2.5268\n",
      "Epoch 16/100\n",
      "303/303 [==============================] - 1s 3ms/step - loss: 9.5561 - mean_absolute_error: 2.0501 - val_loss: 15.0029 - val_mean_absolute_error: 2.7198\n",
      "Epoch 17/100\n",
      "303/303 [==============================] - 1s 3ms/step - loss: 9.2445 - mean_absolute_error: 2.0332 - val_loss: 15.7185 - val_mean_absolute_error: 2.8287\n",
      "Epoch 18/100\n",
      "303/303 [==============================] - 1s 3ms/step - loss: 9.3911 - mean_absolute_error: 2.0234 - val_loss: 14.7657 - val_mean_absolute_error: 2.7060\n",
      "Epoch 19/100\n",
      "303/303 [==============================] - 1s 3ms/step - loss: 9.2739 - mean_absolute_error: 2.0339 - val_loss: 14.2986 - val_mean_absolute_error: 2.4829\n",
      "Epoch 20/100\n",
      "303/303 [==============================] - 1s 2ms/step - loss: 9.0953 - mean_absolute_error: 1.9864 - val_loss: 13.7999 - val_mean_absolute_error: 2.4906\n",
      "Epoch 21/100\n",
      "303/303 [==============================] - 1s 3ms/step - loss: 9.2785 - mean_absolute_error: 2.0008 - val_loss: 17.7117 - val_mean_absolute_error: 2.8885\n",
      "Epoch 22/100\n",
      "303/303 [==============================] - 1s 3ms/step - loss: 8.7400 - mean_absolute_error: 1.9652 - val_loss: 12.7667 - val_mean_absolute_error: 2.3832\n",
      "Epoch 23/100\n",
      "303/303 [==============================] - 1s 3ms/step - loss: 8.6957 - mean_absolute_error: 1.8858 - val_loss: 13.2376 - val_mean_absolute_error: 2.4639\n",
      "Epoch 24/100\n",
      "303/303 [==============================] - 1s 3ms/step - loss: 8.5315 - mean_absolute_error: 1.9455 - val_loss: 13.4446 - val_mean_absolute_error: 2.6039\n",
      "Epoch 25/100\n",
      "303/303 [==============================] - 1s 3ms/step - loss: 8.1468 - mean_absolute_error: 1.8410 - val_loss: 13.4800 - val_mean_absolute_error: 2.6280\n",
      "Epoch 26/100\n",
      "303/303 [==============================] - 1s 2ms/step - loss: 8.3627 - mean_absolute_error: 1.8932 - val_loss: 12.8622 - val_mean_absolute_error: 2.4714\n",
      "Epoch 27/100\n",
      "303/303 [==============================] - 1s 3ms/step - loss: 8.4339 - mean_absolute_error: 1.8981 - val_loss: 12.4532 - val_mean_absolute_error: 2.4605\n",
      "Epoch 28/100\n",
      "303/303 [==============================] - 1s 2ms/step - loss: 7.8839 - mean_absolute_error: 1.8747 - val_loss: 13.9510 - val_mean_absolute_error: 2.5594\n",
      "Epoch 29/100\n",
      "303/303 [==============================] - 1s 2ms/step - loss: 8.1726 - mean_absolute_error: 1.8448 - val_loss: 13.3128 - val_mean_absolute_error: 2.6106\n",
      "Epoch 30/100\n",
      "303/303 [==============================] - 1s 3ms/step - loss: 7.5688 - mean_absolute_error: 1.8214 - val_loss: 13.1596 - val_mean_absolute_error: 2.4309\n",
      "Epoch 31/100\n",
      "303/303 [==============================] - 1s 3ms/step - loss: 7.8398 - mean_absolute_error: 1.8788 - val_loss: 13.1958 - val_mean_absolute_error: 2.4413\n",
      "Epoch 32/100\n",
      "303/303 [==============================] - 1s 3ms/step - loss: 7.3216 - mean_absolute_error: 1.8271 - val_loss: 13.8369 - val_mean_absolute_error: 2.5271\n",
      "Epoch 33/100\n",
      "303/303 [==============================] - 1s 2ms/step - loss: 7.6345 - mean_absolute_error: 1.8037 - val_loss: 13.1426 - val_mean_absolute_error: 2.5102\n",
      "Epoch 34/100\n",
      "303/303 [==============================] - 1s 3ms/step - loss: 7.4194 - mean_absolute_error: 1.7957 - val_loss: 15.5774 - val_mean_absolute_error: 2.8026\n",
      "Epoch 35/100\n",
      "303/303 [==============================] - 1s 3ms/step - loss: 7.2833 - mean_absolute_error: 1.7276 - val_loss: 12.8087 - val_mean_absolute_error: 2.5003\n",
      "Epoch 36/100\n",
      "303/303 [==============================] - 1s 2ms/step - loss: 6.8809 - mean_absolute_error: 1.7395 - val_loss: 13.2107 - val_mean_absolute_error: 2.4406\n",
      "Epoch 37/100\n",
      "303/303 [==============================] - 1s 2ms/step - loss: 7.3832 - mean_absolute_error: 1.7057 - val_loss: 14.2864 - val_mean_absolute_error: 2.6688\n",
      "Epoch 38/100\n",
      "303/303 [==============================] - 1s 3ms/step - loss: 7.5686 - mean_absolute_error: 1.7532 - val_loss: 12.8674 - val_mean_absolute_error: 2.5189\n",
      "Epoch 39/100\n",
      "303/303 [==============================] - 1s 3ms/step - loss: 6.4569 - mean_absolute_error: 1.7183 - val_loss: 13.6526 - val_mean_absolute_error: 2.5577\n",
      "Epoch 40/100\n",
      "303/303 [==============================] - 1s 2ms/step - loss: 7.0025 - mean_absolute_error: 1.7138 - val_loss: 14.9485 - val_mean_absolute_error: 2.8377\n",
      "Epoch 41/100\n",
      "303/303 [==============================] - 1s 3ms/step - loss: 7.1814 - mean_absolute_error: 1.6818 - val_loss: 12.9646 - val_mean_absolute_error: 2.5369\n",
      "Epoch 42/100\n",
      "303/303 [==============================] - 1s 3ms/step - loss: 6.7108 - mean_absolute_error: 1.6532 - val_loss: 14.9783 - val_mean_absolute_error: 2.7695\n",
      "Epoch 43/100\n",
      "303/303 [==============================] - 1s 3ms/step - loss: 7.3206 - mean_absolute_error: 1.6746 - val_loss: 13.9985 - val_mean_absolute_error: 2.6252\n",
      "Epoch 44/100\n",
      "303/303 [==============================] - 1s 3ms/step - loss: 6.8962 - mean_absolute_error: 1.6585 - val_loss: 14.4719 - val_mean_absolute_error: 2.7519\n",
      "Epoch 45/100\n",
      "303/303 [==============================] - 1s 3ms/step - loss: 6.4899 - mean_absolute_error: 1.6664 - val_loss: 14.0614 - val_mean_absolute_error: 2.5918\n",
      "Epoch 46/100\n",
      "303/303 [==============================] - 1s 3ms/step - loss: 6.3100 - mean_absolute_error: 1.6469 - val_loss: 12.9803 - val_mean_absolute_error: 2.5476\n",
      "Epoch 47/100\n",
      "303/303 [==============================] - 1s 3ms/step - loss: 6.4552 - mean_absolute_error: 1.6203 - val_loss: 14.5579 - val_mean_absolute_error: 2.7100\n",
      "Epoch 48/100\n",
      "303/303 [==============================] - 1s 2ms/step - loss: 6.5909 - mean_absolute_error: 1.6282 - val_loss: 12.8868 - val_mean_absolute_error: 2.5464\n",
      "Epoch 49/100\n",
      "303/303 [==============================] - 1s 3ms/step - loss: 6.5351 - mean_absolute_error: 1.6397 - val_loss: 13.0469 - val_mean_absolute_error: 2.5005\n",
      "Epoch 50/100\n",
      "303/303 [==============================] - 1s 3ms/step - loss: 6.1292 - mean_absolute_error: 1.5976 - val_loss: 17.1782 - val_mean_absolute_error: 3.0048\n",
      "Epoch 51/100\n",
      "303/303 [==============================] - 1s 3ms/step - loss: 6.5329 - mean_absolute_error: 1.6737 - val_loss: 12.6096 - val_mean_absolute_error: 2.5183\n",
      "Epoch 52/100\n",
      "303/303 [==============================] - 1s 3ms/step - loss: 6.5453 - mean_absolute_error: 1.6004 - val_loss: 12.8750 - val_mean_absolute_error: 2.4812\n",
      "Epoch 53/100\n",
      "303/303 [==============================] - 1s 2ms/step - loss: 6.0352 - mean_absolute_error: 1.6201 - val_loss: 14.0510 - val_mean_absolute_error: 2.6644\n",
      "Epoch 54/100\n",
      "303/303 [==============================] - 1s 3ms/step - loss: 6.1258 - mean_absolute_error: 1.5905 - val_loss: 13.9242 - val_mean_absolute_error: 2.6104\n",
      "Epoch 55/100\n",
      "303/303 [==============================] - 1s 3ms/step - loss: 6.3631 - mean_absolute_error: 1.5610 - val_loss: 13.9465 - val_mean_absolute_error: 2.5925\n",
      "Epoch 56/100\n",
      "303/303 [==============================] - 1s 3ms/step - loss: 5.9617 - mean_absolute_error: 1.5754 - val_loss: 13.0800 - val_mean_absolute_error: 2.4901\n",
      "Epoch 57/100\n",
      "303/303 [==============================] - 1s 3ms/step - loss: 6.2934 - mean_absolute_error: 1.5354 - val_loss: 12.9129 - val_mean_absolute_error: 2.4297\n",
      "Epoch 58/100\n",
      "303/303 [==============================] - 1s 3ms/step - loss: 5.8775 - mean_absolute_error: 1.5861 - val_loss: 13.6167 - val_mean_absolute_error: 2.6409\n",
      "Epoch 59/100\n",
      "303/303 [==============================] - 1s 3ms/step - loss: 5.9685 - mean_absolute_error: 1.6056 - val_loss: 12.8798 - val_mean_absolute_error: 2.4785\n",
      "Epoch 60/100\n",
      "303/303 [==============================] - 1s 3ms/step - loss: 6.0171 - mean_absolute_error: 1.6092 - val_loss: 13.2758 - val_mean_absolute_error: 2.5812\n",
      "Epoch 61/100\n",
      "303/303 [==============================] - 1s 3ms/step - loss: 6.3836 - mean_absolute_error: 1.5575 - val_loss: 12.2851 - val_mean_absolute_error: 2.3854\n",
      "Epoch 62/100\n",
      "303/303 [==============================] - 1s 3ms/step - loss: 5.8193 - mean_absolute_error: 1.4840 - val_loss: 14.4780 - val_mean_absolute_error: 2.6864\n",
      "Epoch 63/100\n",
      "303/303 [==============================] - 1s 3ms/step - loss: 6.0106 - mean_absolute_error: 1.5245 - val_loss: 14.4660 - val_mean_absolute_error: 2.6742\n",
      "Epoch 64/100\n",
      "303/303 [==============================] - 1s 3ms/step - loss: 5.4877 - mean_absolute_error: 1.5307 - val_loss: 13.7428 - val_mean_absolute_error: 2.6719\n",
      "Epoch 65/100\n",
      "303/303 [==============================] - 1s 3ms/step - loss: 5.6047 - mean_absolute_error: 1.4994 - val_loss: 12.6383 - val_mean_absolute_error: 2.4764\n",
      "Epoch 66/100\n",
      "303/303 [==============================] - 1s 3ms/step - loss: 5.7174 - mean_absolute_error: 1.5243 - val_loss: 14.6423 - val_mean_absolute_error: 2.7191\n",
      "Epoch 67/100\n",
      "303/303 [==============================] - 1s 3ms/step - loss: 5.7568 - mean_absolute_error: 1.4973 - val_loss: 13.1553 - val_mean_absolute_error: 2.5138\n",
      "Epoch 68/100\n",
      "303/303 [==============================] - 1s 3ms/step - loss: 5.6968 - mean_absolute_error: 1.5070 - val_loss: 13.4462 - val_mean_absolute_error: 2.6021\n",
      "Epoch 69/100\n",
      "303/303 [==============================] - 1s 3ms/step - loss: 5.5717 - mean_absolute_error: 1.5441 - val_loss: 14.2021 - val_mean_absolute_error: 2.6652\n",
      "Epoch 70/100\n",
      "303/303 [==============================] - 1s 3ms/step - loss: 5.6567 - mean_absolute_error: 1.4874 - val_loss: 13.3508 - val_mean_absolute_error: 2.5800\n",
      "Epoch 71/100\n",
      "303/303 [==============================] - 1s 2ms/step - loss: 5.4375 - mean_absolute_error: 1.4420 - val_loss: 15.3119 - val_mean_absolute_error: 2.8300\n",
      "Epoch 72/100\n",
      "303/303 [==============================] - 1s 3ms/step - loss: 5.2495 - mean_absolute_error: 1.5175 - val_loss: 14.3478 - val_mean_absolute_error: 2.7043\n",
      "Epoch 73/100\n",
      "303/303 [==============================] - 1s 3ms/step - loss: 5.5086 - mean_absolute_error: 1.4959 - val_loss: 12.9965 - val_mean_absolute_error: 2.5210\n",
      "Epoch 74/100\n",
      "303/303 [==============================] - 1s 2ms/step - loss: 5.3366 - mean_absolute_error: 1.4346 - val_loss: 13.2654 - val_mean_absolute_error: 2.5558\n",
      "Epoch 75/100\n",
      "303/303 [==============================] - 1s 3ms/step - loss: 5.0192 - mean_absolute_error: 1.4283 - val_loss: 12.8985 - val_mean_absolute_error: 2.5718\n",
      "Epoch 76/100\n",
      "303/303 [==============================] - 1s 3ms/step - loss: 5.1709 - mean_absolute_error: 1.4450 - val_loss: 12.8298 - val_mean_absolute_error: 2.5045\n",
      "Epoch 77/100\n",
      "303/303 [==============================] - 1s 3ms/step - loss: 4.9800 - mean_absolute_error: 1.4496 - val_loss: 12.7101 - val_mean_absolute_error: 2.4955\n",
      "Epoch 78/100\n",
      "303/303 [==============================] - 1s 2ms/step - loss: 5.1511 - mean_absolute_error: 1.4130 - val_loss: 13.0243 - val_mean_absolute_error: 2.5225\n",
      "Epoch 79/100\n",
      "303/303 [==============================] - 1s 3ms/step - loss: 5.0040 - mean_absolute_error: 1.3962 - val_loss: 13.9200 - val_mean_absolute_error: 2.6491\n",
      "Epoch 80/100\n",
      "303/303 [==============================] - 1s 3ms/step - loss: 5.1666 - mean_absolute_error: 1.4568 - val_loss: 13.4209 - val_mean_absolute_error: 2.5849\n",
      "Epoch 81/100\n",
      "303/303 [==============================] - 1s 3ms/step - loss: 5.4566 - mean_absolute_error: 1.3732 - val_loss: 13.6537 - val_mean_absolute_error: 2.6582\n",
      "Epoch 82/100\n",
      "303/303 [==============================] - 1s 3ms/step - loss: 5.1410 - mean_absolute_error: 1.4811 - val_loss: 13.7450 - val_mean_absolute_error: 2.5642\n",
      "Epoch 83/100\n",
      "303/303 [==============================] - 1s 3ms/step - loss: 5.1647 - mean_absolute_error: 1.4516 - val_loss: 12.6312 - val_mean_absolute_error: 2.4712\n",
      "Epoch 84/100\n",
      "303/303 [==============================] - 1s 2ms/step - loss: 5.0110 - mean_absolute_error: 1.4310 - val_loss: 13.9929 - val_mean_absolute_error: 2.6692\n",
      "Epoch 85/100\n",
      "303/303 [==============================] - 1s 3ms/step - loss: 5.2449 - mean_absolute_error: 1.4513 - val_loss: 12.8510 - val_mean_absolute_error: 2.5269\n",
      "Epoch 86/100\n",
      "303/303 [==============================] - 1s 3ms/step - loss: 4.8921 - mean_absolute_error: 1.4149 - val_loss: 12.9375 - val_mean_absolute_error: 2.5274\n",
      "Epoch 87/100\n",
      "303/303 [==============================] - 1s 3ms/step - loss: 4.5319 - mean_absolute_error: 1.3717 - val_loss: 13.1106 - val_mean_absolute_error: 2.5407\n",
      "Epoch 88/100\n",
      "303/303 [==============================] - 1s 3ms/step - loss: 4.6478 - mean_absolute_error: 1.3528 - val_loss: 14.2662 - val_mean_absolute_error: 2.6808\n",
      "Epoch 89/100\n",
      "303/303 [==============================] - 1s 3ms/step - loss: 4.6304 - mean_absolute_error: 1.4215 - val_loss: 13.2423 - val_mean_absolute_error: 2.4927\n",
      "Epoch 90/100\n",
      "303/303 [==============================] - 1s 3ms/step - loss: 4.6939 - mean_absolute_error: 1.3767 - val_loss: 14.3266 - val_mean_absolute_error: 2.7032\n",
      "Epoch 91/100\n",
      "303/303 [==============================] - 1s 3ms/step - loss: 4.5441 - mean_absolute_error: 1.3275 - val_loss: 13.0897 - val_mean_absolute_error: 2.5974\n",
      "Epoch 92/100\n",
      "303/303 [==============================] - 1s 2ms/step - loss: 4.7593 - mean_absolute_error: 1.3512 - val_loss: 13.1551 - val_mean_absolute_error: 2.4801\n",
      "Epoch 93/100\n",
      "303/303 [==============================] - 1s 3ms/step - loss: 4.7722 - mean_absolute_error: 1.3457 - val_loss: 18.0189 - val_mean_absolute_error: 3.1116\n",
      "Epoch 94/100\n",
      "303/303 [==============================] - 1s 3ms/step - loss: 4.7113 - mean_absolute_error: 1.4168 - val_loss: 12.2138 - val_mean_absolute_error: 2.3703\n",
      "Epoch 95/100\n",
      "303/303 [==============================] - 1s 3ms/step - loss: 4.5505 - mean_absolute_error: 1.3151 - val_loss: 12.0723 - val_mean_absolute_error: 2.3857\n",
      "Epoch 96/100\n",
      "303/303 [==============================] - 1s 3ms/step - loss: 4.5513 - mean_absolute_error: 1.2821 - val_loss: 13.1129 - val_mean_absolute_error: 2.5175\n",
      "Epoch 97/100\n",
      "303/303 [==============================] - 1s 3ms/step - loss: 4.2864 - mean_absolute_error: 1.3762 - val_loss: 12.7609 - val_mean_absolute_error: 2.4741\n",
      "Epoch 98/100\n",
      "303/303 [==============================] - 1s 3ms/step - loss: 4.3968 - mean_absolute_error: 1.3641 - val_loss: 14.0148 - val_mean_absolute_error: 2.6460\n",
      "Epoch 99/100\n",
      "303/303 [==============================] - 1s 4ms/step - loss: 4.2950 - mean_absolute_error: 1.3461 - val_loss: 12.5050 - val_mean_absolute_error: 2.4568\n",
      "Epoch 100/100\n",
      "303/303 [==============================] - 1s 4ms/step - loss: 4.6177 - mean_absolute_error: 1.3341 - val_loss: 13.0588 - val_mean_absolute_error: 2.4502\n"
     ]
    }
   ],
   "source": [
    "from sklearn.model_selection import KFold\n",
    "\n",
    "# fix random seed for reproducibility\n",
    "seed = 7\n",
    "np.random.seed(seed)\n",
    "\n",
    "# define k-fold cross validation test\n",
    "kf = KFold(n_splits=4, random_state=seed)\n",
    "\n",
    "all_mae_histories = []\n",
    "\n",
    "for train, test in kf.split(train_data_scaled, train_targets):\n",
    "    # create model\n",
    "    model = build_model()\n",
    "    history = model.fit(train_data_scaled[train], \n",
    "              train_targets[train], \n",
    "              epochs=100, \n",
    "              batch_size=1, \n",
    "              verbose=1,\n",
    "              validation_data=(train_data_scaled[test], \n",
    "                               train_targets[test]))\n",
    "    mae_history = history.history['val_mean_absolute_error']\n",
    "    all_mae_histories.append(mae_history)"
   ]
  },
  {
   "cell_type": "code",
   "execution_count": 196,
   "metadata": {},
   "outputs": [
    {
     "data": {
      "text/plain": [
       "array([2.06872889, 2.54058853, 2.73671882, 2.65800705])"
      ]
     },
     "execution_count": 196,
     "metadata": {},
     "output_type": "execute_result"
    }
   ],
   "source": [
    "# mae for each k-fold step\n",
    "np.mean(all_mae_histories,axis=1)"
   ]
  },
  {
   "cell_type": "markdown",
   "metadata": {},
   "source": [
    "The different runs do indeed show rather different validation scores, from 2.1 to 2.7. The average (2.5) is a much more reliable metric than any single score - that’s the entire point of K-fold cross-validation. In this case, you’re off by \\$2,500 on average, which is significant considering that the prices range from \\$10,000 to \\$50,000."
   ]
  },
  {
   "cell_type": "code",
   "execution_count": 197,
   "metadata": {},
   "outputs": [
    {
     "data": {
      "text/plain": [
       "2.50101082025188"
      ]
     },
     "execution_count": 197,
     "metadata": {},
     "output_type": "execute_result"
    }
   ],
   "source": [
    "np.mean(all_mae_histories)"
   ]
  },
  {
   "cell_type": "code",
   "execution_count": 198,
   "metadata": {},
   "outputs": [],
   "source": [
    "# Building the history of successive mean K-fold validation scores\n",
    "num_epochs = 100\n",
    "average_mae_history = [np.mean([x[i] for x in all_mae_histories]) for i in range(num_epochs)]"
   ]
  },
  {
   "cell_type": "code",
   "execution_count": 201,
   "metadata": {},
   "outputs": [
    {
     "data": {
      "image/png": "[encoded data removed]",
      "text/plain": [
       "<matplotlib.figure.Figure at 0x18284feb8>"
      ]
     },
     "metadata": {},
     "output_type": "display_data"
    }
   ],
   "source": [
    "import matplotlib.pyplot as plt\n",
    "\n",
    "plt.plot(range(1, len(average_mae_history) + 1), average_mae_history)\n",
    "plt.xlabel('Epochs')\n",
    "plt.ylabel('Validation MAE')\n",
    "plt.show()"
   ]
  },
  {
   "cell_type": "code",
   "execution_count": 210,
   "metadata": {},
   "outputs": [
    {
     "name": "stdout",
     "output_type": "stream",
     "text": [
      "Minimum MAE: 2.2985\n",
      "Epoch: 69\n"
     ]
    }
   ],
   "source": [
    "epochs_min = np.argmin(average_mae_history)\n",
    "print('Minimum MAE: {:.4f}\\nEpoch: {:d}'.format(average_mae_history[epochs_min],epochs_min))"
   ]
  },
  {
   "cell_type": "code",
   "execution_count": 213,
   "metadata": {},
   "outputs": [
    {
     "name": "stdout",
     "output_type": "stream",
     "text": [
      "102/102 [==============================] - 0s 4ms/step\n"
     ]
    }
   ],
   "source": [
    "# Training the final model\n",
    "\n",
    "model = build_model()\n",
    "model.fit(train_data_scaled, \n",
    "          train_targets,\n",
    "          epochs=69, \n",
    "          batch_size=1, \n",
    "          verbose=0)\n",
    "\n",
    "test_mse_score, test_mae_score = model.evaluate(test_data_scaled, test_targets)"
   ]
  },
  {
   "cell_type": "code",
   "execution_count": 214,
   "metadata": {},
   "outputs": [
    {
     "data": {
      "text/plain": [
       "2.3270663373610554"
      ]
     },
     "execution_count": 214,
     "metadata": {},
     "output_type": "execute_result"
    }
   ],
   "source": [
    "test_mae_score"
   ]
  },
  {
   "cell_type": "markdown",
   "metadata": {},
   "source": [
    "## 6.2 Wrapping up\n",
    "\n",
    "Here’s what you should take away from this example:\n",
    "\n",
    "- **Mean squared error (MSE)** is a **loss function** commonly used for **regression**.\n",
    "- A common **regression metric** is **mean absolute error (MAE)**.\n",
    "- When **features** in the input data have values in **different ranges**, each feature should be **scaled independently** as a preprocessing step.\n",
    "- When there is **little data available, using K-fold validation** is a great way to reliably evaluate a model.\n",
    "- When **little training data** is available, it’s preferable to use a **small network with few hidden layers** (typically only one or two), in order to avoid severe overfitting.\n"
   ]
  },
  {
   "cell_type": "markdown",
   "metadata": {},
   "source": [
    "# 7. Chapter summary\n",
    "\n",
    "- You’re now able to handle the most common kinds of machine-learning tasks on vector data: **binary classification, multiclass classification, and scalar regression**. \n",
    "- You’ll usually need to **preprocess raw data** before feeding it into a neural network.\n",
    "- When your data has features with different ranges, **scale each feature** independently as part of preprocessing.\n",
    "- As training progresses, neural networks eventually begin to **overfit** and obtain worse results on never-before-seen data.\n",
    "- **If you don’t have much training data, use a small network** with only one or two hidden layers, to avoid severe overfitting.\n",
    "- If your data is divided into **many categories**, you may cause information **bottlenecks if you make the intermediate layers too small**.\n",
    "- Regression uses different loss functions and different evaluation metrics than classification.\n",
    "- When you’re working with **little data, K-fold** validation can help reliably evaluate your model."
   ]
  }
 ],
 "metadata": {
  "kernelspec": {
   "display_name": "Python 3",
   "language": "python",
   "name": "python3"
  },
  "language_info": {
   "codemirror_mode": {
    "name": "ipython",
    "version": 3
   },
   "file_extension": ".py",
   "mimetype": "text/x-python",
   "name": "python",
   "nbconvert_exporter": "python",
   "pygments_lexer": "ipython3",
   "version": "3.6.4"
  }
 },
 "nbformat": 4,
 "nbformat_minor": 2
}
